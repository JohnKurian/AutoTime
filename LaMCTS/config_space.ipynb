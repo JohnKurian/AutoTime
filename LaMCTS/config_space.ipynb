{
 "cells": [
  {
   "cell_type": "code",
   "execution_count": 12,
   "metadata": {},
   "outputs": [],
   "source": [
    "config_space = {\n",
    "    'random_forest' : {\n",
    "        'window_length': [3,100,'int']\n",
    "    },\n",
    "\n",
    "    'k_nearest_neighbor' : {\n",
    "            'neighbors': [1,25, 'int'],\n",
    "            'window_length': [3,40,'int']\n",
    "        },\n",
    "\n",
    "    'theta' : {\n",
    "            'th_sp': [1,50,'int']\n",
    "        }\n",
    "}\n"
   ]
  },
  {
   "cell_type": "code",
   "execution_count": 21,
   "metadata": {},
   "outputs": [],
   "source": [
    "import collections \n",
    "\n",
    "def myprint(d, depth=0, counter=0):\n",
    "    print('depth:', depth)\n",
    "    for k, v in d.items():\n",
    "        counter += 1\n",
    "        if isinstance(v, collections.Mapping):\n",
    "            print('k:', k)\n",
    "            myprint(v, depth+1, counter+1)\n",
    "        else:\n",
    "            print(\"{0} : {1}\".format(k, v))\n",
    "    print('counter:', counter)"
   ]
  },
  {
   "cell_type": "code",
   "execution_count": 22,
   "metadata": {},
   "outputs": [
    {
     "name": "stdout",
     "output_type": "stream",
     "text": [
      "depth: 0\n",
      "k: random_forest\n",
      "depth: 1\n",
      "window_length : [3, 100, 'int']\n",
      "counter: 3\n",
      "k: k_nearest_neighbor\n",
      "depth: 1\n",
      "neighbors : [1, 25, 'int']\n",
      "window_length : [3, 40, 'int']\n",
      "counter: 5\n",
      "k: theta\n",
      "depth: 1\n",
      "th_sp : [1, 50, 'int']\n",
      "counter: 5\n",
      "counter: 3\n"
     ]
    }
   ],
   "source": [
    "myprint(config_space)"
   ]
  },
  {
   "cell_type": "code",
   "execution_count": 25,
   "metadata": {},
   "outputs": [],
   "source": [
    "c = sum([len(i) for i in config_space.values() ])"
   ]
  },
  {
   "cell_type": "code",
   "execution_count": 26,
   "metadata": {},
   "outputs": [
    {
     "data": {
      "text/plain": [
       "4"
      ]
     },
     "execution_count": 26,
     "metadata": {},
     "output_type": "execute_result"
    }
   ],
   "source": [
    "c"
   ]
  },
  {
   "cell_type": "code",
   "execution_count": 35,
   "metadata": {},
   "outputs": [
    {
     "data": {
      "text/plain": [
       "[3, 100, 'int']"
      ]
     },
     "execution_count": 35,
     "metadata": {},
     "output_type": "execute_result"
    }
   ],
   "source": [
    "list(config_space[list(config_space.keys())[0]].values())[0][]"
   ]
  },
  {
   "cell_type": "code",
   "execution_count": 65,
   "metadata": {},
   "outputs": [
    {
     "data": {
      "text/plain": [
       "(array([0, 3, 1, 3, 1]), array([  2, 100,  25,  40,  50]), [[1], [2, 3], [4]])"
      ]
     },
     "execution_count": 65,
     "metadata": {},
     "output_type": "execute_result"
    }
   ],
   "source": [
    "import numpy as np\n",
    "\n",
    "def get_bounds(config_space):\n",
    "    total_bound_dim = sum([len(i) for i in config_space.values()]) + 1\n",
    "    lower_bounds = [0]\n",
    "    upper_bounds = [len(config_space.keys()) - 1]\n",
    "    param_indices = []\n",
    "    curr_param_index = 0\n",
    "    for key in config_space.keys():\n",
    "        param_idx = []\n",
    "        for hp in config_space[key].keys():\n",
    "            curr_param_index = curr_param_index + 1\n",
    "            lower_bounds.append(config_space[key][hp][0])\n",
    "            upper_bounds.append(config_space[key][hp][1])\n",
    "            param_idx.append(curr_param_index)\n",
    "        param_indices.append(param_idx)\n",
    "\n",
    "    return np.array(lower_bounds), np.array(upper_bounds), param_indices\n",
    "        \n",
    "        \n",
    "get_bounds(config_space)"
   ]
  },
  {
   "cell_type": "code",
   "execution_count": 39,
   "metadata": {},
   "outputs": [
    {
     "data": {
      "text/plain": [
       "[0, 0, 0, 0, 0]"
      ]
     },
     "execution_count": 39,
     "metadata": {},
     "output_type": "execute_result"
    }
   ],
   "source": [
    "[0]*5"
   ]
  },
  {
   "cell_type": "code",
   "execution_count": 41,
   "metadata": {},
   "outputs": [
    {
     "data": {
      "text/plain": [
       "3"
      ]
     },
     "execution_count": 41,
     "metadata": {},
     "output_type": "execute_result"
    }
   ],
   "source": [
    "len(config_space.keys())"
   ]
  },
  {
   "cell_type": "code",
   "execution_count": 58,
   "metadata": {},
   "outputs": [],
   "source": [
    "key = list(config_space.keys())[0]"
   ]
  },
  {
   "cell_type": "code",
   "execution_count": 49,
   "metadata": {},
   "outputs": [
    {
     "data": {
      "text/plain": [
       "dict_items([('random_forest', {'window_length': [3, 100, 'int']}), ('k_nearest_neighbor', {'neighbors': [1, 25, 'int'], 'window_length': [3, 40, 'int']}), ('theta', {'th_sp': [1, 50, 'int']})])"
      ]
     },
     "execution_count": 49,
     "metadata": {},
     "output_type": "execute_result"
    }
   ],
   "source": [
    "config_space.items()"
   ]
  },
  {
   "cell_type": "code",
   "execution_count": 59,
   "metadata": {},
   "outputs": [
    {
     "data": {
      "text/plain": [
       "{'window_length': [3, 100, 'int']}"
      ]
     },
     "execution_count": 59,
     "metadata": {},
     "output_type": "execute_result"
    }
   ],
   "source": [
    "config_space[key]"
   ]
  },
  {
   "cell_type": "code",
   "execution_count": 66,
   "metadata": {},
   "outputs": [],
   "source": [
    "def load_data():\n",
    "    return 'x'\n",
    "\n",
    "def model_function():\n",
    "    def wrapper():\n",
    "        print(\"Something is happening before the function is called.\")\n",
    "        func()\n",
    "        print(\"Something is happening after the function is called.\")\n",
    "    return wrapper\n",
    "\n",
    "def say_whee():\n",
    "    print(\"Whee!\")\n",
    "\n",
    "say_whee = my_decorator(say_whee)"
   ]
  },
  {
   "cell_type": "code",
   "execution_count": 68,
   "metadata": {},
   "outputs": [
    {
     "name": "stdout",
     "output_type": "stream",
     "text": [
      "Something is happening before the function is called.\n",
      "Whee!\n",
      "Something is happening after the function is called.\n"
     ]
    }
   ],
   "source": [
    "say_whee()"
   ]
  },
  {
   "cell_type": "code",
   "execution_count": null,
   "metadata": {},
   "outputs": [],
   "source": []
  }
 ],
 "metadata": {
  "kernelspec": {
   "display_name": "Python 3",
   "language": "python",
   "name": "python3"
  },
  "language_info": {
   "codemirror_mode": {
    "name": "ipython",
    "version": 3
   },
   "file_extension": ".py",
   "mimetype": "text/x-python",
   "name": "python",
   "nbconvert_exporter": "python",
   "pygments_lexer": "ipython3",
   "version": "3.7.3"
  }
 },
 "nbformat": 4,
 "nbformat_minor": 2
}
