{
 "cells": [
  {
   "cell_type": "code",
   "execution_count": 1,
   "metadata": {
    "scrolled": true
   },
   "outputs": [
    {
     "name": "stderr",
     "output_type": "stream",
     "text": [
      "C:\\Users\\DEJOKUR\\AppData\\Local\\Continuum\\anaconda3\\lib\\site-packages\\numpy\\_distributor_init.py:32: UserWarning: loaded more than 1 DLL from .libs:\n",
      "C:\\Users\\DEJOKUR\\AppData\\Local\\Continuum\\anaconda3\\lib\\site-packages\\numpy\\.libs\\libopenblas.IPBC74C7KURV7CB2PKT5Z5FNR3SIBV4J.gfortran-win_amd64.dll\n",
      "C:\\Users\\DEJOKUR\\AppData\\Local\\Continuum\\anaconda3\\lib\\site-packages\\numpy\\.libs\\libopenblas.NOIJJG62EMASZI6NYURL6JBKM4EVBGM7.gfortran-win_amd64.dll\n",
      "C:\\Users\\DEJOKUR\\AppData\\Local\\Continuum\\anaconda3\\lib\\site-packages\\numpy\\.libs\\libopenblas.TXA6YQSD3GCQQC22GEQ54J2UDCXDXHWN.gfortran-win_amd64.dll\n",
      "  stacklevel=1)\n"
     ]
    },
    {
     "name": "stdout",
     "output_type": "stream",
     "text": [
      "WARNING:tensorflow:Layer lstm_2 will not use cuDNN kernel since it doesn't meet the cuDNN kernel criteria. It will use generic GPU kernel as fallback when running on GPU\n",
      "WARNING:tensorflow:Layer lstm_3 will not use cuDNN kernel since it doesn't meet the cuDNN kernel criteria. It will use generic GPU kernel as fallback when running on GPU\n",
      "Loaded model from disk\n"
     ]
    }
   ],
   "source": [
    "from tensorflow import keras\n",
    "# MLP for Pima Indians Dataset Serialize to JSON and HDF5\n",
    "from tensorflow.keras.models import Sequential\n",
    "from tensorflow.keras.layers import Dense\n",
    "from tensorflow.keras.models import model_from_json\n",
    "\n",
    "# m = keras.models.load_model('../models/tcn_model')\n",
    "\n",
    "\n",
    "\n",
    "# load json and create model\n",
    "json_file = open('../models/lstm_model/model.json', 'r')\n",
    "loaded_model_json = json_file.read()\n",
    "json_file.close()\n",
    "m = model_from_json(loaded_model_json)\n",
    "# load weights into new model\n",
    "m.load_weights(\"../models/lstm_model/model.h5\")\n",
    "print(\"Loaded model from disk\")\n",
    "\n",
    "# evaluate loaded model on test data\n",
    "m.compile(optimizer='adam', loss='mse')"
   ]
  },
  {
   "cell_type": "code",
   "execution_count": 2,
   "metadata": {},
   "outputs": [
    {
     "name": "stdout",
     "output_type": "stream",
     "text": [
      "WARNING:tensorflow:Layer lstm_2 will not use cuDNN kernel since it doesn't meet the cuDNN kernel criteria. It will use generic GPU kernel as fallback when running on GPU\n",
      "WARNING:tensorflow:Layer lstm_3 will not use cuDNN kernel since it doesn't meet the cuDNN kernel criteria. It will use generic GPU kernel as fallback when running on GPU\n"
     ]
    }
   ],
   "source": [
    "\n",
    "# load and evaluate a saved model\n",
    "from numpy import loadtxt\n",
    "from tensorflow.keras.models import load_model\n",
    "\n",
    "# load model\n",
    "model = load_model('../models/lstm_model.h5')\n",
    "model.compile(optimizer='adam', loss='mse')\n"
   ]
  },
  {
   "cell_type": "code",
   "execution_count": 3,
   "metadata": {},
   "outputs": [],
   "source": [
    "from numpy import array\n",
    "\n",
    "def lag_days(col, x):\n",
    "    df_new = pd.concat([col.shift(i) for i in range(x + 1)], axis=1)\n",
    "    col_names = ['t-' + str(i) for i in range(x + 1)]\n",
    "    df_new.columns = col_names\n",
    "    df_new.columns = list(df_new.columns)[::-1]\n",
    "    return df_new.dropna()\n",
    "\n",
    "\n",
    "def split_sequences(sequences, n_steps_in, n_steps_out):\n",
    "    X, y = list(), list()\n",
    "    for i in range(len(sequences)):\n",
    "        # find the end of this pattern\n",
    "        end_ix = i + n_steps_in\n",
    "        out_end_ix = end_ix + n_steps_out - 1\n",
    "        # check if we are beyond the dataset\n",
    "        if out_end_ix > len(sequences):\n",
    "            break\n",
    "        # gather input and output parts of the pattern\n",
    "        seq_x, seq_y = sequences[i:end_ix, :-1], sequences[end_ix - 1:out_end_ix, -1]\n",
    "        X.append(seq_x)\n",
    "        y.append(seq_y)\n",
    "    return array(X), array(y)"
   ]
  },
  {
   "cell_type": "code",
   "execution_count": 4,
   "metadata": {},
   "outputs": [],
   "source": [
    "import pandas as pd\n",
    "import numpy as np\n",
    "df = pd.read_csv('../datasets/daily-min-temperatures-australia.csv')\n",
    "predictor = 'Temp'\n",
    "raw_seq = list(df[predictor].values)\n",
    "raw_seq = (raw_seq - np.min(raw_seq)) / np.ptp(raw_seq)\n",
    "df[predictor] = raw_seq\n",
    "df = lag_days(df[predictor], 49)\n",
    "cols = list(df.columns)\n",
    "cols.remove('t-0')\n",
    "col_arr = [df[col].values for col in cols] + [df['t-0'].values]\n",
    "dataset = np.stack(col_arr, axis=1)\n",
    "\n",
    "# choose a number of time steps\n",
    "n_steps_in, n_steps_out = 49, 49\n",
    "# covert into input/output\n",
    "x, y = split_sequences(dataset, n_steps_in, n_steps_out)\n",
    "# the dataset knows the number of features, e.g. 2\n",
    "n_features = x.shape[2]\n",
    "x = x.reshape((x.shape[0], x.shape[1], n_features))\n",
    "x = np.asarray(x).astype('float32')\n",
    "y = np.asarray(y).astype('float32')\n",
    "\n",
    "timesteps = 49"
   ]
  },
  {
   "cell_type": "code",
   "execution_count": 5,
   "metadata": {},
   "outputs": [
    {
     "ename": "NameError",
     "evalue": "name 'x_input' is not defined",
     "output_type": "error",
     "traceback": [
      "\u001b[1;31m---------------------------------------------------------------------------\u001b[0m",
      "\u001b[1;31mNameError\u001b[0m                                 Traceback (most recent call last)",
      "\u001b[1;32m<ipython-input-5-ca0e528c85cd>\u001b[0m in \u001b[0;36m<module>\u001b[1;34m\u001b[0m\n\u001b[1;32m----> 1\u001b[1;33m \u001b[0mx_input\u001b[0m\u001b[1;33m.\u001b[0m\u001b[0mshape\u001b[0m\u001b[1;33m\u001b[0m\u001b[1;33m\u001b[0m\u001b[0m\n\u001b[0m",
      "\u001b[1;31mNameError\u001b[0m: name 'x_input' is not defined"
     ]
    }
   ],
   "source": [
    "x_input.shape"
   ]
  },
  {
   "cell_type": "code",
   "execution_count": 15,
   "metadata": {},
   "outputs": [
    {
     "ename": "ValueError",
     "evalue": "in user code:\n\n    C:\\Users\\DEJOKUR\\AppData\\Local\\Continuum\\anaconda3\\lib\\site-packages\\tensorflow\\python\\keras\\engine\\training.py:806 train_function  *\n        return step_function(self, iterator)\n    C:\\Users\\DEJOKUR\\AppData\\Local\\Continuum\\anaconda3\\lib\\site-packages\\tensorflow\\python\\keras\\engine\\training.py:796 step_function  **\n        outputs = model.distribute_strategy.run(run_step, args=(data,))\n    C:\\Users\\DEJOKUR\\AppData\\Local\\Continuum\\anaconda3\\lib\\site-packages\\tensorflow\\python\\distribute\\distribute_lib.py:1211 run\n        return self._extended.call_for_each_replica(fn, args=args, kwargs=kwargs)\n    C:\\Users\\DEJOKUR\\AppData\\Local\\Continuum\\anaconda3\\lib\\site-packages\\tensorflow\\python\\distribute\\distribute_lib.py:2585 call_for_each_replica\n        return self._call_for_each_replica(fn, args, kwargs)\n    C:\\Users\\DEJOKUR\\AppData\\Local\\Continuum\\anaconda3\\lib\\site-packages\\tensorflow\\python\\distribute\\distribute_lib.py:2945 _call_for_each_replica\n        return fn(*args, **kwargs)\n    C:\\Users\\DEJOKUR\\AppData\\Local\\Continuum\\anaconda3\\lib\\site-packages\\tensorflow\\python\\keras\\engine\\training.py:789 run_step  **\n        outputs = model.train_step(data)\n    C:\\Users\\DEJOKUR\\AppData\\Local\\Continuum\\anaconda3\\lib\\site-packages\\tensorflow\\python\\keras\\engine\\training.py:747 train_step\n        y_pred = self(x, training=True)\n    C:\\Users\\DEJOKUR\\AppData\\Local\\Continuum\\anaconda3\\lib\\site-packages\\tensorflow\\python\\keras\\engine\\base_layer.py:976 __call__\n        self.name)\n    C:\\Users\\DEJOKUR\\AppData\\Local\\Continuum\\anaconda3\\lib\\site-packages\\tensorflow\\python\\keras\\engine\\input_spec.py:227 assert_input_compatibility\n        ', found shape=' + str(shape))\n\n    ValueError: Input 0 is incompatible with layer sequential_1: expected shape=(None, None, 1), found shape=[None, 49, 49]\n",
     "output_type": "error",
     "traceback": [
      "\u001b[1;31m---------------------------------------------------------------------------\u001b[0m",
      "\u001b[1;31mValueError\u001b[0m                                Traceback (most recent call last)",
      "\u001b[1;32m<ipython-input-15-3a65544cd235>\u001b[0m in \u001b[0;36m<module>\u001b[1;34m\u001b[0m\n\u001b[1;32m----> 1\u001b[1;33m \u001b[0mmodel\u001b[0m\u001b[1;33m.\u001b[0m\u001b[0mfit\u001b[0m\u001b[1;33m(\u001b[0m\u001b[0mx_input\u001b[0m\u001b[1;33m)\u001b[0m\u001b[1;33m\u001b[0m\u001b[1;33m\u001b[0m\u001b[0m\n\u001b[0m",
      "\u001b[1;32m~\\AppData\\Local\\Continuum\\anaconda3\\lib\\site-packages\\tensorflow\\python\\keras\\engine\\training.py\u001b[0m in \u001b[0;36m_method_wrapper\u001b[1;34m(self, *args, **kwargs)\u001b[0m\n\u001b[0;32m    106\u001b[0m   \u001b[1;32mdef\u001b[0m \u001b[0m_method_wrapper\u001b[0m\u001b[1;33m(\u001b[0m\u001b[0mself\u001b[0m\u001b[1;33m,\u001b[0m \u001b[1;33m*\u001b[0m\u001b[0margs\u001b[0m\u001b[1;33m,\u001b[0m \u001b[1;33m**\u001b[0m\u001b[0mkwargs\u001b[0m\u001b[1;33m)\u001b[0m\u001b[1;33m:\u001b[0m\u001b[1;33m\u001b[0m\u001b[1;33m\u001b[0m\u001b[0m\n\u001b[0;32m    107\u001b[0m     \u001b[1;32mif\u001b[0m \u001b[1;32mnot\u001b[0m \u001b[0mself\u001b[0m\u001b[1;33m.\u001b[0m\u001b[0m_in_multi_worker_mode\u001b[0m\u001b[1;33m(\u001b[0m\u001b[1;33m)\u001b[0m\u001b[1;33m:\u001b[0m  \u001b[1;31m# pylint: disable=protected-access\u001b[0m\u001b[1;33m\u001b[0m\u001b[1;33m\u001b[0m\u001b[0m\n\u001b[1;32m--> 108\u001b[1;33m       \u001b[1;32mreturn\u001b[0m \u001b[0mmethod\u001b[0m\u001b[1;33m(\u001b[0m\u001b[0mself\u001b[0m\u001b[1;33m,\u001b[0m \u001b[1;33m*\u001b[0m\u001b[0margs\u001b[0m\u001b[1;33m,\u001b[0m \u001b[1;33m**\u001b[0m\u001b[0mkwargs\u001b[0m\u001b[1;33m)\u001b[0m\u001b[1;33m\u001b[0m\u001b[1;33m\u001b[0m\u001b[0m\n\u001b[0m\u001b[0;32m    109\u001b[0m \u001b[1;33m\u001b[0m\u001b[0m\n\u001b[0;32m    110\u001b[0m     \u001b[1;31m# Running inside `run_distribute_coordinator` already.\u001b[0m\u001b[1;33m\u001b[0m\u001b[1;33m\u001b[0m\u001b[1;33m\u001b[0m\u001b[0m\n",
      "\u001b[1;32m~\\AppData\\Local\\Continuum\\anaconda3\\lib\\site-packages\\tensorflow\\python\\keras\\engine\\training.py\u001b[0m in \u001b[0;36mfit\u001b[1;34m(self, x, y, batch_size, epochs, verbose, callbacks, validation_split, validation_data, shuffle, class_weight, sample_weight, initial_epoch, steps_per_epoch, validation_steps, validation_batch_size, validation_freq, max_queue_size, workers, use_multiprocessing)\u001b[0m\n\u001b[0;32m   1096\u001b[0m                 batch_size=batch_size):\n\u001b[0;32m   1097\u001b[0m               \u001b[0mcallbacks\u001b[0m\u001b[1;33m.\u001b[0m\u001b[0mon_train_batch_begin\u001b[0m\u001b[1;33m(\u001b[0m\u001b[0mstep\u001b[0m\u001b[1;33m)\u001b[0m\u001b[1;33m\u001b[0m\u001b[1;33m\u001b[0m\u001b[0m\n\u001b[1;32m-> 1098\u001b[1;33m               \u001b[0mtmp_logs\u001b[0m \u001b[1;33m=\u001b[0m \u001b[0mtrain_function\u001b[0m\u001b[1;33m(\u001b[0m\u001b[0miterator\u001b[0m\u001b[1;33m)\u001b[0m\u001b[1;33m\u001b[0m\u001b[1;33m\u001b[0m\u001b[0m\n\u001b[0m\u001b[0;32m   1099\u001b[0m               \u001b[1;32mif\u001b[0m \u001b[0mdata_handler\u001b[0m\u001b[1;33m.\u001b[0m\u001b[0mshould_sync\u001b[0m\u001b[1;33m:\u001b[0m\u001b[1;33m\u001b[0m\u001b[1;33m\u001b[0m\u001b[0m\n\u001b[0;32m   1100\u001b[0m                 \u001b[0mcontext\u001b[0m\u001b[1;33m.\u001b[0m\u001b[0masync_wait\u001b[0m\u001b[1;33m(\u001b[0m\u001b[1;33m)\u001b[0m\u001b[1;33m\u001b[0m\u001b[1;33m\u001b[0m\u001b[0m\n",
      "\u001b[1;32m~\\AppData\\Local\\Continuum\\anaconda3\\lib\\site-packages\\tensorflow\\python\\eager\\def_function.py\u001b[0m in \u001b[0;36m__call__\u001b[1;34m(self, *args, **kwds)\u001b[0m\n\u001b[0;32m    778\u001b[0m       \u001b[1;32melse\u001b[0m\u001b[1;33m:\u001b[0m\u001b[1;33m\u001b[0m\u001b[1;33m\u001b[0m\u001b[0m\n\u001b[0;32m    779\u001b[0m         \u001b[0mcompiler\u001b[0m \u001b[1;33m=\u001b[0m \u001b[1;34m\"nonXla\"\u001b[0m\u001b[1;33m\u001b[0m\u001b[1;33m\u001b[0m\u001b[0m\n\u001b[1;32m--> 780\u001b[1;33m         \u001b[0mresult\u001b[0m \u001b[1;33m=\u001b[0m \u001b[0mself\u001b[0m\u001b[1;33m.\u001b[0m\u001b[0m_call\u001b[0m\u001b[1;33m(\u001b[0m\u001b[1;33m*\u001b[0m\u001b[0margs\u001b[0m\u001b[1;33m,\u001b[0m \u001b[1;33m**\u001b[0m\u001b[0mkwds\u001b[0m\u001b[1;33m)\u001b[0m\u001b[1;33m\u001b[0m\u001b[1;33m\u001b[0m\u001b[0m\n\u001b[0m\u001b[0;32m    781\u001b[0m \u001b[1;33m\u001b[0m\u001b[0m\n\u001b[0;32m    782\u001b[0m       \u001b[0mnew_tracing_count\u001b[0m \u001b[1;33m=\u001b[0m \u001b[0mself\u001b[0m\u001b[1;33m.\u001b[0m\u001b[0m_get_tracing_count\u001b[0m\u001b[1;33m(\u001b[0m\u001b[1;33m)\u001b[0m\u001b[1;33m\u001b[0m\u001b[1;33m\u001b[0m\u001b[0m\n",
      "\u001b[1;32m~\\AppData\\Local\\Continuum\\anaconda3\\lib\\site-packages\\tensorflow\\python\\eager\\def_function.py\u001b[0m in \u001b[0;36m_call\u001b[1;34m(self, *args, **kwds)\u001b[0m\n\u001b[0;32m    821\u001b[0m       \u001b[1;31m# This is the first call of __call__, so we have to initialize.\u001b[0m\u001b[1;33m\u001b[0m\u001b[1;33m\u001b[0m\u001b[1;33m\u001b[0m\u001b[0m\n\u001b[0;32m    822\u001b[0m       \u001b[0minitializers\u001b[0m \u001b[1;33m=\u001b[0m \u001b[1;33m[\u001b[0m\u001b[1;33m]\u001b[0m\u001b[1;33m\u001b[0m\u001b[1;33m\u001b[0m\u001b[0m\n\u001b[1;32m--> 823\u001b[1;33m       \u001b[0mself\u001b[0m\u001b[1;33m.\u001b[0m\u001b[0m_initialize\u001b[0m\u001b[1;33m(\u001b[0m\u001b[0margs\u001b[0m\u001b[1;33m,\u001b[0m \u001b[0mkwds\u001b[0m\u001b[1;33m,\u001b[0m \u001b[0madd_initializers_to\u001b[0m\u001b[1;33m=\u001b[0m\u001b[0minitializers\u001b[0m\u001b[1;33m)\u001b[0m\u001b[1;33m\u001b[0m\u001b[1;33m\u001b[0m\u001b[0m\n\u001b[0m\u001b[0;32m    824\u001b[0m     \u001b[1;32mfinally\u001b[0m\u001b[1;33m:\u001b[0m\u001b[1;33m\u001b[0m\u001b[1;33m\u001b[0m\u001b[0m\n\u001b[0;32m    825\u001b[0m       \u001b[1;31m# At this point we know that the initialization is complete (or less\u001b[0m\u001b[1;33m\u001b[0m\u001b[1;33m\u001b[0m\u001b[1;33m\u001b[0m\u001b[0m\n",
      "\u001b[1;32m~\\AppData\\Local\\Continuum\\anaconda3\\lib\\site-packages\\tensorflow\\python\\eager\\def_function.py\u001b[0m in \u001b[0;36m_initialize\u001b[1;34m(self, args, kwds, add_initializers_to)\u001b[0m\n\u001b[0;32m    695\u001b[0m     self._concrete_stateful_fn = (\n\u001b[0;32m    696\u001b[0m         self._stateful_fn._get_concrete_function_internal_garbage_collected(  # pylint: disable=protected-access\n\u001b[1;32m--> 697\u001b[1;33m             *args, **kwds))\n\u001b[0m\u001b[0;32m    698\u001b[0m \u001b[1;33m\u001b[0m\u001b[0m\n\u001b[0;32m    699\u001b[0m     \u001b[1;32mdef\u001b[0m \u001b[0minvalid_creator_scope\u001b[0m\u001b[1;33m(\u001b[0m\u001b[1;33m*\u001b[0m\u001b[0munused_args\u001b[0m\u001b[1;33m,\u001b[0m \u001b[1;33m**\u001b[0m\u001b[0munused_kwds\u001b[0m\u001b[1;33m)\u001b[0m\u001b[1;33m:\u001b[0m\u001b[1;33m\u001b[0m\u001b[1;33m\u001b[0m\u001b[0m\n",
      "\u001b[1;32m~\\AppData\\Local\\Continuum\\anaconda3\\lib\\site-packages\\tensorflow\\python\\eager\\function.py\u001b[0m in \u001b[0;36m_get_concrete_function_internal_garbage_collected\u001b[1;34m(self, *args, **kwargs)\u001b[0m\n\u001b[0;32m   2853\u001b[0m       \u001b[0margs\u001b[0m\u001b[1;33m,\u001b[0m \u001b[0mkwargs\u001b[0m \u001b[1;33m=\u001b[0m \u001b[1;32mNone\u001b[0m\u001b[1;33m,\u001b[0m \u001b[1;32mNone\u001b[0m\u001b[1;33m\u001b[0m\u001b[1;33m\u001b[0m\u001b[0m\n\u001b[0;32m   2854\u001b[0m     \u001b[1;32mwith\u001b[0m \u001b[0mself\u001b[0m\u001b[1;33m.\u001b[0m\u001b[0m_lock\u001b[0m\u001b[1;33m:\u001b[0m\u001b[1;33m\u001b[0m\u001b[1;33m\u001b[0m\u001b[0m\n\u001b[1;32m-> 2855\u001b[1;33m       \u001b[0mgraph_function\u001b[0m\u001b[1;33m,\u001b[0m \u001b[0m_\u001b[0m\u001b[1;33m,\u001b[0m \u001b[0m_\u001b[0m \u001b[1;33m=\u001b[0m \u001b[0mself\u001b[0m\u001b[1;33m.\u001b[0m\u001b[0m_maybe_define_function\u001b[0m\u001b[1;33m(\u001b[0m\u001b[0margs\u001b[0m\u001b[1;33m,\u001b[0m \u001b[0mkwargs\u001b[0m\u001b[1;33m)\u001b[0m\u001b[1;33m\u001b[0m\u001b[1;33m\u001b[0m\u001b[0m\n\u001b[0m\u001b[0;32m   2856\u001b[0m     \u001b[1;32mreturn\u001b[0m \u001b[0mgraph_function\u001b[0m\u001b[1;33m\u001b[0m\u001b[1;33m\u001b[0m\u001b[0m\n\u001b[0;32m   2857\u001b[0m \u001b[1;33m\u001b[0m\u001b[0m\n",
      "\u001b[1;32m~\\AppData\\Local\\Continuum\\anaconda3\\lib\\site-packages\\tensorflow\\python\\eager\\function.py\u001b[0m in \u001b[0;36m_maybe_define_function\u001b[1;34m(self, args, kwargs)\u001b[0m\n\u001b[0;32m   3211\u001b[0m \u001b[1;33m\u001b[0m\u001b[0m\n\u001b[0;32m   3212\u001b[0m       \u001b[0mself\u001b[0m\u001b[1;33m.\u001b[0m\u001b[0m_function_cache\u001b[0m\u001b[1;33m.\u001b[0m\u001b[0mmissed\u001b[0m\u001b[1;33m.\u001b[0m\u001b[0madd\u001b[0m\u001b[1;33m(\u001b[0m\u001b[0mcall_context_key\u001b[0m\u001b[1;33m)\u001b[0m\u001b[1;33m\u001b[0m\u001b[1;33m\u001b[0m\u001b[0m\n\u001b[1;32m-> 3213\u001b[1;33m       \u001b[0mgraph_function\u001b[0m \u001b[1;33m=\u001b[0m \u001b[0mself\u001b[0m\u001b[1;33m.\u001b[0m\u001b[0m_create_graph_function\u001b[0m\u001b[1;33m(\u001b[0m\u001b[0margs\u001b[0m\u001b[1;33m,\u001b[0m \u001b[0mkwargs\u001b[0m\u001b[1;33m)\u001b[0m\u001b[1;33m\u001b[0m\u001b[1;33m\u001b[0m\u001b[0m\n\u001b[0m\u001b[0;32m   3214\u001b[0m       \u001b[0mself\u001b[0m\u001b[1;33m.\u001b[0m\u001b[0m_function_cache\u001b[0m\u001b[1;33m.\u001b[0m\u001b[0mprimary\u001b[0m\u001b[1;33m[\u001b[0m\u001b[0mcache_key\u001b[0m\u001b[1;33m]\u001b[0m \u001b[1;33m=\u001b[0m \u001b[0mgraph_function\u001b[0m\u001b[1;33m\u001b[0m\u001b[1;33m\u001b[0m\u001b[0m\n\u001b[0;32m   3215\u001b[0m       \u001b[1;32mreturn\u001b[0m \u001b[0mgraph_function\u001b[0m\u001b[1;33m,\u001b[0m \u001b[0margs\u001b[0m\u001b[1;33m,\u001b[0m \u001b[0mkwargs\u001b[0m\u001b[1;33m\u001b[0m\u001b[1;33m\u001b[0m\u001b[0m\n",
      "\u001b[1;32m~\\AppData\\Local\\Continuum\\anaconda3\\lib\\site-packages\\tensorflow\\python\\eager\\function.py\u001b[0m in \u001b[0;36m_create_graph_function\u001b[1;34m(self, args, kwargs, override_flat_arg_shapes)\u001b[0m\n\u001b[0;32m   3073\u001b[0m             \u001b[0marg_names\u001b[0m\u001b[1;33m=\u001b[0m\u001b[0marg_names\u001b[0m\u001b[1;33m,\u001b[0m\u001b[1;33m\u001b[0m\u001b[1;33m\u001b[0m\u001b[0m\n\u001b[0;32m   3074\u001b[0m             \u001b[0moverride_flat_arg_shapes\u001b[0m\u001b[1;33m=\u001b[0m\u001b[0moverride_flat_arg_shapes\u001b[0m\u001b[1;33m,\u001b[0m\u001b[1;33m\u001b[0m\u001b[1;33m\u001b[0m\u001b[0m\n\u001b[1;32m-> 3075\u001b[1;33m             capture_by_value=self._capture_by_value),\n\u001b[0m\u001b[0;32m   3076\u001b[0m         \u001b[0mself\u001b[0m\u001b[1;33m.\u001b[0m\u001b[0m_function_attributes\u001b[0m\u001b[1;33m,\u001b[0m\u001b[1;33m\u001b[0m\u001b[1;33m\u001b[0m\u001b[0m\n\u001b[0;32m   3077\u001b[0m         \u001b[0mfunction_spec\u001b[0m\u001b[1;33m=\u001b[0m\u001b[0mself\u001b[0m\u001b[1;33m.\u001b[0m\u001b[0mfunction_spec\u001b[0m\u001b[1;33m,\u001b[0m\u001b[1;33m\u001b[0m\u001b[1;33m\u001b[0m\u001b[0m\n",
      "\u001b[1;32m~\\AppData\\Local\\Continuum\\anaconda3\\lib\\site-packages\\tensorflow\\python\\framework\\func_graph.py\u001b[0m in \u001b[0;36mfunc_graph_from_py_func\u001b[1;34m(name, python_func, args, kwargs, signature, func_graph, autograph, autograph_options, add_control_dependencies, arg_names, op_return_value, collections, capture_by_value, override_flat_arg_shapes)\u001b[0m\n\u001b[0;32m    984\u001b[0m         \u001b[0m_\u001b[0m\u001b[1;33m,\u001b[0m \u001b[0moriginal_func\u001b[0m \u001b[1;33m=\u001b[0m \u001b[0mtf_decorator\u001b[0m\u001b[1;33m.\u001b[0m\u001b[0munwrap\u001b[0m\u001b[1;33m(\u001b[0m\u001b[0mpython_func\u001b[0m\u001b[1;33m)\u001b[0m\u001b[1;33m\u001b[0m\u001b[1;33m\u001b[0m\u001b[0m\n\u001b[0;32m    985\u001b[0m \u001b[1;33m\u001b[0m\u001b[0m\n\u001b[1;32m--> 986\u001b[1;33m       \u001b[0mfunc_outputs\u001b[0m \u001b[1;33m=\u001b[0m \u001b[0mpython_func\u001b[0m\u001b[1;33m(\u001b[0m\u001b[1;33m*\u001b[0m\u001b[0mfunc_args\u001b[0m\u001b[1;33m,\u001b[0m \u001b[1;33m**\u001b[0m\u001b[0mfunc_kwargs\u001b[0m\u001b[1;33m)\u001b[0m\u001b[1;33m\u001b[0m\u001b[1;33m\u001b[0m\u001b[0m\n\u001b[0m\u001b[0;32m    987\u001b[0m \u001b[1;33m\u001b[0m\u001b[0m\n\u001b[0;32m    988\u001b[0m       \u001b[1;31m# invariant: `func_outputs` contains only Tensors, CompositeTensors,\u001b[0m\u001b[1;33m\u001b[0m\u001b[1;33m\u001b[0m\u001b[1;33m\u001b[0m\u001b[0m\n",
      "\u001b[1;32m~\\AppData\\Local\\Continuum\\anaconda3\\lib\\site-packages\\tensorflow\\python\\eager\\def_function.py\u001b[0m in \u001b[0;36mwrapped_fn\u001b[1;34m(*args, **kwds)\u001b[0m\n\u001b[0;32m    598\u001b[0m         \u001b[1;31m# __wrapped__ allows AutoGraph to swap in a converted function. We give\u001b[0m\u001b[1;33m\u001b[0m\u001b[1;33m\u001b[0m\u001b[1;33m\u001b[0m\u001b[0m\n\u001b[0;32m    599\u001b[0m         \u001b[1;31m# the function a weak reference to itself to avoid a reference cycle.\u001b[0m\u001b[1;33m\u001b[0m\u001b[1;33m\u001b[0m\u001b[1;33m\u001b[0m\u001b[0m\n\u001b[1;32m--> 600\u001b[1;33m         \u001b[1;32mreturn\u001b[0m \u001b[0mweak_wrapped_fn\u001b[0m\u001b[1;33m(\u001b[0m\u001b[1;33m)\u001b[0m\u001b[1;33m.\u001b[0m\u001b[0m__wrapped__\u001b[0m\u001b[1;33m(\u001b[0m\u001b[1;33m*\u001b[0m\u001b[0margs\u001b[0m\u001b[1;33m,\u001b[0m \u001b[1;33m**\u001b[0m\u001b[0mkwds\u001b[0m\u001b[1;33m)\u001b[0m\u001b[1;33m\u001b[0m\u001b[1;33m\u001b[0m\u001b[0m\n\u001b[0m\u001b[0;32m    601\u001b[0m     \u001b[0mweak_wrapped_fn\u001b[0m \u001b[1;33m=\u001b[0m \u001b[0mweakref\u001b[0m\u001b[1;33m.\u001b[0m\u001b[0mref\u001b[0m\u001b[1;33m(\u001b[0m\u001b[0mwrapped_fn\u001b[0m\u001b[1;33m)\u001b[0m\u001b[1;33m\u001b[0m\u001b[1;33m\u001b[0m\u001b[0m\n\u001b[0;32m    602\u001b[0m \u001b[1;33m\u001b[0m\u001b[0m\n",
      "\u001b[1;32m~\\AppData\\Local\\Continuum\\anaconda3\\lib\\site-packages\\tensorflow\\python\\framework\\func_graph.py\u001b[0m in \u001b[0;36mwrapper\u001b[1;34m(*args, **kwargs)\u001b[0m\n\u001b[0;32m    971\u001b[0m           \u001b[1;32mexcept\u001b[0m \u001b[0mException\u001b[0m \u001b[1;32mas\u001b[0m \u001b[0me\u001b[0m\u001b[1;33m:\u001b[0m  \u001b[1;31m# pylint:disable=broad-except\u001b[0m\u001b[1;33m\u001b[0m\u001b[1;33m\u001b[0m\u001b[0m\n\u001b[0;32m    972\u001b[0m             \u001b[1;32mif\u001b[0m \u001b[0mhasattr\u001b[0m\u001b[1;33m(\u001b[0m\u001b[0me\u001b[0m\u001b[1;33m,\u001b[0m \u001b[1;34m\"ag_error_metadata\"\u001b[0m\u001b[1;33m)\u001b[0m\u001b[1;33m:\u001b[0m\u001b[1;33m\u001b[0m\u001b[1;33m\u001b[0m\u001b[0m\n\u001b[1;32m--> 973\u001b[1;33m               \u001b[1;32mraise\u001b[0m \u001b[0me\u001b[0m\u001b[1;33m.\u001b[0m\u001b[0mag_error_metadata\u001b[0m\u001b[1;33m.\u001b[0m\u001b[0mto_exception\u001b[0m\u001b[1;33m(\u001b[0m\u001b[0me\u001b[0m\u001b[1;33m)\u001b[0m\u001b[1;33m\u001b[0m\u001b[1;33m\u001b[0m\u001b[0m\n\u001b[0m\u001b[0;32m    974\u001b[0m             \u001b[1;32melse\u001b[0m\u001b[1;33m:\u001b[0m\u001b[1;33m\u001b[0m\u001b[1;33m\u001b[0m\u001b[0m\n\u001b[0;32m    975\u001b[0m               \u001b[1;32mraise\u001b[0m\u001b[1;33m\u001b[0m\u001b[1;33m\u001b[0m\u001b[0m\n",
      "\u001b[1;31mValueError\u001b[0m: in user code:\n\n    C:\\Users\\DEJOKUR\\AppData\\Local\\Continuum\\anaconda3\\lib\\site-packages\\tensorflow\\python\\keras\\engine\\training.py:806 train_function  *\n        return step_function(self, iterator)\n    C:\\Users\\DEJOKUR\\AppData\\Local\\Continuum\\anaconda3\\lib\\site-packages\\tensorflow\\python\\keras\\engine\\training.py:796 step_function  **\n        outputs = model.distribute_strategy.run(run_step, args=(data,))\n    C:\\Users\\DEJOKUR\\AppData\\Local\\Continuum\\anaconda3\\lib\\site-packages\\tensorflow\\python\\distribute\\distribute_lib.py:1211 run\n        return self._extended.call_for_each_replica(fn, args=args, kwargs=kwargs)\n    C:\\Users\\DEJOKUR\\AppData\\Local\\Continuum\\anaconda3\\lib\\site-packages\\tensorflow\\python\\distribute\\distribute_lib.py:2585 call_for_each_replica\n        return self._call_for_each_replica(fn, args, kwargs)\n    C:\\Users\\DEJOKUR\\AppData\\Local\\Continuum\\anaconda3\\lib\\site-packages\\tensorflow\\python\\distribute\\distribute_lib.py:2945 _call_for_each_replica\n        return fn(*args, **kwargs)\n    C:\\Users\\DEJOKUR\\AppData\\Local\\Continuum\\anaconda3\\lib\\site-packages\\tensorflow\\python\\keras\\engine\\training.py:789 run_step  **\n        outputs = model.train_step(data)\n    C:\\Users\\DEJOKUR\\AppData\\Local\\Continuum\\anaconda3\\lib\\site-packages\\tensorflow\\python\\keras\\engine\\training.py:747 train_step\n        y_pred = self(x, training=True)\n    C:\\Users\\DEJOKUR\\AppData\\Local\\Continuum\\anaconda3\\lib\\site-packages\\tensorflow\\python\\keras\\engine\\base_layer.py:976 __call__\n        self.name)\n    C:\\Users\\DEJOKUR\\AppData\\Local\\Continuum\\anaconda3\\lib\\site-packages\\tensorflow\\python\\keras\\engine\\input_spec.py:227 assert_input_compatibility\n        ', found shape=' + str(shape))\n\n    ValueError: Input 0 is incompatible with layer sequential_1: expected shape=(None, None, 1), found shape=[None, 49, 49]\n"
     ]
    }
   ],
   "source": [
    "model.fit(x_input)"
   ]
  },
  {
   "cell_type": "code",
   "execution_count": 8,
   "metadata": {},
   "outputs": [
    {
     "ename": "ValueError",
     "evalue": "in user code:\n\n    C:\\Users\\DEJOKUR\\AppData\\Local\\Continuum\\anaconda3\\lib\\site-packages\\tensorflow\\python\\keras\\engine\\training.py:1462 predict_function  *\n        return step_function(self, iterator)\n    C:\\Users\\DEJOKUR\\AppData\\Local\\Continuum\\anaconda3\\lib\\site-packages\\tensorflow\\python\\keras\\engine\\training.py:1452 step_function  **\n        outputs = model.distribute_strategy.run(run_step, args=(data,))\n    C:\\Users\\DEJOKUR\\AppData\\Local\\Continuum\\anaconda3\\lib\\site-packages\\tensorflow\\python\\distribute\\distribute_lib.py:1211 run\n        return self._extended.call_for_each_replica(fn, args=args, kwargs=kwargs)\n    C:\\Users\\DEJOKUR\\AppData\\Local\\Continuum\\anaconda3\\lib\\site-packages\\tensorflow\\python\\distribute\\distribute_lib.py:2585 call_for_each_replica\n        return self._call_for_each_replica(fn, args, kwargs)\n    C:\\Users\\DEJOKUR\\AppData\\Local\\Continuum\\anaconda3\\lib\\site-packages\\tensorflow\\python\\distribute\\distribute_lib.py:2945 _call_for_each_replica\n        return fn(*args, **kwargs)\n    C:\\Users\\DEJOKUR\\AppData\\Local\\Continuum\\anaconda3\\lib\\site-packages\\tensorflow\\python\\keras\\engine\\training.py:1445 run_step  **\n        outputs = model.predict_step(data)\n    C:\\Users\\DEJOKUR\\AppData\\Local\\Continuum\\anaconda3\\lib\\site-packages\\tensorflow\\python\\keras\\engine\\training.py:1418 predict_step\n        return self(x, training=False)\n    C:\\Users\\DEJOKUR\\AppData\\Local\\Continuum\\anaconda3\\lib\\site-packages\\tensorflow\\python\\keras\\engine\\base_layer.py:976 __call__\n        self.name)\n    C:\\Users\\DEJOKUR\\AppData\\Local\\Continuum\\anaconda3\\lib\\site-packages\\tensorflow\\python\\keras\\engine\\input_spec.py:227 assert_input_compatibility\n        ', found shape=' + str(shape))\n\n    ValueError: Input 0 is incompatible with layer sequential_1: expected shape=(None, None, 1), found shape=[None, 49, 49]\n",
     "output_type": "error",
     "traceback": [
      "\u001b[1;31m---------------------------------------------------------------------------\u001b[0m",
      "\u001b[1;31mValueError\u001b[0m                                Traceback (most recent call last)",
      "\u001b[1;32m<ipython-input-8-63d917fd0549>\u001b[0m in \u001b[0;36m<module>\u001b[1;34m\u001b[0m\n\u001b[0;32m      2\u001b[0m \u001b[0mx_input\u001b[0m \u001b[1;33m=\u001b[0m \u001b[0mx\u001b[0m\u001b[1;33m[\u001b[0m\u001b[1;33m-\u001b[0m\u001b[1;36m1\u001b[0m\u001b[1;33m]\u001b[0m\u001b[1;33m\u001b[0m\u001b[1;33m\u001b[0m\u001b[0m\n\u001b[0;32m      3\u001b[0m \u001b[0mx_input\u001b[0m \u001b[1;33m=\u001b[0m \u001b[0mx_input\u001b[0m\u001b[1;33m.\u001b[0m\u001b[0mreshape\u001b[0m\u001b[1;33m(\u001b[0m\u001b[1;33m(\u001b[0m\u001b[1;36m1\u001b[0m\u001b[1;33m,\u001b[0m \u001b[0mn_steps_in\u001b[0m\u001b[1;33m,\u001b[0m \u001b[0mn_features\u001b[0m\u001b[1;33m)\u001b[0m\u001b[1;33m)\u001b[0m\u001b[1;33m\u001b[0m\u001b[1;33m\u001b[0m\u001b[0m\n\u001b[1;32m----> 4\u001b[1;33m \u001b[0myhat\u001b[0m \u001b[1;33m=\u001b[0m \u001b[0mmodel\u001b[0m\u001b[1;33m.\u001b[0m\u001b[0mpredict\u001b[0m\u001b[1;33m(\u001b[0m\u001b[0mx_input\u001b[0m\u001b[1;33m)\u001b[0m\u001b[1;33m\u001b[0m\u001b[1;33m\u001b[0m\u001b[0m\n\u001b[0m",
      "\u001b[1;32m~\\AppData\\Local\\Continuum\\anaconda3\\lib\\site-packages\\tensorflow\\python\\keras\\engine\\training.py\u001b[0m in \u001b[0;36m_method_wrapper\u001b[1;34m(self, *args, **kwargs)\u001b[0m\n\u001b[0;32m    128\u001b[0m       raise ValueError('{} is not supported in multi-worker mode.'.format(\n\u001b[0;32m    129\u001b[0m           method.__name__))\n\u001b[1;32m--> 130\u001b[1;33m     \u001b[1;32mreturn\u001b[0m \u001b[0mmethod\u001b[0m\u001b[1;33m(\u001b[0m\u001b[0mself\u001b[0m\u001b[1;33m,\u001b[0m \u001b[1;33m*\u001b[0m\u001b[0margs\u001b[0m\u001b[1;33m,\u001b[0m \u001b[1;33m**\u001b[0m\u001b[0mkwargs\u001b[0m\u001b[1;33m)\u001b[0m\u001b[1;33m\u001b[0m\u001b[1;33m\u001b[0m\u001b[0m\n\u001b[0m\u001b[0;32m    131\u001b[0m \u001b[1;33m\u001b[0m\u001b[0m\n\u001b[0;32m    132\u001b[0m   return tf_decorator.make_decorator(\n",
      "\u001b[1;32m~\\AppData\\Local\\Continuum\\anaconda3\\lib\\site-packages\\tensorflow\\python\\keras\\engine\\training.py\u001b[0m in \u001b[0;36mpredict\u001b[1;34m(self, x, batch_size, verbose, steps, callbacks, max_queue_size, workers, use_multiprocessing)\u001b[0m\n\u001b[0;32m   1597\u001b[0m           \u001b[1;32mfor\u001b[0m \u001b[0mstep\u001b[0m \u001b[1;32min\u001b[0m \u001b[0mdata_handler\u001b[0m\u001b[1;33m.\u001b[0m\u001b[0msteps\u001b[0m\u001b[1;33m(\u001b[0m\u001b[1;33m)\u001b[0m\u001b[1;33m:\u001b[0m\u001b[1;33m\u001b[0m\u001b[1;33m\u001b[0m\u001b[0m\n\u001b[0;32m   1598\u001b[0m             \u001b[0mcallbacks\u001b[0m\u001b[1;33m.\u001b[0m\u001b[0mon_predict_batch_begin\u001b[0m\u001b[1;33m(\u001b[0m\u001b[0mstep\u001b[0m\u001b[1;33m)\u001b[0m\u001b[1;33m\u001b[0m\u001b[1;33m\u001b[0m\u001b[0m\n\u001b[1;32m-> 1599\u001b[1;33m             \u001b[0mtmp_batch_outputs\u001b[0m \u001b[1;33m=\u001b[0m \u001b[0mpredict_function\u001b[0m\u001b[1;33m(\u001b[0m\u001b[0miterator\u001b[0m\u001b[1;33m)\u001b[0m\u001b[1;33m\u001b[0m\u001b[1;33m\u001b[0m\u001b[0m\n\u001b[0m\u001b[0;32m   1600\u001b[0m             \u001b[1;32mif\u001b[0m \u001b[0mdata_handler\u001b[0m\u001b[1;33m.\u001b[0m\u001b[0mshould_sync\u001b[0m\u001b[1;33m:\u001b[0m\u001b[1;33m\u001b[0m\u001b[1;33m\u001b[0m\u001b[0m\n\u001b[0;32m   1601\u001b[0m               \u001b[0mcontext\u001b[0m\u001b[1;33m.\u001b[0m\u001b[0masync_wait\u001b[0m\u001b[1;33m(\u001b[0m\u001b[1;33m)\u001b[0m\u001b[1;33m\u001b[0m\u001b[1;33m\u001b[0m\u001b[0m\n",
      "\u001b[1;32m~\\AppData\\Local\\Continuum\\anaconda3\\lib\\site-packages\\tensorflow\\python\\eager\\def_function.py\u001b[0m in \u001b[0;36m__call__\u001b[1;34m(self, *args, **kwds)\u001b[0m\n\u001b[0;32m    778\u001b[0m       \u001b[1;32melse\u001b[0m\u001b[1;33m:\u001b[0m\u001b[1;33m\u001b[0m\u001b[1;33m\u001b[0m\u001b[0m\n\u001b[0;32m    779\u001b[0m         \u001b[0mcompiler\u001b[0m \u001b[1;33m=\u001b[0m \u001b[1;34m\"nonXla\"\u001b[0m\u001b[1;33m\u001b[0m\u001b[1;33m\u001b[0m\u001b[0m\n\u001b[1;32m--> 780\u001b[1;33m         \u001b[0mresult\u001b[0m \u001b[1;33m=\u001b[0m \u001b[0mself\u001b[0m\u001b[1;33m.\u001b[0m\u001b[0m_call\u001b[0m\u001b[1;33m(\u001b[0m\u001b[1;33m*\u001b[0m\u001b[0margs\u001b[0m\u001b[1;33m,\u001b[0m \u001b[1;33m**\u001b[0m\u001b[0mkwds\u001b[0m\u001b[1;33m)\u001b[0m\u001b[1;33m\u001b[0m\u001b[1;33m\u001b[0m\u001b[0m\n\u001b[0m\u001b[0;32m    781\u001b[0m \u001b[1;33m\u001b[0m\u001b[0m\n\u001b[0;32m    782\u001b[0m       \u001b[0mnew_tracing_count\u001b[0m \u001b[1;33m=\u001b[0m \u001b[0mself\u001b[0m\u001b[1;33m.\u001b[0m\u001b[0m_get_tracing_count\u001b[0m\u001b[1;33m(\u001b[0m\u001b[1;33m)\u001b[0m\u001b[1;33m\u001b[0m\u001b[1;33m\u001b[0m\u001b[0m\n",
      "\u001b[1;32m~\\AppData\\Local\\Continuum\\anaconda3\\lib\\site-packages\\tensorflow\\python\\eager\\def_function.py\u001b[0m in \u001b[0;36m_call\u001b[1;34m(self, *args, **kwds)\u001b[0m\n\u001b[0;32m    812\u001b[0m       \u001b[1;31m# In this case we have not created variables on the first call. So we can\u001b[0m\u001b[1;33m\u001b[0m\u001b[1;33m\u001b[0m\u001b[1;33m\u001b[0m\u001b[0m\n\u001b[0;32m    813\u001b[0m       \u001b[1;31m# run the first trace but we should fail if variables are created.\u001b[0m\u001b[1;33m\u001b[0m\u001b[1;33m\u001b[0m\u001b[1;33m\u001b[0m\u001b[0m\n\u001b[1;32m--> 814\u001b[1;33m       \u001b[0mresults\u001b[0m \u001b[1;33m=\u001b[0m \u001b[0mself\u001b[0m\u001b[1;33m.\u001b[0m\u001b[0m_stateful_fn\u001b[0m\u001b[1;33m(\u001b[0m\u001b[1;33m*\u001b[0m\u001b[0margs\u001b[0m\u001b[1;33m,\u001b[0m \u001b[1;33m**\u001b[0m\u001b[0mkwds\u001b[0m\u001b[1;33m)\u001b[0m\u001b[1;33m\u001b[0m\u001b[1;33m\u001b[0m\u001b[0m\n\u001b[0m\u001b[0;32m    815\u001b[0m       \u001b[1;32mif\u001b[0m \u001b[0mself\u001b[0m\u001b[1;33m.\u001b[0m\u001b[0m_created_variables\u001b[0m\u001b[1;33m:\u001b[0m\u001b[1;33m\u001b[0m\u001b[1;33m\u001b[0m\u001b[0m\n\u001b[0;32m    816\u001b[0m         raise ValueError(\"Creating variables on a non-first call to a function\"\n",
      "\u001b[1;32m~\\AppData\\Local\\Continuum\\anaconda3\\lib\\site-packages\\tensorflow\\python\\eager\\function.py\u001b[0m in \u001b[0;36m__call__\u001b[1;34m(self, *args, **kwargs)\u001b[0m\n\u001b[0;32m   2826\u001b[0m     \u001b[1;34m\"\"\"Calls a graph function specialized to the inputs.\"\"\"\u001b[0m\u001b[1;33m\u001b[0m\u001b[1;33m\u001b[0m\u001b[0m\n\u001b[0;32m   2827\u001b[0m     \u001b[1;32mwith\u001b[0m \u001b[0mself\u001b[0m\u001b[1;33m.\u001b[0m\u001b[0m_lock\u001b[0m\u001b[1;33m:\u001b[0m\u001b[1;33m\u001b[0m\u001b[1;33m\u001b[0m\u001b[0m\n\u001b[1;32m-> 2828\u001b[1;33m       \u001b[0mgraph_function\u001b[0m\u001b[1;33m,\u001b[0m \u001b[0margs\u001b[0m\u001b[1;33m,\u001b[0m \u001b[0mkwargs\u001b[0m \u001b[1;33m=\u001b[0m \u001b[0mself\u001b[0m\u001b[1;33m.\u001b[0m\u001b[0m_maybe_define_function\u001b[0m\u001b[1;33m(\u001b[0m\u001b[0margs\u001b[0m\u001b[1;33m,\u001b[0m \u001b[0mkwargs\u001b[0m\u001b[1;33m)\u001b[0m\u001b[1;33m\u001b[0m\u001b[1;33m\u001b[0m\u001b[0m\n\u001b[0m\u001b[0;32m   2829\u001b[0m     \u001b[1;32mreturn\u001b[0m \u001b[0mgraph_function\u001b[0m\u001b[1;33m.\u001b[0m\u001b[0m_filtered_call\u001b[0m\u001b[1;33m(\u001b[0m\u001b[0margs\u001b[0m\u001b[1;33m,\u001b[0m \u001b[0mkwargs\u001b[0m\u001b[1;33m)\u001b[0m  \u001b[1;31m# pylint: disable=protected-access\u001b[0m\u001b[1;33m\u001b[0m\u001b[1;33m\u001b[0m\u001b[0m\n\u001b[0;32m   2830\u001b[0m \u001b[1;33m\u001b[0m\u001b[0m\n",
      "\u001b[1;32m~\\AppData\\Local\\Continuum\\anaconda3\\lib\\site-packages\\tensorflow\\python\\eager\\function.py\u001b[0m in \u001b[0;36m_maybe_define_function\u001b[1;34m(self, args, kwargs)\u001b[0m\n\u001b[0;32m   3208\u001b[0m           \u001b[1;32mand\u001b[0m \u001b[0mself\u001b[0m\u001b[1;33m.\u001b[0m\u001b[0minput_signature\u001b[0m \u001b[1;32mis\u001b[0m \u001b[1;32mNone\u001b[0m\u001b[1;33m\u001b[0m\u001b[1;33m\u001b[0m\u001b[0m\n\u001b[0;32m   3209\u001b[0m           and call_context_key in self._function_cache.missed):\n\u001b[1;32m-> 3210\u001b[1;33m         \u001b[1;32mreturn\u001b[0m \u001b[0mself\u001b[0m\u001b[1;33m.\u001b[0m\u001b[0m_define_function_with_shape_relaxation\u001b[0m\u001b[1;33m(\u001b[0m\u001b[0margs\u001b[0m\u001b[1;33m,\u001b[0m \u001b[0mkwargs\u001b[0m\u001b[1;33m)\u001b[0m\u001b[1;33m\u001b[0m\u001b[1;33m\u001b[0m\u001b[0m\n\u001b[0m\u001b[0;32m   3211\u001b[0m \u001b[1;33m\u001b[0m\u001b[0m\n\u001b[0;32m   3212\u001b[0m       \u001b[0mself\u001b[0m\u001b[1;33m.\u001b[0m\u001b[0m_function_cache\u001b[0m\u001b[1;33m.\u001b[0m\u001b[0mmissed\u001b[0m\u001b[1;33m.\u001b[0m\u001b[0madd\u001b[0m\u001b[1;33m(\u001b[0m\u001b[0mcall_context_key\u001b[0m\u001b[1;33m)\u001b[0m\u001b[1;33m\u001b[0m\u001b[1;33m\u001b[0m\u001b[0m\n",
      "\u001b[1;32m~\\AppData\\Local\\Continuum\\anaconda3\\lib\\site-packages\\tensorflow\\python\\eager\\function.py\u001b[0m in \u001b[0;36m_define_function_with_shape_relaxation\u001b[1;34m(self, args, kwargs)\u001b[0m\n\u001b[0;32m   3140\u001b[0m \u001b[1;33m\u001b[0m\u001b[0m\n\u001b[0;32m   3141\u001b[0m     graph_function = self._create_graph_function(\n\u001b[1;32m-> 3142\u001b[1;33m         args, kwargs, override_flat_arg_shapes=relaxed_arg_shapes)\n\u001b[0m\u001b[0;32m   3143\u001b[0m     \u001b[0mself\u001b[0m\u001b[1;33m.\u001b[0m\u001b[0m_function_cache\u001b[0m\u001b[1;33m.\u001b[0m\u001b[0marg_relaxed\u001b[0m\u001b[1;33m[\u001b[0m\u001b[0mrank_only_cache_key\u001b[0m\u001b[1;33m]\u001b[0m \u001b[1;33m=\u001b[0m \u001b[0mgraph_function\u001b[0m\u001b[1;33m\u001b[0m\u001b[1;33m\u001b[0m\u001b[0m\n\u001b[0;32m   3144\u001b[0m \u001b[1;33m\u001b[0m\u001b[0m\n",
      "\u001b[1;32m~\\AppData\\Local\\Continuum\\anaconda3\\lib\\site-packages\\tensorflow\\python\\eager\\function.py\u001b[0m in \u001b[0;36m_create_graph_function\u001b[1;34m(self, args, kwargs, override_flat_arg_shapes)\u001b[0m\n\u001b[0;32m   3073\u001b[0m             \u001b[0marg_names\u001b[0m\u001b[1;33m=\u001b[0m\u001b[0marg_names\u001b[0m\u001b[1;33m,\u001b[0m\u001b[1;33m\u001b[0m\u001b[1;33m\u001b[0m\u001b[0m\n\u001b[0;32m   3074\u001b[0m             \u001b[0moverride_flat_arg_shapes\u001b[0m\u001b[1;33m=\u001b[0m\u001b[0moverride_flat_arg_shapes\u001b[0m\u001b[1;33m,\u001b[0m\u001b[1;33m\u001b[0m\u001b[1;33m\u001b[0m\u001b[0m\n\u001b[1;32m-> 3075\u001b[1;33m             capture_by_value=self._capture_by_value),\n\u001b[0m\u001b[0;32m   3076\u001b[0m         \u001b[0mself\u001b[0m\u001b[1;33m.\u001b[0m\u001b[0m_function_attributes\u001b[0m\u001b[1;33m,\u001b[0m\u001b[1;33m\u001b[0m\u001b[1;33m\u001b[0m\u001b[0m\n\u001b[0;32m   3077\u001b[0m         \u001b[0mfunction_spec\u001b[0m\u001b[1;33m=\u001b[0m\u001b[0mself\u001b[0m\u001b[1;33m.\u001b[0m\u001b[0mfunction_spec\u001b[0m\u001b[1;33m,\u001b[0m\u001b[1;33m\u001b[0m\u001b[1;33m\u001b[0m\u001b[0m\n",
      "\u001b[1;32m~\\AppData\\Local\\Continuum\\anaconda3\\lib\\site-packages\\tensorflow\\python\\framework\\func_graph.py\u001b[0m in \u001b[0;36mfunc_graph_from_py_func\u001b[1;34m(name, python_func, args, kwargs, signature, func_graph, autograph, autograph_options, add_control_dependencies, arg_names, op_return_value, collections, capture_by_value, override_flat_arg_shapes)\u001b[0m\n\u001b[0;32m    984\u001b[0m         \u001b[0m_\u001b[0m\u001b[1;33m,\u001b[0m \u001b[0moriginal_func\u001b[0m \u001b[1;33m=\u001b[0m \u001b[0mtf_decorator\u001b[0m\u001b[1;33m.\u001b[0m\u001b[0munwrap\u001b[0m\u001b[1;33m(\u001b[0m\u001b[0mpython_func\u001b[0m\u001b[1;33m)\u001b[0m\u001b[1;33m\u001b[0m\u001b[1;33m\u001b[0m\u001b[0m\n\u001b[0;32m    985\u001b[0m \u001b[1;33m\u001b[0m\u001b[0m\n\u001b[1;32m--> 986\u001b[1;33m       \u001b[0mfunc_outputs\u001b[0m \u001b[1;33m=\u001b[0m \u001b[0mpython_func\u001b[0m\u001b[1;33m(\u001b[0m\u001b[1;33m*\u001b[0m\u001b[0mfunc_args\u001b[0m\u001b[1;33m,\u001b[0m \u001b[1;33m**\u001b[0m\u001b[0mfunc_kwargs\u001b[0m\u001b[1;33m)\u001b[0m\u001b[1;33m\u001b[0m\u001b[1;33m\u001b[0m\u001b[0m\n\u001b[0m\u001b[0;32m    987\u001b[0m \u001b[1;33m\u001b[0m\u001b[0m\n\u001b[0;32m    988\u001b[0m       \u001b[1;31m# invariant: `func_outputs` contains only Tensors, CompositeTensors,\u001b[0m\u001b[1;33m\u001b[0m\u001b[1;33m\u001b[0m\u001b[1;33m\u001b[0m\u001b[0m\n",
      "\u001b[1;32m~\\AppData\\Local\\Continuum\\anaconda3\\lib\\site-packages\\tensorflow\\python\\eager\\def_function.py\u001b[0m in \u001b[0;36mwrapped_fn\u001b[1;34m(*args, **kwds)\u001b[0m\n\u001b[0;32m    598\u001b[0m         \u001b[1;31m# __wrapped__ allows AutoGraph to swap in a converted function. We give\u001b[0m\u001b[1;33m\u001b[0m\u001b[1;33m\u001b[0m\u001b[1;33m\u001b[0m\u001b[0m\n\u001b[0;32m    599\u001b[0m         \u001b[1;31m# the function a weak reference to itself to avoid a reference cycle.\u001b[0m\u001b[1;33m\u001b[0m\u001b[1;33m\u001b[0m\u001b[1;33m\u001b[0m\u001b[0m\n\u001b[1;32m--> 600\u001b[1;33m         \u001b[1;32mreturn\u001b[0m \u001b[0mweak_wrapped_fn\u001b[0m\u001b[1;33m(\u001b[0m\u001b[1;33m)\u001b[0m\u001b[1;33m.\u001b[0m\u001b[0m__wrapped__\u001b[0m\u001b[1;33m(\u001b[0m\u001b[1;33m*\u001b[0m\u001b[0margs\u001b[0m\u001b[1;33m,\u001b[0m \u001b[1;33m**\u001b[0m\u001b[0mkwds\u001b[0m\u001b[1;33m)\u001b[0m\u001b[1;33m\u001b[0m\u001b[1;33m\u001b[0m\u001b[0m\n\u001b[0m\u001b[0;32m    601\u001b[0m     \u001b[0mweak_wrapped_fn\u001b[0m \u001b[1;33m=\u001b[0m \u001b[0mweakref\u001b[0m\u001b[1;33m.\u001b[0m\u001b[0mref\u001b[0m\u001b[1;33m(\u001b[0m\u001b[0mwrapped_fn\u001b[0m\u001b[1;33m)\u001b[0m\u001b[1;33m\u001b[0m\u001b[1;33m\u001b[0m\u001b[0m\n\u001b[0;32m    602\u001b[0m \u001b[1;33m\u001b[0m\u001b[0m\n",
      "\u001b[1;32m~\\AppData\\Local\\Continuum\\anaconda3\\lib\\site-packages\\tensorflow\\python\\framework\\func_graph.py\u001b[0m in \u001b[0;36mwrapper\u001b[1;34m(*args, **kwargs)\u001b[0m\n\u001b[0;32m    971\u001b[0m           \u001b[1;32mexcept\u001b[0m \u001b[0mException\u001b[0m \u001b[1;32mas\u001b[0m \u001b[0me\u001b[0m\u001b[1;33m:\u001b[0m  \u001b[1;31m# pylint:disable=broad-except\u001b[0m\u001b[1;33m\u001b[0m\u001b[1;33m\u001b[0m\u001b[0m\n\u001b[0;32m    972\u001b[0m             \u001b[1;32mif\u001b[0m \u001b[0mhasattr\u001b[0m\u001b[1;33m(\u001b[0m\u001b[0me\u001b[0m\u001b[1;33m,\u001b[0m \u001b[1;34m\"ag_error_metadata\"\u001b[0m\u001b[1;33m)\u001b[0m\u001b[1;33m:\u001b[0m\u001b[1;33m\u001b[0m\u001b[1;33m\u001b[0m\u001b[0m\n\u001b[1;32m--> 973\u001b[1;33m               \u001b[1;32mraise\u001b[0m \u001b[0me\u001b[0m\u001b[1;33m.\u001b[0m\u001b[0mag_error_metadata\u001b[0m\u001b[1;33m.\u001b[0m\u001b[0mto_exception\u001b[0m\u001b[1;33m(\u001b[0m\u001b[0me\u001b[0m\u001b[1;33m)\u001b[0m\u001b[1;33m\u001b[0m\u001b[1;33m\u001b[0m\u001b[0m\n\u001b[0m\u001b[0;32m    974\u001b[0m             \u001b[1;32melse\u001b[0m\u001b[1;33m:\u001b[0m\u001b[1;33m\u001b[0m\u001b[1;33m\u001b[0m\u001b[0m\n\u001b[0;32m    975\u001b[0m               \u001b[1;32mraise\u001b[0m\u001b[1;33m\u001b[0m\u001b[1;33m\u001b[0m\u001b[0m\n",
      "\u001b[1;31mValueError\u001b[0m: in user code:\n\n    C:\\Users\\DEJOKUR\\AppData\\Local\\Continuum\\anaconda3\\lib\\site-packages\\tensorflow\\python\\keras\\engine\\training.py:1462 predict_function  *\n        return step_function(self, iterator)\n    C:\\Users\\DEJOKUR\\AppData\\Local\\Continuum\\anaconda3\\lib\\site-packages\\tensorflow\\python\\keras\\engine\\training.py:1452 step_function  **\n        outputs = model.distribute_strategy.run(run_step, args=(data,))\n    C:\\Users\\DEJOKUR\\AppData\\Local\\Continuum\\anaconda3\\lib\\site-packages\\tensorflow\\python\\distribute\\distribute_lib.py:1211 run\n        return self._extended.call_for_each_replica(fn, args=args, kwargs=kwargs)\n    C:\\Users\\DEJOKUR\\AppData\\Local\\Continuum\\anaconda3\\lib\\site-packages\\tensorflow\\python\\distribute\\distribute_lib.py:2585 call_for_each_replica\n        return self._call_for_each_replica(fn, args, kwargs)\n    C:\\Users\\DEJOKUR\\AppData\\Local\\Continuum\\anaconda3\\lib\\site-packages\\tensorflow\\python\\distribute\\distribute_lib.py:2945 _call_for_each_replica\n        return fn(*args, **kwargs)\n    C:\\Users\\DEJOKUR\\AppData\\Local\\Continuum\\anaconda3\\lib\\site-packages\\tensorflow\\python\\keras\\engine\\training.py:1445 run_step  **\n        outputs = model.predict_step(data)\n    C:\\Users\\DEJOKUR\\AppData\\Local\\Continuum\\anaconda3\\lib\\site-packages\\tensorflow\\python\\keras\\engine\\training.py:1418 predict_step\n        return self(x, training=False)\n    C:\\Users\\DEJOKUR\\AppData\\Local\\Continuum\\anaconda3\\lib\\site-packages\\tensorflow\\python\\keras\\engine\\base_layer.py:976 __call__\n        self.name)\n    C:\\Users\\DEJOKUR\\AppData\\Local\\Continuum\\anaconda3\\lib\\site-packages\\tensorflow\\python\\keras\\engine\\input_spec.py:227 assert_input_compatibility\n        ', found shape=' + str(shape))\n\n    ValueError: Input 0 is incompatible with layer sequential_1: expected shape=(None, None, 1), found shape=[None, 49, 49]\n"
     ]
    }
   ],
   "source": [
    "# demonstrate prediction\n",
    "x_input = x[-1]\n",
    "x_input = x_input.reshape((1, n_steps_in, n_features))\n",
    "yhat = model.predict(x_input)"
   ]
  },
  {
   "cell_type": "code",
   "execution_count": 7,
   "metadata": {},
   "outputs": [
    {
     "data": {
      "text/plain": [
       "array([[0.3178725 , 0.29579988, 0.30227774, ..., 0.35513663, 0.34332186,\n",
       "        0.34717745],\n",
       "       [0.31944332, 0.29742223, 0.30437663, ..., 0.35617134, 0.3447812 ,\n",
       "        0.34841347],\n",
       "       [0.31947854, 0.2973121 , 0.30470306, ..., 0.3562254 , 0.34502622,\n",
       "        0.3484801 ],\n",
       "       ...,\n",
       "       [0.36510706, 0.35450828, 0.3464707 , ..., 0.38416025, 0.37282443,\n",
       "        0.3817103 ],\n",
       "       [0.3608253 , 0.35067782, 0.33962128, ..., 0.38121527, 0.36798915,\n",
       "        0.37818402],\n",
       "       [0.34889817, 0.33676377, 0.32672647, ..., 0.37369484, 0.35922045,\n",
       "        0.36922246]], dtype=float32)"
      ]
     },
     "execution_count": 7,
     "metadata": {},
     "output_type": "execute_result"
    }
   ],
   "source": [
    "yhat"
   ]
  },
  {
   "cell_type": "code",
   "execution_count": 11,
   "metadata": {},
   "outputs": [],
   "source": [
    "from sklearn.metrics import mean_squared_error\n",
    "from sklearn.metrics import r2_score\n",
    "\n",
    "def calculate_metrics(yhat, test_y, forecasting_horizon):\n",
    "    rmse = mean_squared_error(yhat, test_y) ** 0.5\n",
    "    if forecasting_horizon > 1:\n",
    "        explained_variance = r2_score(test_y, yhat, multioutput = \"variance_weighted\")\n",
    "    else:\n",
    "        explained_variance = 1/abs(rmse)\n",
    "    return rmse, explained_variance\n",
    "\n",
    "rmse, r2 = calculate_metrics(yhat[0], df['t-0'].values[-49:], 49)"
   ]
  },
  {
   "cell_type": "code",
   "execution_count": 12,
   "metadata": {},
   "outputs": [
    {
     "data": {
      "text/plain": [
       "(0.17082430456689313, -1.1000173215612015)"
      ]
     },
     "execution_count": 12,
     "metadata": {},
     "output_type": "execute_result"
    }
   ],
   "source": [
    "rmse, r2"
   ]
  },
  {
   "cell_type": "code",
   "execution_count": null,
   "metadata": {},
   "outputs": [],
   "source": []
  },
  {
   "cell_type": "code",
   "execution_count": null,
   "metadata": {},
   "outputs": [],
   "source": []
  },
  {
   "cell_type": "code",
   "execution_count": null,
   "metadata": {},
   "outputs": [],
   "source": []
  },
  {
   "cell_type": "code",
   "execution_count": null,
   "metadata": {},
   "outputs": [],
   "source": [
    "from tensorflow.keras import Input, Model\n",
    "from tcn import TCN, tcn_full_summary\n",
    "\n",
    "batch_size = None\n",
    "i = Input(batch_shape=(batch_size, n_steps_in, n_features))\n",
    "\n",
    "o = TCN(return_sequences=False)(i)  # The TCN layers are here.\n",
    "o = Dense(n_steps_out)(o)\n",
    "\n",
    "m = Model(inputs=[i], outputs=[o])\n",
    "m.compile(optimizer='adam', loss='mse')"
   ]
  },
  {
   "cell_type": "code",
   "execution_count": 13,
   "metadata": {},
   "outputs": [
    {
     "ename": "ValueError",
     "evalue": "Unknown layer: TCN",
     "output_type": "error",
     "traceback": [
      "\u001b[1;31m---------------------------------------------------------------------------\u001b[0m",
      "\u001b[1;31mValueError\u001b[0m                                Traceback (most recent call last)",
      "\u001b[1;32m<ipython-input-13-8883bc1632ee>\u001b[0m in \u001b[0;36m<module>\u001b[1;34m\u001b[0m\n\u001b[0;32m      4\u001b[0m \u001b[1;33m\u001b[0m\u001b[0m\n\u001b[0;32m      5\u001b[0m \u001b[1;31m# load model\u001b[0m\u001b[1;33m\u001b[0m\u001b[1;33m\u001b[0m\u001b[1;33m\u001b[0m\u001b[0m\n\u001b[1;32m----> 6\u001b[1;33m \u001b[0mmodel\u001b[0m \u001b[1;33m=\u001b[0m \u001b[0mload_model\u001b[0m\u001b[1;33m(\u001b[0m\u001b[1;34m'../models/tcn_model.h5'\u001b[0m\u001b[1;33m)\u001b[0m\u001b[1;33m\u001b[0m\u001b[1;33m\u001b[0m\u001b[0m\n\u001b[0m",
      "\u001b[1;32m~\\AppData\\Local\\Continuum\\anaconda3\\lib\\site-packages\\tensorflow\\python\\keras\\saving\\save.py\u001b[0m in \u001b[0;36mload_model\u001b[1;34m(filepath, custom_objects, compile, options)\u001b[0m\n\u001b[0;32m    180\u001b[0m     if (h5py is not None and (\n\u001b[0;32m    181\u001b[0m         isinstance(filepath, h5py.File) or h5py.is_hdf5(filepath))):\n\u001b[1;32m--> 182\u001b[1;33m       \u001b[1;32mreturn\u001b[0m \u001b[0mhdf5_format\u001b[0m\u001b[1;33m.\u001b[0m\u001b[0mload_model_from_hdf5\u001b[0m\u001b[1;33m(\u001b[0m\u001b[0mfilepath\u001b[0m\u001b[1;33m,\u001b[0m \u001b[0mcustom_objects\u001b[0m\u001b[1;33m,\u001b[0m \u001b[0mcompile\u001b[0m\u001b[1;33m)\u001b[0m\u001b[1;33m\u001b[0m\u001b[1;33m\u001b[0m\u001b[0m\n\u001b[0m\u001b[0;32m    183\u001b[0m \u001b[1;33m\u001b[0m\u001b[0m\n\u001b[0;32m    184\u001b[0m     \u001b[0mfilepath\u001b[0m \u001b[1;33m=\u001b[0m \u001b[0mpath_to_string\u001b[0m\u001b[1;33m(\u001b[0m\u001b[0mfilepath\u001b[0m\u001b[1;33m)\u001b[0m\u001b[1;33m\u001b[0m\u001b[1;33m\u001b[0m\u001b[0m\n",
      "\u001b[1;32m~\\AppData\\Local\\Continuum\\anaconda3\\lib\\site-packages\\tensorflow\\python\\keras\\saving\\hdf5_format.py\u001b[0m in \u001b[0;36mload_model_from_hdf5\u001b[1;34m(filepath, custom_objects, compile)\u001b[0m\n\u001b[0;32m    176\u001b[0m     \u001b[0mmodel_config\u001b[0m \u001b[1;33m=\u001b[0m \u001b[0mjson\u001b[0m\u001b[1;33m.\u001b[0m\u001b[0mloads\u001b[0m\u001b[1;33m(\u001b[0m\u001b[0mmodel_config\u001b[0m\u001b[1;33m.\u001b[0m\u001b[0mdecode\u001b[0m\u001b[1;33m(\u001b[0m\u001b[1;34m'utf-8'\u001b[0m\u001b[1;33m)\u001b[0m\u001b[1;33m)\u001b[0m\u001b[1;33m\u001b[0m\u001b[1;33m\u001b[0m\u001b[0m\n\u001b[0;32m    177\u001b[0m     model = model_config_lib.model_from_config(model_config,\n\u001b[1;32m--> 178\u001b[1;33m                                                custom_objects=custom_objects)\n\u001b[0m\u001b[0;32m    179\u001b[0m \u001b[1;33m\u001b[0m\u001b[0m\n\u001b[0;32m    180\u001b[0m     \u001b[1;31m# set weights\u001b[0m\u001b[1;33m\u001b[0m\u001b[1;33m\u001b[0m\u001b[1;33m\u001b[0m\u001b[0m\n",
      "\u001b[1;32m~\\AppData\\Local\\Continuum\\anaconda3\\lib\\site-packages\\tensorflow\\python\\keras\\saving\\model_config.py\u001b[0m in \u001b[0;36mmodel_from_config\u001b[1;34m(config, custom_objects)\u001b[0m\n\u001b[0;32m     53\u001b[0m                     '`Sequential.from_config(config)`?')\n\u001b[0;32m     54\u001b[0m   \u001b[1;32mfrom\u001b[0m \u001b[0mtensorflow\u001b[0m\u001b[1;33m.\u001b[0m\u001b[0mpython\u001b[0m\u001b[1;33m.\u001b[0m\u001b[0mkeras\u001b[0m\u001b[1;33m.\u001b[0m\u001b[0mlayers\u001b[0m \u001b[1;32mimport\u001b[0m \u001b[0mdeserialize\u001b[0m  \u001b[1;31m# pylint: disable=g-import-not-at-top\u001b[0m\u001b[1;33m\u001b[0m\u001b[1;33m\u001b[0m\u001b[0m\n\u001b[1;32m---> 55\u001b[1;33m   \u001b[1;32mreturn\u001b[0m \u001b[0mdeserialize\u001b[0m\u001b[1;33m(\u001b[0m\u001b[0mconfig\u001b[0m\u001b[1;33m,\u001b[0m \u001b[0mcustom_objects\u001b[0m\u001b[1;33m=\u001b[0m\u001b[0mcustom_objects\u001b[0m\u001b[1;33m)\u001b[0m\u001b[1;33m\u001b[0m\u001b[1;33m\u001b[0m\u001b[0m\n\u001b[0m\u001b[0;32m     56\u001b[0m \u001b[1;33m\u001b[0m\u001b[0m\n\u001b[0;32m     57\u001b[0m \u001b[1;33m\u001b[0m\u001b[0m\n",
      "\u001b[1;32m~\\AppData\\Local\\Continuum\\anaconda3\\lib\\site-packages\\tensorflow\\python\\keras\\layers\\serialization.py\u001b[0m in \u001b[0;36mdeserialize\u001b[1;34m(config, custom_objects)\u001b[0m\n\u001b[0;32m    173\u001b[0m       \u001b[0mmodule_objects\u001b[0m\u001b[1;33m=\u001b[0m\u001b[0mLOCAL\u001b[0m\u001b[1;33m.\u001b[0m\u001b[0mALL_OBJECTS\u001b[0m\u001b[1;33m,\u001b[0m\u001b[1;33m\u001b[0m\u001b[1;33m\u001b[0m\u001b[0m\n\u001b[0;32m    174\u001b[0m       \u001b[0mcustom_objects\u001b[0m\u001b[1;33m=\u001b[0m\u001b[0mcustom_objects\u001b[0m\u001b[1;33m,\u001b[0m\u001b[1;33m\u001b[0m\u001b[1;33m\u001b[0m\u001b[0m\n\u001b[1;32m--> 175\u001b[1;33m       printable_module_name='layer')\n\u001b[0m",
      "\u001b[1;32m~\\AppData\\Local\\Continuum\\anaconda3\\lib\\site-packages\\tensorflow\\python\\keras\\utils\\generic_utils.py\u001b[0m in \u001b[0;36mdeserialize_keras_object\u001b[1;34m(identifier, module_objects, custom_objects, printable_module_name)\u001b[0m\n\u001b[0;32m    356\u001b[0m             custom_objects=dict(\n\u001b[0;32m    357\u001b[0m                 \u001b[0mlist\u001b[0m\u001b[1;33m(\u001b[0m\u001b[0m_GLOBAL_CUSTOM_OBJECTS\u001b[0m\u001b[1;33m.\u001b[0m\u001b[0mitems\u001b[0m\u001b[1;33m(\u001b[0m\u001b[1;33m)\u001b[0m\u001b[1;33m)\u001b[0m \u001b[1;33m+\u001b[0m\u001b[1;33m\u001b[0m\u001b[1;33m\u001b[0m\u001b[0m\n\u001b[1;32m--> 358\u001b[1;33m                 list(custom_objects.items())))\n\u001b[0m\u001b[0;32m    359\u001b[0m       \u001b[1;32mwith\u001b[0m \u001b[0mCustomObjectScope\u001b[0m\u001b[1;33m(\u001b[0m\u001b[0mcustom_objects\u001b[0m\u001b[1;33m)\u001b[0m\u001b[1;33m:\u001b[0m\u001b[1;33m\u001b[0m\u001b[1;33m\u001b[0m\u001b[0m\n\u001b[0;32m    360\u001b[0m         \u001b[1;32mreturn\u001b[0m \u001b[0mcls\u001b[0m\u001b[1;33m.\u001b[0m\u001b[0mfrom_config\u001b[0m\u001b[1;33m(\u001b[0m\u001b[0mcls_config\u001b[0m\u001b[1;33m)\u001b[0m\u001b[1;33m\u001b[0m\u001b[1;33m\u001b[0m\u001b[0m\n",
      "\u001b[1;32m~\\AppData\\Local\\Continuum\\anaconda3\\lib\\site-packages\\tensorflow\\python\\keras\\engine\\functional.py\u001b[0m in \u001b[0;36mfrom_config\u001b[1;34m(cls, config, custom_objects)\u001b[0m\n\u001b[0;32m    615\u001b[0m     \"\"\"\n\u001b[0;32m    616\u001b[0m     input_tensors, output_tensors, created_layers = reconstruct_from_config(\n\u001b[1;32m--> 617\u001b[1;33m         config, custom_objects)\n\u001b[0m\u001b[0;32m    618\u001b[0m     model = cls(inputs=input_tensors, outputs=output_tensors,\n\u001b[0;32m    619\u001b[0m                 name=config.get('name'))\n",
      "\u001b[1;32m~\\AppData\\Local\\Continuum\\anaconda3\\lib\\site-packages\\tensorflow\\python\\keras\\engine\\functional.py\u001b[0m in \u001b[0;36mreconstruct_from_config\u001b[1;34m(config, custom_objects, created_layers)\u001b[0m\n\u001b[0;32m   1202\u001b[0m   \u001b[1;31m# First, we create all layers and enqueue nodes to be processed\u001b[0m\u001b[1;33m\u001b[0m\u001b[1;33m\u001b[0m\u001b[1;33m\u001b[0m\u001b[0m\n\u001b[0;32m   1203\u001b[0m   \u001b[1;32mfor\u001b[0m \u001b[0mlayer_data\u001b[0m \u001b[1;32min\u001b[0m \u001b[0mconfig\u001b[0m\u001b[1;33m[\u001b[0m\u001b[1;34m'layers'\u001b[0m\u001b[1;33m]\u001b[0m\u001b[1;33m:\u001b[0m\u001b[1;33m\u001b[0m\u001b[1;33m\u001b[0m\u001b[0m\n\u001b[1;32m-> 1204\u001b[1;33m     \u001b[0mprocess_layer\u001b[0m\u001b[1;33m(\u001b[0m\u001b[0mlayer_data\u001b[0m\u001b[1;33m)\u001b[0m\u001b[1;33m\u001b[0m\u001b[1;33m\u001b[0m\u001b[0m\n\u001b[0m\u001b[0;32m   1205\u001b[0m   \u001b[1;31m# Then we process nodes in order of layer depth.\u001b[0m\u001b[1;33m\u001b[0m\u001b[1;33m\u001b[0m\u001b[1;33m\u001b[0m\u001b[0m\n\u001b[0;32m   1206\u001b[0m   \u001b[1;31m# Nodes that cannot yet be processed (if the inbound node\u001b[0m\u001b[1;33m\u001b[0m\u001b[1;33m\u001b[0m\u001b[1;33m\u001b[0m\u001b[0m\n",
      "\u001b[1;32m~\\AppData\\Local\\Continuum\\anaconda3\\lib\\site-packages\\tensorflow\\python\\keras\\engine\\functional.py\u001b[0m in \u001b[0;36mprocess_layer\u001b[1;34m(layer_data)\u001b[0m\n\u001b[0;32m   1184\u001b[0m       \u001b[1;32mfrom\u001b[0m \u001b[0mtensorflow\u001b[0m\u001b[1;33m.\u001b[0m\u001b[0mpython\u001b[0m\u001b[1;33m.\u001b[0m\u001b[0mkeras\u001b[0m\u001b[1;33m.\u001b[0m\u001b[0mlayers\u001b[0m \u001b[1;32mimport\u001b[0m \u001b[0mdeserialize\u001b[0m \u001b[1;32mas\u001b[0m \u001b[0mdeserialize_layer\u001b[0m  \u001b[1;31m# pylint: disable=g-import-not-at-top\u001b[0m\u001b[1;33m\u001b[0m\u001b[1;33m\u001b[0m\u001b[0m\n\u001b[0;32m   1185\u001b[0m \u001b[1;33m\u001b[0m\u001b[0m\n\u001b[1;32m-> 1186\u001b[1;33m       \u001b[0mlayer\u001b[0m \u001b[1;33m=\u001b[0m \u001b[0mdeserialize_layer\u001b[0m\u001b[1;33m(\u001b[0m\u001b[0mlayer_data\u001b[0m\u001b[1;33m,\u001b[0m \u001b[0mcustom_objects\u001b[0m\u001b[1;33m=\u001b[0m\u001b[0mcustom_objects\u001b[0m\u001b[1;33m)\u001b[0m\u001b[1;33m\u001b[0m\u001b[1;33m\u001b[0m\u001b[0m\n\u001b[0m\u001b[0;32m   1187\u001b[0m       \u001b[0mcreated_layers\u001b[0m\u001b[1;33m[\u001b[0m\u001b[0mlayer_name\u001b[0m\u001b[1;33m]\u001b[0m \u001b[1;33m=\u001b[0m \u001b[0mlayer\u001b[0m\u001b[1;33m\u001b[0m\u001b[1;33m\u001b[0m\u001b[0m\n\u001b[0;32m   1188\u001b[0m \u001b[1;33m\u001b[0m\u001b[0m\n",
      "\u001b[1;32m~\\AppData\\Local\\Continuum\\anaconda3\\lib\\site-packages\\tensorflow\\python\\keras\\layers\\serialization.py\u001b[0m in \u001b[0;36mdeserialize\u001b[1;34m(config, custom_objects)\u001b[0m\n\u001b[0;32m    173\u001b[0m       \u001b[0mmodule_objects\u001b[0m\u001b[1;33m=\u001b[0m\u001b[0mLOCAL\u001b[0m\u001b[1;33m.\u001b[0m\u001b[0mALL_OBJECTS\u001b[0m\u001b[1;33m,\u001b[0m\u001b[1;33m\u001b[0m\u001b[1;33m\u001b[0m\u001b[0m\n\u001b[0;32m    174\u001b[0m       \u001b[0mcustom_objects\u001b[0m\u001b[1;33m=\u001b[0m\u001b[0mcustom_objects\u001b[0m\u001b[1;33m,\u001b[0m\u001b[1;33m\u001b[0m\u001b[1;33m\u001b[0m\u001b[0m\n\u001b[1;32m--> 175\u001b[1;33m       printable_module_name='layer')\n\u001b[0m",
      "\u001b[1;32m~\\AppData\\Local\\Continuum\\anaconda3\\lib\\site-packages\\tensorflow\\python\\keras\\utils\\generic_utils.py\u001b[0m in \u001b[0;36mdeserialize_keras_object\u001b[1;34m(identifier, module_objects, custom_objects, printable_module_name)\u001b[0m\n\u001b[0;32m    345\u001b[0m     \u001b[0mconfig\u001b[0m \u001b[1;33m=\u001b[0m \u001b[0midentifier\u001b[0m\u001b[1;33m\u001b[0m\u001b[1;33m\u001b[0m\u001b[0m\n\u001b[0;32m    346\u001b[0m     (cls, cls_config) = class_and_config_for_serialized_keras_object(\n\u001b[1;32m--> 347\u001b[1;33m         config, module_objects, custom_objects, printable_module_name)\n\u001b[0m\u001b[0;32m    348\u001b[0m \u001b[1;33m\u001b[0m\u001b[0m\n\u001b[0;32m    349\u001b[0m     \u001b[1;32mif\u001b[0m \u001b[0mhasattr\u001b[0m\u001b[1;33m(\u001b[0m\u001b[0mcls\u001b[0m\u001b[1;33m,\u001b[0m \u001b[1;34m'from_config'\u001b[0m\u001b[1;33m)\u001b[0m\u001b[1;33m:\u001b[0m\u001b[1;33m\u001b[0m\u001b[1;33m\u001b[0m\u001b[0m\n",
      "\u001b[1;32m~\\AppData\\Local\\Continuum\\anaconda3\\lib\\site-packages\\tensorflow\\python\\keras\\utils\\generic_utils.py\u001b[0m in \u001b[0;36mclass_and_config_for_serialized_keras_object\u001b[1;34m(config, module_objects, custom_objects, printable_module_name)\u001b[0m\n\u001b[0;32m    294\u001b[0m   \u001b[0mcls\u001b[0m \u001b[1;33m=\u001b[0m \u001b[0mget_registered_object\u001b[0m\u001b[1;33m(\u001b[0m\u001b[0mclass_name\u001b[0m\u001b[1;33m,\u001b[0m \u001b[0mcustom_objects\u001b[0m\u001b[1;33m,\u001b[0m \u001b[0mmodule_objects\u001b[0m\u001b[1;33m)\u001b[0m\u001b[1;33m\u001b[0m\u001b[1;33m\u001b[0m\u001b[0m\n\u001b[0;32m    295\u001b[0m   \u001b[1;32mif\u001b[0m \u001b[0mcls\u001b[0m \u001b[1;32mis\u001b[0m \u001b[1;32mNone\u001b[0m\u001b[1;33m:\u001b[0m\u001b[1;33m\u001b[0m\u001b[1;33m\u001b[0m\u001b[0m\n\u001b[1;32m--> 296\u001b[1;33m     \u001b[1;32mraise\u001b[0m \u001b[0mValueError\u001b[0m\u001b[1;33m(\u001b[0m\u001b[1;34m'Unknown '\u001b[0m \u001b[1;33m+\u001b[0m \u001b[0mprintable_module_name\u001b[0m \u001b[1;33m+\u001b[0m \u001b[1;34m': '\u001b[0m \u001b[1;33m+\u001b[0m \u001b[0mclass_name\u001b[0m\u001b[1;33m)\u001b[0m\u001b[1;33m\u001b[0m\u001b[1;33m\u001b[0m\u001b[0m\n\u001b[0m\u001b[0;32m    297\u001b[0m \u001b[1;33m\u001b[0m\u001b[0m\n\u001b[0;32m    298\u001b[0m   \u001b[0mcls_config\u001b[0m \u001b[1;33m=\u001b[0m \u001b[0mconfig\u001b[0m\u001b[1;33m[\u001b[0m\u001b[1;34m'config'\u001b[0m\u001b[1;33m]\u001b[0m\u001b[1;33m\u001b[0m\u001b[1;33m\u001b[0m\u001b[0m\n",
      "\u001b[1;31mValueError\u001b[0m: Unknown layer: TCN"
     ]
    }
   ],
   "source": [
    "\n",
    "# load and evaluate a saved model\n",
    "from numpy import loadtxt\n",
    "from tensorflow.keras.models import load_model\n",
    "\n",
    "# load model\n",
    "model = load_model('../models/tcn_model.h5')\n",
    "\n"
   ]
  },
  {
   "cell_type": "code",
   "execution_count": null,
   "metadata": {},
   "outputs": [],
   "source": [
    "import tensorflow\n",
    "loaded = tensorflow.keras.models.load_model(\"my_model\")"
   ]
  },
  {
   "cell_type": "code",
   "execution_count": null,
   "metadata": {},
   "outputs": [],
   "source": []
  },
  {
   "cell_type": "code",
   "execution_count": null,
   "metadata": {},
   "outputs": [],
   "source": []
  },
  {
   "cell_type": "code",
   "execution_count": null,
   "metadata": {},
   "outputs": [],
   "source": []
  },
  {
   "cell_type": "code",
   "execution_count": null,
   "metadata": {},
   "outputs": [],
   "source": []
  },
  {
   "cell_type": "code",
   "execution_count": null,
   "metadata": {},
   "outputs": [],
   "source": []
  },
  {
   "cell_type": "code",
   "execution_count": 210,
   "metadata": {
    "scrolled": true
   },
   "outputs": [
    {
     "name": "stdout",
     "output_type": "stream",
     "text": [
      "Model: \"functional_19\"\n",
      "_________________________________________________________________\n",
      "Layer (type)                 Output Shape              Param #   \n",
      "=================================================================\n",
      "input_10 (InputLayer)        [(None, 49, 47)]          0         \n",
      "_________________________________________________________________\n",
      "residual_block_0 (ResidualBl [(None, 49, 64), (None, 4 17408     \n",
      "_________________________________________________________________\n",
      "residual_block_1 (ResidualBl [(None, 49, 64), (None, 4 16512     \n",
      "_________________________________________________________________\n",
      "residual_block_2 (ResidualBl [(None, 49, 64), (None, 4 16512     \n",
      "_________________________________________________________________\n",
      "residual_block_3 (ResidualBl [(None, 49, 64), (None, 4 16512     \n",
      "_________________________________________________________________\n",
      "residual_block_4 (ResidualBl [(None, 49, 64), (None, 4 16512     \n",
      "_________________________________________________________________\n",
      "residual_block_5 (ResidualBl [(None, 49, 64), (None, 4 16512     \n",
      "_________________________________________________________________\n",
      "lambda_9 (Lambda)            (None, 64)                0         \n",
      "_________________________________________________________________\n",
      "dense_9 (Dense)              (None, 49)                3185      \n",
      "=================================================================\n",
      "Total params: 103,153\n",
      "Trainable params: 103,153\n",
      "Non-trainable params: 0\n",
      "_________________________________________________________________\n",
      "Epoch 1/100\n",
      "88/88 [==============================] - 1s 16ms/step - loss: 1.3405 - val_loss: 0.0444\n",
      "Epoch 2/100\n",
      "88/88 [==============================] - 1s 9ms/step - loss: 0.0394 - val_loss: 0.0293\n",
      "Epoch 3/100\n",
      "88/88 [==============================] - 1s 9ms/step - loss: 0.0294 - val_loss: 0.0229\n",
      "Epoch 4/100\n",
      "88/88 [==============================] - 1s 9ms/step - loss: 0.0242 - val_loss: 0.0196\n",
      "Epoch 5/100\n",
      "88/88 [==============================] - 1s 9ms/step - loss: 0.0212 - val_loss: 0.0175\n",
      "Epoch 6/100\n",
      "88/88 [==============================] - 1s 9ms/step - loss: 0.0192 - val_loss: 0.0159\n",
      "Epoch 7/100\n",
      "88/88 [==============================] - 1s 9ms/step - loss: 0.0175 - val_loss: 0.0148\n",
      "Epoch 8/100\n",
      "88/88 [==============================] - 1s 9ms/step - loss: 0.0162 - val_loss: 0.0136\n",
      "Epoch 9/100\n",
      "88/88 [==============================] - 1s 9ms/step - loss: 0.0152 - val_loss: 0.0128\n",
      "Epoch 10/100\n",
      "88/88 [==============================] - 1s 9ms/step - loss: 0.0142 - val_loss: 0.0120\n",
      "Epoch 11/100\n",
      "88/88 [==============================] - 1s 9ms/step - loss: 0.0134 - val_loss: 0.0112\n",
      "Epoch 12/100\n",
      "88/88 [==============================] - 1s 9ms/step - loss: 0.0126 - val_loss: 0.0106\n",
      "Epoch 13/100\n",
      "88/88 [==============================] - 1s 9ms/step - loss: 0.0124 - val_loss: 0.0119\n",
      "Epoch 14/100\n",
      "88/88 [==============================] - 1s 9ms/step - loss: 0.0115 - val_loss: 0.0094\n",
      "Epoch 15/100\n",
      "88/88 [==============================] - 1s 9ms/step - loss: 0.0108 - val_loss: 0.0092\n",
      "Epoch 16/100\n",
      "88/88 [==============================] - 1s 8ms/step - loss: 0.0103 - val_loss: 0.0087\n",
      "Epoch 17/100\n",
      "88/88 [==============================] - 1s 9ms/step - loss: 0.0103 - val_loss: 0.0095\n",
      "Epoch 18/100\n",
      "88/88 [==============================] - 1s 9ms/step - loss: 0.0102 - val_loss: 0.0095\n",
      "Epoch 19/100\n",
      "88/88 [==============================] - 1s 9ms/step - loss: 0.0095 - val_loss: 0.0076\n",
      "Epoch 20/100\n",
      "88/88 [==============================] - 1s 9ms/step - loss: 0.0088 - val_loss: 0.0077\n",
      "Epoch 21/100\n",
      "88/88 [==============================] - 1s 9ms/step - loss: 0.0090 - val_loss: 0.0081\n",
      "Epoch 22/100\n",
      "88/88 [==============================] - 1s 9ms/step - loss: 0.0085 - val_loss: 0.0076\n",
      "Epoch 23/100\n",
      "88/88 [==============================] - 1s 9ms/step - loss: 0.0083 - val_loss: 0.0072\n",
      "Epoch 24/100\n",
      "88/88 [==============================] - 1s 9ms/step - loss: 0.0080 - val_loss: 0.0067\n",
      "Epoch 25/100\n",
      "88/88 [==============================] - 1s 9ms/step - loss: 0.0077 - val_loss: 0.0073\n",
      "Epoch 26/100\n",
      "88/88 [==============================] - 1s 9ms/step - loss: 0.0075 - val_loss: 0.0064\n",
      "Epoch 27/100\n",
      "88/88 [==============================] - 1s 9ms/step - loss: 0.0071 - val_loss: 0.0063\n",
      "Epoch 28/100\n",
      "88/88 [==============================] - 1s 9ms/step - loss: 0.0072 - val_loss: 0.0068\n",
      "Epoch 29/100\n",
      "88/88 [==============================] - 1s 9ms/step - loss: 0.0074 - val_loss: 0.0061\n",
      "Epoch 30/100\n",
      "88/88 [==============================] - 1s 9ms/step - loss: 0.0068 - val_loss: 0.0056\n",
      "Epoch 31/100\n",
      "88/88 [==============================] - 1s 8ms/step - loss: 0.0066 - val_loss: 0.0054\n",
      "Epoch 32/100\n",
      "88/88 [==============================] - 1s 9ms/step - loss: 0.0067 - val_loss: 0.0067\n",
      "Epoch 33/100\n",
      "88/88 [==============================] - 1s 9ms/step - loss: 0.0068 - val_loss: 0.0062\n",
      "Epoch 34/100\n",
      "88/88 [==============================] - 1s 9ms/step - loss: 0.0061 - val_loss: 0.0052\n",
      "Epoch 35/100\n",
      "88/88 [==============================] - 1s 9ms/step - loss: 0.0059 - val_loss: 0.0048\n",
      "Epoch 36/100\n",
      "88/88 [==============================] - 1s 9ms/step - loss: 0.0058 - val_loss: 0.0052\n",
      "Epoch 37/100\n",
      "88/88 [==============================] - 1s 9ms/step - loss: 0.0062 - val_loss: 0.0049\n",
      "Epoch 38/100\n",
      "88/88 [==============================] - 1s 9ms/step - loss: 0.0055 - val_loss: 0.0047\n",
      "Epoch 39/100\n",
      "88/88 [==============================] - 1s 9ms/step - loss: 0.0058 - val_loss: 0.0050\n",
      "Epoch 40/100\n",
      "88/88 [==============================] - 1s 9ms/step - loss: 0.0051 - val_loss: 0.0045\n",
      "Epoch 41/100\n",
      "88/88 [==============================] - 1s 9ms/step - loss: 0.0057 - val_loss: 0.0048\n",
      "Epoch 42/100\n",
      "88/88 [==============================] - 1s 9ms/step - loss: 0.0052 - val_loss: 0.0042\n",
      "Epoch 43/100\n",
      "88/88 [==============================] - 1s 9ms/step - loss: 0.0047 - val_loss: 0.0039\n",
      "Epoch 44/100\n",
      "88/88 [==============================] - 1s 9ms/step - loss: 0.0048 - val_loss: 0.0043\n",
      "Epoch 45/100\n",
      "88/88 [==============================] - 1s 9ms/step - loss: 0.0053 - val_loss: 0.0039\n",
      "Epoch 46/100\n",
      "88/88 [==============================] - 1s 9ms/step - loss: 0.0048 - val_loss: 0.0042\n",
      "Epoch 47/100\n",
      "88/88 [==============================] - 1s 9ms/step - loss: 0.0052 - val_loss: 0.0049\n",
      "Epoch 48/100\n",
      "88/88 [==============================] - 1s 9ms/step - loss: 0.0046 - val_loss: 0.0037\n",
      "Epoch 49/100\n",
      "88/88 [==============================] - 1s 9ms/step - loss: 0.0043 - val_loss: 0.0040\n",
      "Epoch 50/100\n",
      "88/88 [==============================] - 1s 9ms/step - loss: 0.0049 - val_loss: 0.0040\n",
      "Epoch 51/100\n",
      "88/88 [==============================] - 1s 9ms/step - loss: 0.0042 - val_loss: 0.0036\n",
      "Epoch 52/100\n",
      "88/88 [==============================] - 1s 9ms/step - loss: 0.0046 - val_loss: 0.0039\n",
      "Epoch 53/100\n",
      "88/88 [==============================] - 1s 9ms/step - loss: 0.0042 - val_loss: 0.0035\n",
      "Epoch 54/100\n",
      "88/88 [==============================] - 1s 9ms/step - loss: 0.0042 - val_loss: 0.0036\n",
      "Epoch 55/100\n",
      "88/88 [==============================] - 1s 9ms/step - loss: 0.0039 - val_loss: 0.0037\n",
      "Epoch 56/100\n",
      "88/88 [==============================] - 1s 9ms/step - loss: 0.0042 - val_loss: 0.0034\n",
      "Epoch 57/100\n",
      "88/88 [==============================] - 1s 9ms/step - loss: 0.0040 - val_loss: 0.0033\n",
      "Epoch 58/100\n",
      "88/88 [==============================] - 1s 9ms/step - loss: 0.0038 - val_loss: 0.0035\n",
      "Epoch 59/100\n",
      "88/88 [==============================] - 1s 9ms/step - loss: 0.0037 - val_loss: 0.0030\n",
      "Epoch 60/100\n",
      "88/88 [==============================] - 1s 9ms/step - loss: 0.0039 - val_loss: 0.0033\n",
      "Epoch 61/100\n",
      "88/88 [==============================] - 1s 9ms/step - loss: 0.0034 - val_loss: 0.0029\n",
      "Epoch 62/100\n",
      "88/88 [==============================] - 1s 9ms/step - loss: 0.0040 - val_loss: 0.0034\n",
      "Epoch 63/100\n",
      "88/88 [==============================] - 1s 9ms/step - loss: 0.0035 - val_loss: 0.0026\n",
      "Epoch 64/100\n",
      "88/88 [==============================] - 1s 9ms/step - loss: 0.0031 - val_loss: 0.0030\n",
      "Epoch 65/100\n",
      "88/88 [==============================] - 1s 9ms/step - loss: 0.0037 - val_loss: 0.0031\n",
      "Epoch 66/100\n",
      "88/88 [==============================] - 1s 9ms/step - loss: 0.0039 - val_loss: 0.0031\n",
      "Epoch 67/100\n",
      "88/88 [==============================] - 1s 9ms/step - loss: 0.0035 - val_loss: 0.0028\n",
      "Epoch 68/100\n",
      "88/88 [==============================] - 1s 9ms/step - loss: 0.0034 - val_loss: 0.0029\n",
      "Epoch 69/100\n",
      "88/88 [==============================] - 1s 9ms/step - loss: 0.0030 - val_loss: 0.0026\n",
      "Epoch 70/100\n",
      "88/88 [==============================] - 1s 9ms/step - loss: 0.0031 - val_loss: 0.0024\n",
      "Epoch 71/100\n",
      "88/88 [==============================] - 1s 9ms/step - loss: 0.0029 - val_loss: 0.0032\n",
      "Epoch 72/100\n",
      "88/88 [==============================] - 1s 9ms/step - loss: 0.0032 - val_loss: 0.0027\n",
      "Epoch 73/100\n",
      "88/88 [==============================] - 1s 9ms/step - loss: 0.0037 - val_loss: 0.0025\n",
      "Epoch 74/100\n",
      "88/88 [==============================] - 1s 9ms/step - loss: 0.0028 - val_loss: 0.0026\n",
      "Epoch 75/100\n",
      "88/88 [==============================] - 1s 9ms/step - loss: 0.0028 - val_loss: 0.0026\n",
      "Epoch 76/100\n",
      "88/88 [==============================] - 1s 9ms/step - loss: 0.0029 - val_loss: 0.0024\n",
      "Epoch 77/100\n",
      "88/88 [==============================] - 1s 8ms/step - loss: 0.0026 - val_loss: 0.0021\n",
      "Epoch 78/100\n",
      "88/88 [==============================] - 1s 9ms/step - loss: 0.0027 - val_loss: 0.0029\n",
      "Epoch 79/100\n",
      "88/88 [==============================] - 1s 9ms/step - loss: 0.0033 - val_loss: 0.0027\n",
      "Epoch 80/100\n",
      "88/88 [==============================] - 1s 9ms/step - loss: 0.0028 - val_loss: 0.0024\n",
      "Epoch 81/100\n",
      "88/88 [==============================] - 1s 9ms/step - loss: 0.0031 - val_loss: 0.0025\n",
      "Epoch 82/100\n",
      "88/88 [==============================] - 1s 9ms/step - loss: 0.0026 - val_loss: 0.0024\n",
      "Epoch 83/100\n",
      "88/88 [==============================] - 1s 9ms/step - loss: 0.0032 - val_loss: 0.0027\n",
      "Epoch 84/100\n",
      "88/88 [==============================] - 1s 9ms/step - loss: 0.0025 - val_loss: 0.0025\n",
      "Epoch 85/100\n",
      "88/88 [==============================] - 1s 9ms/step - loss: 0.0031 - val_loss: 0.0020\n",
      "Epoch 86/100\n",
      "88/88 [==============================] - 1s 9ms/step - loss: 0.0021 - val_loss: 0.0017\n",
      "Epoch 87/100\n",
      "88/88 [==============================] - 1s 9ms/step - loss: 0.0023 - val_loss: 0.0024\n",
      "Epoch 88/100\n",
      "88/88 [==============================] - 1s 9ms/step - loss: 0.0023 - val_loss: 0.0019\n",
      "Epoch 89/100\n",
      "88/88 [==============================] - 1s 9ms/step - loss: 0.0024 - val_loss: 0.0026\n",
      "Epoch 90/100\n",
      "88/88 [==============================] - 1s 9ms/step - loss: 0.0024 - val_loss: 0.0018\n",
      "Epoch 91/100\n",
      "88/88 [==============================] - 1s 9ms/step - loss: 0.0023 - val_loss: 0.0025\n",
      "Epoch 92/100\n",
      "88/88 [==============================] - 1s 9ms/step - loss: 0.0020 - val_loss: 0.0017\n",
      "Epoch 93/100\n",
      "88/88 [==============================] - 1s 9ms/step - loss: 0.0021 - val_loss: 0.0021\n",
      "Epoch 94/100\n",
      "88/88 [==============================] - 1s 9ms/step - loss: 0.0022 - val_loss: 0.0019\n",
      "Epoch 95/100\n",
      "88/88 [==============================] - 1s 9ms/step - loss: 0.0025 - val_loss: 0.0017\n",
      "Epoch 96/100\n",
      "88/88 [==============================] - 1s 9ms/step - loss: 0.0020 - val_loss: 0.0016\n",
      "Epoch 97/100\n",
      "88/88 [==============================] - 1s 9ms/step - loss: 0.0023 - val_loss: 0.0022\n",
      "Epoch 98/100\n",
      "88/88 [==============================] - 1s 9ms/step - loss: 0.0035 - val_loss: 0.0034\n",
      "Epoch 99/100\n",
      "88/88 [==============================] - 1s 9ms/step - loss: 0.0029 - val_loss: 0.0029\n",
      "Epoch 100/100\n",
      "88/88 [==============================] - 1s 9ms/step - loss: 0.0030 - val_loss: 0.0015\n"
     ]
    },
    {
     "ename": "OSError",
     "evalue": "Unable to create file (unable to open file: name = 'models/tcn_model.h5', errno = 2, error message = 'No such file or directory', flags = 13, o_flags = 302)",
     "output_type": "error",
     "traceback": [
      "\u001b[1;31m---------------------------------------------------------------------------\u001b[0m",
      "\u001b[1;31mOSError\u001b[0m                                   Traceback (most recent call last)",
      "\u001b[1;32m<ipython-input-210-2271169ce6be>\u001b[0m in \u001b[0;36m<module>\u001b[1;34m\u001b[0m\n\u001b[0;32m     76\u001b[0m \u001b[0mm\u001b[0m\u001b[1;33m.\u001b[0m\u001b[0mfit\u001b[0m\u001b[1;33m(\u001b[0m\u001b[0mx\u001b[0m\u001b[1;33m,\u001b[0m \u001b[0my\u001b[0m\u001b[1;33m,\u001b[0m \u001b[0mepochs\u001b[0m\u001b[1;33m=\u001b[0m\u001b[1;36m100\u001b[0m\u001b[1;33m,\u001b[0m \u001b[0mvalidation_split\u001b[0m\u001b[1;33m=\u001b[0m\u001b[1;36m0.2\u001b[0m\u001b[1;33m,\u001b[0m \u001b[0mshuffle\u001b[0m\u001b[1;33m=\u001b[0m\u001b[1;32mFalse\u001b[0m\u001b[1;33m,\u001b[0m \u001b[0mverbose\u001b[0m\u001b[1;33m=\u001b[0m\u001b[1;36m1\u001b[0m\u001b[1;33m)\u001b[0m\u001b[1;33m\u001b[0m\u001b[1;33m\u001b[0m\u001b[0m\n\u001b[0;32m     77\u001b[0m \u001b[1;33m\u001b[0m\u001b[0m\n\u001b[1;32m---> 78\u001b[1;33m \u001b[0mm\u001b[0m\u001b[1;33m.\u001b[0m\u001b[0msave\u001b[0m\u001b[1;33m(\u001b[0m\u001b[1;34m'models/tcn_model.h5'\u001b[0m\u001b[1;33m)\u001b[0m\u001b[1;33m\u001b[0m\u001b[1;33m\u001b[0m\u001b[0m\n\u001b[0m\u001b[0;32m     79\u001b[0m \u001b[1;33m\u001b[0m\u001b[0m\n\u001b[0;32m     80\u001b[0m \u001b[1;33m\u001b[0m\u001b[0m\n",
      "\u001b[1;32m~\\AppData\\Local\\Continuum\\anaconda3\\lib\\site-packages\\tensorflow\\python\\keras\\engine\\training.py\u001b[0m in \u001b[0;36msave\u001b[1;34m(self, filepath, overwrite, include_optimizer, save_format, signatures, options)\u001b[0m\n\u001b[0;32m   1977\u001b[0m     \"\"\"\n\u001b[0;32m   1978\u001b[0m     save.save_model(self, filepath, overwrite, include_optimizer, save_format,\n\u001b[1;32m-> 1979\u001b[1;33m                     signatures, options)\n\u001b[0m\u001b[0;32m   1980\u001b[0m \u001b[1;33m\u001b[0m\u001b[0m\n\u001b[0;32m   1981\u001b[0m   def save_weights(self,\n",
      "\u001b[1;32m~\\AppData\\Local\\Continuum\\anaconda3\\lib\\site-packages\\tensorflow\\python\\keras\\saving\\save.py\u001b[0m in \u001b[0;36msave_model\u001b[1;34m(model, filepath, overwrite, include_optimizer, save_format, signatures, options)\u001b[0m\n\u001b[0;32m    129\u001b[0m           'or using `save_weights`.')\n\u001b[0;32m    130\u001b[0m     hdf5_format.save_model_to_hdf5(\n\u001b[1;32m--> 131\u001b[1;33m         model, filepath, overwrite, include_optimizer)\n\u001b[0m\u001b[0;32m    132\u001b[0m   \u001b[1;32melse\u001b[0m\u001b[1;33m:\u001b[0m\u001b[1;33m\u001b[0m\u001b[1;33m\u001b[0m\u001b[0m\n\u001b[0;32m    133\u001b[0m     saved_model_save.save(model, filepath, overwrite, include_optimizer,\n",
      "\u001b[1;32m~\\AppData\\Local\\Continuum\\anaconda3\\lib\\site-packages\\tensorflow\\python\\keras\\saving\\hdf5_format.py\u001b[0m in \u001b[0;36msave_model_to_hdf5\u001b[1;34m(model, filepath, overwrite, include_optimizer)\u001b[0m\n\u001b[0;32m    100\u001b[0m         \u001b[1;32mreturn\u001b[0m\u001b[1;33m\u001b[0m\u001b[1;33m\u001b[0m\u001b[0m\n\u001b[0;32m    101\u001b[0m \u001b[1;33m\u001b[0m\u001b[0m\n\u001b[1;32m--> 102\u001b[1;33m     \u001b[0mf\u001b[0m \u001b[1;33m=\u001b[0m \u001b[0mh5py\u001b[0m\u001b[1;33m.\u001b[0m\u001b[0mFile\u001b[0m\u001b[1;33m(\u001b[0m\u001b[0mfilepath\u001b[0m\u001b[1;33m,\u001b[0m \u001b[0mmode\u001b[0m\u001b[1;33m=\u001b[0m\u001b[1;34m'w'\u001b[0m\u001b[1;33m)\u001b[0m\u001b[1;33m\u001b[0m\u001b[1;33m\u001b[0m\u001b[0m\n\u001b[0m\u001b[0;32m    103\u001b[0m     \u001b[0mopened_new_file\u001b[0m \u001b[1;33m=\u001b[0m \u001b[1;32mTrue\u001b[0m\u001b[1;33m\u001b[0m\u001b[1;33m\u001b[0m\u001b[0m\n\u001b[0;32m    104\u001b[0m   \u001b[1;32melse\u001b[0m\u001b[1;33m:\u001b[0m\u001b[1;33m\u001b[0m\u001b[1;33m\u001b[0m\u001b[0m\n",
      "\u001b[1;32m~\\AppData\\Local\\Continuum\\anaconda3\\lib\\site-packages\\h5py\\_hl\\files.py\u001b[0m in \u001b[0;36m__init__\u001b[1;34m(self, name, mode, driver, libver, userblock_size, swmr, rdcc_nslots, rdcc_nbytes, rdcc_w0, track_order, **kwds)\u001b[0m\n\u001b[0;32m    406\u001b[0m                 fid = make_fid(name, mode, userblock_size,\n\u001b[0;32m    407\u001b[0m                                \u001b[0mfapl\u001b[0m\u001b[1;33m,\u001b[0m \u001b[0mfcpl\u001b[0m\u001b[1;33m=\u001b[0m\u001b[0mmake_fcpl\u001b[0m\u001b[1;33m(\u001b[0m\u001b[0mtrack_order\u001b[0m\u001b[1;33m=\u001b[0m\u001b[0mtrack_order\u001b[0m\u001b[1;33m)\u001b[0m\u001b[1;33m,\u001b[0m\u001b[1;33m\u001b[0m\u001b[1;33m\u001b[0m\u001b[0m\n\u001b[1;32m--> 408\u001b[1;33m                                swmr=swmr)\n\u001b[0m\u001b[0;32m    409\u001b[0m \u001b[1;33m\u001b[0m\u001b[0m\n\u001b[0;32m    410\u001b[0m             \u001b[1;32mif\u001b[0m \u001b[0misinstance\u001b[0m\u001b[1;33m(\u001b[0m\u001b[0mlibver\u001b[0m\u001b[1;33m,\u001b[0m \u001b[0mtuple\u001b[0m\u001b[1;33m)\u001b[0m\u001b[1;33m:\u001b[0m\u001b[1;33m\u001b[0m\u001b[1;33m\u001b[0m\u001b[0m\n",
      "\u001b[1;32m~\\AppData\\Local\\Continuum\\anaconda3\\lib\\site-packages\\h5py\\_hl\\files.py\u001b[0m in \u001b[0;36mmake_fid\u001b[1;34m(name, mode, userblock_size, fapl, fcpl, swmr)\u001b[0m\n\u001b[0;32m    177\u001b[0m         \u001b[0mfid\u001b[0m \u001b[1;33m=\u001b[0m \u001b[0mh5f\u001b[0m\u001b[1;33m.\u001b[0m\u001b[0mcreate\u001b[0m\u001b[1;33m(\u001b[0m\u001b[0mname\u001b[0m\u001b[1;33m,\u001b[0m \u001b[0mh5f\u001b[0m\u001b[1;33m.\u001b[0m\u001b[0mACC_EXCL\u001b[0m\u001b[1;33m,\u001b[0m \u001b[0mfapl\u001b[0m\u001b[1;33m=\u001b[0m\u001b[0mfapl\u001b[0m\u001b[1;33m,\u001b[0m \u001b[0mfcpl\u001b[0m\u001b[1;33m=\u001b[0m\u001b[0mfcpl\u001b[0m\u001b[1;33m)\u001b[0m\u001b[1;33m\u001b[0m\u001b[1;33m\u001b[0m\u001b[0m\n\u001b[0;32m    178\u001b[0m     \u001b[1;32melif\u001b[0m \u001b[0mmode\u001b[0m \u001b[1;33m==\u001b[0m \u001b[1;34m'w'\u001b[0m\u001b[1;33m:\u001b[0m\u001b[1;33m\u001b[0m\u001b[1;33m\u001b[0m\u001b[0m\n\u001b[1;32m--> 179\u001b[1;33m         \u001b[0mfid\u001b[0m \u001b[1;33m=\u001b[0m \u001b[0mh5f\u001b[0m\u001b[1;33m.\u001b[0m\u001b[0mcreate\u001b[0m\u001b[1;33m(\u001b[0m\u001b[0mname\u001b[0m\u001b[1;33m,\u001b[0m \u001b[0mh5f\u001b[0m\u001b[1;33m.\u001b[0m\u001b[0mACC_TRUNC\u001b[0m\u001b[1;33m,\u001b[0m \u001b[0mfapl\u001b[0m\u001b[1;33m=\u001b[0m\u001b[0mfapl\u001b[0m\u001b[1;33m,\u001b[0m \u001b[0mfcpl\u001b[0m\u001b[1;33m=\u001b[0m\u001b[0mfcpl\u001b[0m\u001b[1;33m)\u001b[0m\u001b[1;33m\u001b[0m\u001b[1;33m\u001b[0m\u001b[0m\n\u001b[0m\u001b[0;32m    180\u001b[0m     \u001b[1;32melif\u001b[0m \u001b[0mmode\u001b[0m \u001b[1;33m==\u001b[0m \u001b[1;34m'a'\u001b[0m\u001b[1;33m:\u001b[0m\u001b[1;33m\u001b[0m\u001b[1;33m\u001b[0m\u001b[0m\n\u001b[0;32m    181\u001b[0m         \u001b[1;31m# Open in append mode (read/write).\u001b[0m\u001b[1;33m\u001b[0m\u001b[1;33m\u001b[0m\u001b[1;33m\u001b[0m\u001b[0m\n",
      "\u001b[1;32mh5py\\_objects.pyx\u001b[0m in \u001b[0;36mh5py._objects.with_phil.wrapper\u001b[1;34m()\u001b[0m\n",
      "\u001b[1;32mh5py\\_objects.pyx\u001b[0m in \u001b[0;36mh5py._objects.with_phil.wrapper\u001b[1;34m()\u001b[0m\n",
      "\u001b[1;32mh5py\\h5f.pyx\u001b[0m in \u001b[0;36mh5py.h5f.create\u001b[1;34m()\u001b[0m\n",
      "\u001b[1;31mOSError\u001b[0m: Unable to create file (unable to open file: name = 'models/tcn_model.h5', errno = 2, error message = 'No such file or directory', flags = 13, o_flags = 302)"
     ]
    }
   ],
   "source": [
    "#### from tensorflow.keras import Input, Model\n",
    "\n",
    "from tensorflow.keras import Input, Model\n",
    "\n",
    "from tcn import TCN, tcn_full_summary\n",
    "import pandas as pd\n",
    "\n",
    "from numpy import array\n",
    "from tensorflow.keras.layers import Dense\n",
    "import numpy as np\n",
    "\n",
    "\n",
    "\n",
    "\n",
    "def lag_days(col, x):\n",
    "    df_new = pd.concat([col.shift(i) for i in range(x + 1)], axis=1)\n",
    "    col_names = ['t-' + str(i) for i in range(x + 1)]\n",
    "    df_new.columns = col_names\n",
    "    df_new.columns = list(df_new.columns)[::-1]\n",
    "    return df_new.dropna()\n",
    "\n",
    "\n",
    "\n",
    "# split a multivariate sequence into samples\n",
    "def split_sequences(sequences, n_steps_in, n_steps_out):\n",
    "    X, y = list(), list()\n",
    "    for i in range(len(sequences)):\n",
    "        # find the end of this pattern\n",
    "        end_ix = i + n_steps_in\n",
    "        out_end_ix = end_ix + n_steps_out - 1\n",
    "        # check if we are beyond the dataset\n",
    "        if out_end_ix > len(sequences):\n",
    "            break\n",
    "        # gather input and output parts of the pattern\n",
    "        seq_x, seq_y = sequences[i:end_ix, :-1], sequences[end_ix - 1:out_end_ix, -1]\n",
    "        X.append(seq_x)\n",
    "        y.append(seq_y)\n",
    "    return array(X), array(y)\n",
    "\n",
    "\n",
    "# def temporal_convolutional_network(dataset_location, predictor, forecasting_horizon, cfg):\n",
    "    \n",
    "dataset_location, predictor, forecasting_horizon, cfg = '../datasets/daily-min-temperatures-australia.csv', 'Temp', 49, {'lag_days': 47}\n",
    "df = pd.read_csv(dataset_location)\n",
    "raw_seq = list(df[predictor].values)\n",
    "raw_seq = (raw_seq - np.min(raw_seq)) / np.ptp(raw_seq)\n",
    "df[predictor] = raw_seq\n",
    "df = lag_days(df[predictor], cfg['lag_days'])\n",
    "cols = list(df.columns)\n",
    "cols.remove('t-0')\n",
    "col_arr = [df[col].values for col in cols] + [df['t-0'].values]\n",
    "dataset = np.stack(col_arr, axis=1)\n",
    "\n",
    "# choose a number of time steps\n",
    "n_steps_in, n_steps_out = forecasting_horizon, forecasting_horizon\n",
    "# covert into input/output\n",
    "x, y = split_sequences(dataset, n_steps_in, n_steps_out)\n",
    "# the dataset knows the number of features, e.g. 2\n",
    "n_features = x.shape[2]\n",
    "\n",
    "x = np.asarray(x).astype('float32')\n",
    "y = np.asarray(y).astype('float32')\n",
    "\n",
    "timesteps = cfg['lag_days']\n",
    "batch_size = None\n",
    "i = Input(batch_shape=(batch_size, n_steps_in, n_features))\n",
    "\n",
    "o = TCN(return_sequences=False)(i)  # The TCN layers are here.\n",
    "o = Dense(n_steps_out)(o)\n",
    "\n",
    "m = Model(inputs=[i], outputs=[o])\n",
    "m.compile(optimizer='adam', loss='mse')\n",
    "\n",
    "tcn_full_summary(m, expand_residual_blocks=False)\n",
    "\n",
    "m.fit(x, y, epochs=100, validation_split=0.2, shuffle=False, verbose=1)\n",
    "\n",
    "m.save('models/tcn_model.h5')\n",
    "\n",
    "\n",
    "\n",
    "import os\n",
    "\n",
    "filename = \"models/tcn_model/model.json\"\n",
    "os.makedirs(os.path.dirname(filename), exist_ok=True)\n",
    "\n",
    "# serialize model to JSON\n",
    "model_json = m.to_json()\n",
    "with open(\"models/tcn_model/model.json\", \"w\") as json_file:\n",
    "    json_file.write(model_json)\n",
    "# serialize weights to HDF5\n",
    "m.save_weights(\"models/tcn_model/model.h5\")\n",
    "print(\"Saved model to disk\")\n",
    "\n",
    "\n",
    "# demonstrate prediction\n",
    "x_input = x[-1]\n",
    "x_input = x_input.reshape((1, n_steps_in, n_features))\n",
    "yhat = m.predict(x_input, verbose=0)\n",
    "\n",
    "rmse, r2 = calculate_metrics(yhat[0], df['t-0'].values[-forecasting_horizon:], forecasting_horizon)\n",
    "#     return r2, rmse, df['t-0'].values[-forecasting_horizon:], yhat"
   ]
  },
  {
   "cell_type": "code",
   "execution_count": 211,
   "metadata": {},
   "outputs": [
    {
     "data": {
      "text/plain": [
       "(3507, 49, 47)"
      ]
     },
     "execution_count": 211,
     "metadata": {},
     "output_type": "execute_result"
    }
   ],
   "source": [
    "x.shape"
   ]
  },
  {
   "cell_type": "code",
   "execution_count": 215,
   "metadata": {},
   "outputs": [
    {
     "data": {
      "text/plain": [
       "array([[0.69961977, 0.8060837 , 0.8403042 , ..., 0.5551331 , 0.7148289 ,\n",
       "        0.6806084 ],\n",
       "       [0.63117874, 0.69961977, 0.8060837 , ..., 0.60076046, 0.5551331 ,\n",
       "        0.7148289 ],\n",
       "       [0.6121673 , 0.63117874, 0.69961977, ..., 0.60076046, 0.60076046,\n",
       "        0.5551331 ],\n",
       "       ...,\n",
       "       [0.6501901 , 0.66539925, 0.6387833 , ..., 0.6121673 , 0.63117874,\n",
       "        0.69961977],\n",
       "       [0.68821293, 0.6501901 , 0.66539925, ..., 0.59695816, 0.6121673 ,\n",
       "        0.63117874],\n",
       "       [0.63117874, 0.68821293, 0.6501901 , ..., 0.63117874, 0.59695816,\n",
       "        0.6121673 ]], dtype=float32)"
      ]
     },
     "execution_count": 215,
     "metadata": {},
     "output_type": "execute_result"
    }
   ],
   "source": [
    "x[0]"
   ]
  },
  {
   "cell_type": "code",
   "execution_count": 216,
   "metadata": {},
   "outputs": [
    {
     "data": {
      "text/plain": [
       "array([0.63117874, 0.6121673 , 0.59695816, 0.63117874, 0.62737644,\n",
       "       0.5475285 , 0.5475285 , 0.70342207, 0.6425856 , 0.66539925,\n",
       "       0.8060837 , 0.6768061 , 0.7072243 , 0.6463878 , 0.608365  ,\n",
       "       0.50570345, 0.54372627, 0.4334601 , 0.61977184, 0.6121673 ,\n",
       "       0.4486692 , 0.46387833, 0.55893534, 0.4486692 , 0.4296578 ,\n",
       "       0.40304184, 0.44486693, 0.53992397, 0.42585552, 0.6425856 ,\n",
       "       0.634981  , 0.3079848 , 0.3041825 , 0.33460075, 0.5095057 ,\n",
       "       0.41444868, 0.5095057 , 0.41825095, 0.5703422 , 0.59695816,\n",
       "       0.5513308 , 0.60076046, 0.634981  , 0.6387833 , 0.66539925,\n",
       "       0.6501901 , 0.68821293, 0.63117874, 0.38022813], dtype=float32)"
      ]
     },
     "execution_count": 216,
     "metadata": {},
     "output_type": "execute_result"
    }
   ],
   "source": [
    "y[0]"
   ]
  },
  {
   "cell_type": "code",
   "execution_count": null,
   "metadata": {},
   "outputs": [],
   "source": []
  },
  {
   "cell_type": "code",
   "execution_count": null,
   "metadata": {},
   "outputs": [],
   "source": [
    "# demonstrate prediction\n",
    "x_input = x[-1]\n",
    "x_input = x_input.reshape((1, n_steps_in, n_features))\n",
    "yhat = m.predict(x_input, verbose=0)\n",
    "\n",
    "rmse, r2 = calculate_metrics(yhat[0], df['t-0'].values[-forecasting_horizon:], forecasting_horizon)"
   ]
  },
  {
   "cell_type": "code",
   "execution_count": null,
   "metadata": {},
   "outputs": [],
   "source": [
    "rmse, r2"
   ]
  },
  {
   "cell_type": "code",
   "execution_count": 29,
   "metadata": {},
   "outputs": [],
   "source": [
    "m.save_weights('tcn_weights.h5')"
   ]
  },
  {
   "cell_type": "code",
   "execution_count": 43,
   "metadata": {},
   "outputs": [
    {
     "data": {
      "text/plain": [
       "(None, 49, 47)"
      ]
     },
     "execution_count": 43,
     "metadata": {},
     "output_type": "execute_result"
    }
   ],
   "source": [
    "batch_size, n_steps_in, n_features"
   ]
  },
  {
   "cell_type": "code",
   "execution_count": 38,
   "metadata": {},
   "outputs": [],
   "source": [
    "batch_size = None\n",
    "\n",
    "i = Input(batch_shape=(batch_size, n_steps_in, n_features))\n",
    "\n",
    "o = TCN(return_sequences=False)(i)  # The TCN layers are here.\n",
    "o = Dense(n_steps_out)(o)\n",
    "\n",
    "m = Model(inputs=[i], outputs=[o])\n",
    "m.compile(optimizer='adam', loss='mse')\n",
    "\n"
   ]
  },
  {
   "cell_type": "code",
   "execution_count": 39,
   "metadata": {},
   "outputs": [],
   "source": [
    "m.load_weights('tcn_weights.h5')"
   ]
  },
  {
   "cell_type": "code",
   "execution_count": 40,
   "metadata": {},
   "outputs": [
    {
     "name": "stdout",
     "output_type": "stream",
     "text": [
      "WARNING:tensorflow:5 out of the last 6 calls to <function Model.make_predict_function.<locals>.predict_function at 0x0000020FD4313268> triggered tf.function retracing. Tracing is expensive and the excessive number of tracings could be due to (1) creating @tf.function repeatedly in a loop, (2) passing tensors with different shapes, (3) passing Python objects instead of tensors. For (1), please define your @tf.function outside of the loop. For (2), @tf.function has experimental_relax_shapes=True option that relaxes argument shapes that can avoid unnecessary retracing. For (3), please refer to https://www.tensorflow.org/tutorials/customization/performance#python_or_tensor_args and https://www.tensorflow.org/api_docs/python/tf/function for  more details.\n"
     ]
    },
    {
     "data": {
      "text/plain": [
       "(0.05791602485758341, 0.7521953346609496)"
      ]
     },
     "execution_count": 40,
     "metadata": {},
     "output_type": "execute_result"
    }
   ],
   "source": [
    "# demonstrate prediction\n",
    "x_input = x[-1]\n",
    "x_input = x_input.reshape((1, n_steps_in, n_features))\n",
    "yhat = m.predict(x_input, verbose=0)\n",
    "\n",
    "rmse, r2 = calculate_metrics(yhat[0], df['t-0'].values[-forecasting_horizon:], forecasting_horizon)\n",
    "rmse, r2"
   ]
  },
  {
   "cell_type": "code",
   "execution_count": 41,
   "metadata": {},
   "outputs": [],
   "source": [
    "config = m.get_config()"
   ]
  },
  {
   "cell_type": "code",
   "execution_count": null,
   "metadata": {},
   "outputs": [],
   "source": []
  },
  {
   "cell_type": "code",
   "execution_count": 2,
   "metadata": {},
   "outputs": [
    {
     "data": {
      "text/plain": [
       "0.0"
      ]
     },
     "execution_count": 2,
     "metadata": {},
     "output_type": "execute_result"
    }
   ],
   "source": [
    "np.min(raw_seq)"
   ]
  },
  {
   "cell_type": "code",
   "execution_count": 3,
   "metadata": {},
   "outputs": [
    {
     "data": {
      "text/plain": [
       "1.0"
      ]
     },
     "execution_count": 3,
     "metadata": {},
     "output_type": "execute_result"
    }
   ],
   "source": [
    "np.ptp(raw_seq)"
   ]
  },
  {
   "cell_type": "code",
   "execution_count": 11,
   "metadata": {},
   "outputs": [],
   "source": [
    "dataset_location, predictor, forecasting_horizon, cfg = '../datasets/daily-min-temperatures-australia.csv', 'Temp', 49, {'lag_days': 47}\n",
    "df = pd.read_csv(dataset_location)\n",
    "raw_seq = list(df[predictor].values)"
   ]
  },
  {
   "cell_type": "code",
   "execution_count": 12,
   "metadata": {},
   "outputs": [],
   "source": [
    "input_to_predict = raw_seq[-49:]"
   ]
  },
  {
   "cell_type": "code",
   "execution_count": 13,
   "metadata": {},
   "outputs": [
    {
     "name": "stdout",
     "output_type": "stream",
     "text": [
      "0.0 26.3\n"
     ]
    }
   ],
   "source": [
    "\n",
    "print(np.min(raw_seq), np.ptp(raw_seq))\n",
    "raw_seq = (raw_seq - np.min(raw_seq)) / np.ptp(raw_seq)"
   ]
  },
  {
   "cell_type": "code",
   "execution_count": 14,
   "metadata": {},
   "outputs": [],
   "source": [
    "input_to_predict = raw_seq[-49:]"
   ]
  },
  {
   "cell_type": "code",
   "execution_count": 15,
   "metadata": {},
   "outputs": [
    {
     "data": {
      "text/plain": [
       "49"
      ]
     },
     "execution_count": 15,
     "metadata": {},
     "output_type": "execute_result"
    }
   ],
   "source": [
    "len(input_to_predict)"
   ]
  },
  {
   "cell_type": "code",
   "execution_count": 32,
   "metadata": {},
   "outputs": [],
   "source": [
    "data = {'predictor': input_to_predict}\n",
    "df = pd.DataFrame(data)"
   ]
  },
  {
   "cell_type": "code",
   "execution_count": 33,
   "metadata": {},
   "outputs": [],
   "source": [
    "df = lag_days(df['predictor'], 46)\n",
    "cols = list(df.columns)\n",
    "cols.remove('t-0')\n",
    "col_arr = [df[col].values for col in cols] + [df['t-0'].values]\n",
    "dataset = np.stack(col_arr, axis=1)"
   ]
  },
  {
   "cell_type": "code",
   "execution_count": null,
   "metadata": {},
   "outputs": [],
   "source": []
  },
  {
   "cell_type": "code",
   "execution_count": 34,
   "metadata": {},
   "outputs": [
    {
     "ename": "IndexError",
     "evalue": "tuple index out of range",
     "output_type": "error",
     "traceback": [
      "\u001b[1;31m---------------------------------------------------------------------------\u001b[0m",
      "\u001b[1;31mIndexError\u001b[0m                                Traceback (most recent call last)",
      "\u001b[1;32m<ipython-input-34-4e1c6a965d3a>\u001b[0m in \u001b[0;36m<module>\u001b[1;34m\u001b[0m\n\u001b[0;32m      4\u001b[0m \u001b[0mx\u001b[0m\u001b[1;33m,\u001b[0m \u001b[0my\u001b[0m \u001b[1;33m=\u001b[0m \u001b[0msplit_sequences\u001b[0m\u001b[1;33m(\u001b[0m\u001b[0mdataset\u001b[0m\u001b[1;33m,\u001b[0m \u001b[1;36m46\u001b[0m\u001b[1;33m,\u001b[0m \u001b[1;36m49\u001b[0m\u001b[1;33m)\u001b[0m\u001b[1;33m\u001b[0m\u001b[1;33m\u001b[0m\u001b[0m\n\u001b[0;32m      5\u001b[0m \u001b[1;31m# the dataset knows the number of features, e.g. 2\u001b[0m\u001b[1;33m\u001b[0m\u001b[1;33m\u001b[0m\u001b[1;33m\u001b[0m\u001b[0m\n\u001b[1;32m----> 6\u001b[1;33m \u001b[0mn_features\u001b[0m \u001b[1;33m=\u001b[0m \u001b[0mx\u001b[0m\u001b[1;33m.\u001b[0m\u001b[0mshape\u001b[0m\u001b[1;33m[\u001b[0m\u001b[1;36m2\u001b[0m\u001b[1;33m]\u001b[0m\u001b[1;33m\u001b[0m\u001b[1;33m\u001b[0m\u001b[0m\n\u001b[0m\u001b[0;32m      7\u001b[0m \u001b[1;33m\u001b[0m\u001b[0m\n\u001b[0;32m      8\u001b[0m \u001b[0mx\u001b[0m \u001b[1;33m=\u001b[0m \u001b[0mnp\u001b[0m\u001b[1;33m.\u001b[0m\u001b[0masarray\u001b[0m\u001b[1;33m(\u001b[0m\u001b[0mx\u001b[0m\u001b[1;33m)\u001b[0m\u001b[1;33m.\u001b[0m\u001b[0mastype\u001b[0m\u001b[1;33m(\u001b[0m\u001b[1;34m'float32'\u001b[0m\u001b[1;33m)\u001b[0m\u001b[1;33m\u001b[0m\u001b[1;33m\u001b[0m\u001b[0m\n",
      "\u001b[1;31mIndexError\u001b[0m: tuple index out of range"
     ]
    }
   ],
   "source": [
    "# choose a number of time steps\n",
    "n_steps_in, n_steps_out = 49, 49\n",
    "# covert into input/output\n",
    "x, y = split_sequences(dataset, 46, 49)\n",
    "# the dataset knows the number of features, e.g. 2\n",
    "n_features = x.shape[2]\n",
    "\n",
    "x = np.asarray(x).astype('float32')\n",
    "y = np.asarray(y).astype('float32')"
   ]
  },
  {
   "cell_type": "code",
   "execution_count": 19,
   "metadata": {},
   "outputs": [
    {
     "data": {
      "text/plain": [
       "array([0.78707224, 0.68060837, 0.7148289 , ..., 0.51330798, 0.59695817,\n",
       "       0.49429658])"
      ]
     },
     "execution_count": 19,
     "metadata": {},
     "output_type": "execute_result"
    }
   ],
   "source": [
    "raw_seq"
   ]
  },
  {
   "cell_type": "code",
   "execution_count": 23,
   "metadata": {},
   "outputs": [
    {
     "ename": "IndexError",
     "evalue": "too many indices for array: array is 1-dimensional, but 2 were indexed",
     "output_type": "error",
     "traceback": [
      "\u001b[1;31m---------------------------------------------------------------------------\u001b[0m",
      "\u001b[1;31mIndexError\u001b[0m                                Traceback (most recent call last)",
      "\u001b[1;32m<ipython-input-23-9f2d587d4407>\u001b[0m in \u001b[0;36m<module>\u001b[1;34m\u001b[0m\n\u001b[0;32m     14\u001b[0m         \u001b[0my\u001b[0m\u001b[1;33m.\u001b[0m\u001b[0mappend\u001b[0m\u001b[1;33m(\u001b[0m\u001b[0mseq_y\u001b[0m\u001b[1;33m)\u001b[0m\u001b[1;33m\u001b[0m\u001b[1;33m\u001b[0m\u001b[0m\n\u001b[0;32m     15\u001b[0m     \u001b[1;32mreturn\u001b[0m \u001b[0marray\u001b[0m\u001b[1;33m(\u001b[0m\u001b[0mX\u001b[0m\u001b[1;33m)\u001b[0m\u001b[1;33m,\u001b[0m \u001b[0marray\u001b[0m\u001b[1;33m(\u001b[0m\u001b[0my\u001b[0m\u001b[1;33m)\u001b[0m\u001b[1;33m\u001b[0m\u001b[1;33m\u001b[0m\u001b[0m\n\u001b[1;32m---> 16\u001b[1;33m \u001b[0mX\u001b[0m\u001b[1;33m,\u001b[0m \u001b[0my\u001b[0m \u001b[1;33m=\u001b[0m \u001b[0msplit_sequences\u001b[0m\u001b[1;33m(\u001b[0m\u001b[0mraw_seq\u001b[0m\u001b[1;33m,\u001b[0m \u001b[1;36m49\u001b[0m\u001b[1;33m,\u001b[0m \u001b[1;36m49\u001b[0m\u001b[1;33m)\u001b[0m\u001b[1;33m\u001b[0m\u001b[1;33m\u001b[0m\u001b[0m\n\u001b[0m",
      "\u001b[1;32m<ipython-input-23-9f2d587d4407>\u001b[0m in \u001b[0;36msplit_sequences\u001b[1;34m(sequences, n_steps_in, n_steps_out)\u001b[0m\n\u001b[0;32m     10\u001b[0m             \u001b[1;32mbreak\u001b[0m\u001b[1;33m\u001b[0m\u001b[1;33m\u001b[0m\u001b[0m\n\u001b[0;32m     11\u001b[0m         \u001b[1;31m# gather input and output parts of the pattern\u001b[0m\u001b[1;33m\u001b[0m\u001b[1;33m\u001b[0m\u001b[1;33m\u001b[0m\u001b[0m\n\u001b[1;32m---> 12\u001b[1;33m         \u001b[0mseq_x\u001b[0m\u001b[1;33m,\u001b[0m \u001b[0mseq_y\u001b[0m \u001b[1;33m=\u001b[0m \u001b[0msequences\u001b[0m\u001b[1;33m[\u001b[0m\u001b[0mi\u001b[0m\u001b[1;33m:\u001b[0m\u001b[0mend_ix\u001b[0m\u001b[1;33m,\u001b[0m \u001b[1;33m:\u001b[0m\u001b[1;33m-\u001b[0m\u001b[1;36m1\u001b[0m\u001b[1;33m]\u001b[0m\u001b[1;33m,\u001b[0m \u001b[0msequences\u001b[0m\u001b[1;33m[\u001b[0m\u001b[0mend_ix\u001b[0m \u001b[1;33m-\u001b[0m \u001b[1;36m1\u001b[0m\u001b[1;33m:\u001b[0m\u001b[0mout_end_ix\u001b[0m\u001b[1;33m,\u001b[0m \u001b[1;33m-\u001b[0m\u001b[1;36m1\u001b[0m\u001b[1;33m]\u001b[0m\u001b[1;33m\u001b[0m\u001b[1;33m\u001b[0m\u001b[0m\n\u001b[0m\u001b[0;32m     13\u001b[0m         \u001b[0mX\u001b[0m\u001b[1;33m.\u001b[0m\u001b[0mappend\u001b[0m\u001b[1;33m(\u001b[0m\u001b[0mseq_x\u001b[0m\u001b[1;33m)\u001b[0m\u001b[1;33m\u001b[0m\u001b[1;33m\u001b[0m\u001b[0m\n\u001b[0;32m     14\u001b[0m         \u001b[0my\u001b[0m\u001b[1;33m.\u001b[0m\u001b[0mappend\u001b[0m\u001b[1;33m(\u001b[0m\u001b[0mseq_y\u001b[0m\u001b[1;33m)\u001b[0m\u001b[1;33m\u001b[0m\u001b[1;33m\u001b[0m\u001b[0m\n",
      "\u001b[1;31mIndexError\u001b[0m: too many indices for array: array is 1-dimensional, but 2 were indexed"
     ]
    }
   ],
   "source": [
    "# split a multivariate sequence into samples\n",
    "def split_sequences(sequences, n_steps_in, n_steps_out):\n",
    "    X, y = list(), list()\n",
    "    for i in range(len(sequences)):\n",
    "        # find the end of this pattern\n",
    "        end_ix = i + n_steps_in\n",
    "        out_end_ix = end_ix + n_steps_out - 1\n",
    "        # check if we are beyond the dataset\n",
    "        if out_end_ix > len(sequences):\n",
    "            break\n",
    "        # gather input and output parts of the pattern\n",
    "        seq_x, seq_y = sequences[i:end_ix, :-1], sequences[end_ix - 1:out_end_ix, -1]\n",
    "        X.append(seq_x)\n",
    "        y.append(seq_y)\n",
    "    return array(X), array(y)\n",
    "X, y = split_sequences(raw_seq, 49, 49)"
   ]
  },
  {
   "cell_type": "code",
   "execution_count": null,
   "metadata": {},
   "outputs": [],
   "source": []
  },
  {
   "cell_type": "code",
   "execution_count": null,
   "metadata": {},
   "outputs": [],
   "source": []
  },
  {
   "cell_type": "code",
   "execution_count": null,
   "metadata": {},
   "outputs": [],
   "source": []
  },
  {
   "cell_type": "code",
   "execution_count": null,
   "metadata": {},
   "outputs": [],
   "source": []
  },
  {
   "cell_type": "code",
   "execution_count": 49,
   "metadata": {},
   "outputs": [],
   "source": [
    "from tensorflow.keras import Input, Model\n",
    "\n",
    "from tcn import TCN, tcn_full_summary\n",
    "import pandas as pd\n",
    "\n",
    "from numpy import array\n",
    "from tensorflow.keras.layers import Dense\n",
    "import numpy as np\n",
    "from sklearn.metrics import mean_squared_error\n",
    "from sklearn.metrics import r2_score\n",
    "\n",
    "def calculate_metrics(yhat, test_y, forecasting_horizon):\n",
    "    rmse = mean_squared_error(yhat, test_y) ** 0.5\n",
    "    if forecasting_horizon > 1:\n",
    "        explained_variance = r2_score(test_y, yhat, multioutput = \"variance_weighted\")\n",
    "    else:\n",
    "        explained_variance = 1/abs(rmse)\n",
    "    return rmse, explained_variance\n",
    "\n",
    "\n",
    "\n",
    "\n",
    "def lag_days(col, x):\n",
    "    df_new = pd.concat([col.shift(i) for i in range(x + 1)], axis=1)\n",
    "    col_names = ['t-' + str(i) for i in range(x + 1)]\n",
    "    df_new.columns = col_names\n",
    "    df_new.columns = list(df_new.columns)[::-1]\n",
    "    return df_new.dropna()\n",
    "\n",
    "\n",
    "\n",
    "# split a multivariate sequence into samples\n",
    "def split_sequences(sequences, n_steps_in, n_steps_out):\n",
    "    X, y = list(), list()\n",
    "    for i in range(len(sequences)):\n",
    "        # find the end of this pattern\n",
    "        end_ix = i + n_steps_in\n",
    "        out_end_ix = end_ix + n_steps_out - 1\n",
    "        # check if we are beyond the dataset\n",
    "        if out_end_ix > len(sequences):\n",
    "            break\n",
    "        # gather input and output parts of the pattern\n",
    "        seq_x, seq_y = sequences[i:end_ix, :-1], sequences[end_ix - 1:out_end_ix, -1]\n",
    "        X.append(seq_x)\n",
    "        y.append(seq_y)\n",
    "    return array(X), array(y)"
   ]
  },
  {
   "cell_type": "code",
   "execution_count": 68,
   "metadata": {},
   "outputs": [],
   "source": [
    "\n",
    "# split a univariate sequence into samples\n",
    "def split_sequence(sequence, n_steps_in, n_steps_out):\n",
    "    X, y = list(), list()\n",
    "    for i in range(len(sequence)):\n",
    "        # find the end of this pattern\n",
    "        end_ix = i + n_steps_in\n",
    "        out_end_ix = end_ix + n_steps_out\n",
    "        # check if we are beyond the sequence\n",
    "        if out_end_ix > len(sequence):\n",
    "            break\n",
    "        # gather input and output parts of the pattern\n",
    "        seq_x, seq_y = sequence[i:end_ix], sequence[end_ix:out_end_ix]\n",
    "        X.append(seq_x)\n",
    "        y.append(seq_y)\n",
    "    return array(X), array(y)"
   ]
  },
  {
   "cell_type": "code",
   "execution_count": 128,
   "metadata": {},
   "outputs": [],
   "source": [
    "\n",
    "\n",
    "dataset_location, predictor, forecasting_horizon, cfg = '../datasets/daily-min-temperatures-australia.csv', 'Temp', 49, {'lag_days': 47}\n",
    "\n",
    "df = pd.read_csv(dataset_location)\n",
    "raw_seq = list(df[predictor].values)\n",
    "\n",
    "# min_raw_seq, ptp_raw_seq = np.min(raw_seq), np.ptp(raw_seq)\n",
    "# raw_seq = (raw_seq - np.min(raw_seq)) / np.ptp(raw_seq)\n"
   ]
  },
  {
   "cell_type": "code",
   "execution_count": null,
   "metadata": {
    "scrolled": false
   },
   "outputs": [],
   "source": []
  },
  {
   "cell_type": "code",
   "execution_count": 131,
   "metadata": {},
   "outputs": [],
   "source": [
    "\n",
    "df = lag_days(df[predictor], cfg['lag_days'])\n",
    "cols = list(df.columns)\n",
    "cols.remove('t-0')\n",
    "col_arr = [df[col].values for col in cols] + [df['t-0'].values]\n",
    "dataset = np.stack(col_arr, axis=1)"
   ]
  },
  {
   "cell_type": "code",
   "execution_count": 132,
   "metadata": {},
   "outputs": [
    {
     "data": {
      "text/plain": [
       "3650"
      ]
     },
     "execution_count": 132,
     "metadata": {},
     "output_type": "execute_result"
    }
   ],
   "source": [
    "original_df = pd.read_csv(dataset_location)\n",
    "len(original_df)"
   ]
  },
  {
   "cell_type": "code",
   "execution_count": null,
   "metadata": {},
   "outputs": [],
   "source": []
  },
  {
   "cell_type": "code",
   "execution_count": null,
   "metadata": {},
   "outputs": [],
   "source": []
  },
  {
   "cell_type": "code",
   "execution_count": 133,
   "metadata": {},
   "outputs": [],
   "source": [
    "\n",
    "\n",
    "# choose a number of time steps\n",
    "n_steps_in, n_steps_out = forecasting_horizon, forecasting_horizon\n",
    "# covert into input/output\n",
    "x, y = split_sequences(dataset, n_steps_in, n_steps_out)\n",
    "# the dataset knows the number of features, e.g. 2\n",
    "x = np.asarray(x).astype('float32')\n",
    "y = np.asarray(y).astype('float32')"
   ]
  },
  {
   "cell_type": "code",
   "execution_count": 134,
   "metadata": {},
   "outputs": [
    {
     "data": {
      "text/plain": [
       "((3507, 49, 47), (3507, 49))"
      ]
     },
     "execution_count": 134,
     "metadata": {},
     "output_type": "execute_result"
    }
   ],
   "source": [
    "x.shape, y.shape"
   ]
  },
  {
   "cell_type": "code",
   "execution_count": 39,
   "metadata": {},
   "outputs": [
    {
     "name": "stdout",
     "output_type": "stream",
     "text": [
      "0.05791602485758341 0.7521953346609496\n"
     ]
    }
   ],
   "source": [
    "\n",
    "\n",
    "timesteps = cfg['lag_days']\n",
    "batch_size = None\n",
    "i = Input(batch_shape=(batch_size, n_steps_in, n_features))\n",
    "\n",
    "o = TCN(return_sequences=False)(i)  # The TCN layers are here.\n",
    "o = Dense(n_steps_out)(o)\n",
    "\n",
    "m = Model(inputs=[i], outputs=[o])\n",
    "m.compile(optimizer='adam', loss='mse')\n",
    "m.load_weights('tcn_weights.h5')\n",
    "\n",
    "\n",
    "\n",
    "\n",
    "\n",
    "\n",
    "# demonstrate prediction\n",
    "x_input = x[-1]\n",
    "x_input = x_input.reshape((1, n_steps_in, n_features))\n",
    "yhat = m.predict(x_input, verbose=0)\n",
    "\n",
    "rmse, r2 = calculate_metrics(yhat[0], df['t-0'].values[-forecasting_horizon:], forecasting_horizon)\n",
    "print(rmse, r2)"
   ]
  },
  {
   "cell_type": "code",
   "execution_count": 41,
   "metadata": {},
   "outputs": [
    {
     "data": {
      "text/plain": [
       "(1, 49, 47)"
      ]
     },
     "execution_count": 41,
     "metadata": {},
     "output_type": "execute_result"
    }
   ],
   "source": [
    "x_input.shape"
   ]
  },
  {
   "cell_type": "code",
   "execution_count": 42,
   "metadata": {},
   "outputs": [
    {
     "data": {
      "text/plain": [
       "(3507, 49, 47)"
      ]
     },
     "execution_count": 42,
     "metadata": {},
     "output_type": "execute_result"
    }
   ],
   "source": [
    "x.shape"
   ]
  },
  {
   "cell_type": "code",
   "execution_count": 43,
   "metadata": {},
   "outputs": [
    {
     "data": {
      "text/plain": [
       "array([0.17490494, 0.42205323, 0.33079848, 0.38022814, 0.42965779,\n",
       "       0.39923954, 0.37642586, 0.41825095, 0.53231939, 0.34980989,\n",
       "       0.37262357, 0.22813688, 0.37262357, 0.34980989, 0.4486692 ,\n",
       "       0.39163498, 0.2851711 , 0.29277567, 0.60076046, 0.55513308,\n",
       "       0.39923954, 0.42965779, 0.41444867, 0.24334601, 0.41444867,\n",
       "       0.34220532, 0.41444867, 0.47148289, 0.44106464, 0.50570342,\n",
       "       0.54752852, 0.69961977, 0.51711027, 0.56653992, 0.56273764,\n",
       "       0.58555133, 0.4486692 , 0.49429658, 0.42205323, 0.47528517,\n",
       "       0.69581749, 0.73003802, 0.58555133, 0.49809886, 0.43726236,\n",
       "       0.3269962 , 0.47908745, 0.52471483, 0.55513308])"
      ]
     },
     "execution_count": 43,
     "metadata": {},
     "output_type": "execute_result"
    }
   ],
   "source": [
    "df['t-0'].values[-forecasting_horizon:]"
   ]
  },
  {
   "cell_type": "code",
   "execution_count": 44,
   "metadata": {},
   "outputs": [
    {
     "data": {
      "text/plain": [
       "array([[[0.37262356, 0.61977184, 0.40304184, ..., 0.29657796,\n",
       "         0.3231939 , 0.243346  ],\n",
       "        [0.17490494, 0.37262356, 0.61977184, ..., 0.35361215,\n",
       "         0.29657796, 0.3231939 ],\n",
       "        [0.42205322, 0.17490494, 0.37262356, ..., 0.31939164,\n",
       "         0.35361215, 0.29657796],\n",
       "        ...,\n",
       "        [0.3269962 , 0.43726236, 0.49809885, ..., 0.42205322,\n",
       "         0.17490494, 0.37262356],\n",
       "        [0.47908744, 0.3269962 , 0.43726236, ..., 0.33079848,\n",
       "         0.42205322, 0.17490494],\n",
       "        [0.5247148 , 0.47908744, 0.3269962 , ..., 0.38022813,\n",
       "         0.33079848, 0.42205322]]], dtype=float32)"
      ]
     },
     "execution_count": 44,
     "metadata": {},
     "output_type": "execute_result"
    }
   ],
   "source": [
    "x_input"
   ]
  },
  {
   "cell_type": "code",
   "execution_count": 45,
   "metadata": {},
   "outputs": [
    {
     "data": {
      "text/plain": [
       "47"
      ]
     },
     "execution_count": 45,
     "metadata": {},
     "output_type": "execute_result"
    }
   ],
   "source": [
    "n_features"
   ]
  },
  {
   "cell_type": "code",
   "execution_count": 135,
   "metadata": {},
   "outputs": [
    {
     "data": {
      "text/plain": [
       "array([[ 9.8, 16.3, 10.6, ...,  7.8,  8.5,  6.4],\n",
       "       [ 4.6,  9.8, 16.3, ...,  9.3,  7.8,  8.5],\n",
       "       [11.1,  4.6,  9.8, ...,  8.4,  9.3,  7.8],\n",
       "       ...,\n",
       "       [ 8.6, 11.5, 13.1, ..., 11.1,  4.6,  9.8],\n",
       "       [12.6,  8.6, 11.5, ...,  8.7, 11.1,  4.6],\n",
       "       [13.8, 12.6,  8.6, ..., 10. ,  8.7, 11.1]], dtype=float32)"
      ]
     },
     "execution_count": 135,
     "metadata": {},
     "output_type": "execute_result"
    }
   ],
   "source": [
    "x[-1]"
   ]
  },
  {
   "cell_type": "code",
   "execution_count": 136,
   "metadata": {},
   "outputs": [
    {
     "data": {
      "text/plain": [
       "array([ 4.6, 11.1,  8.7, 10. , 11.3, 10.5,  9.9, 11. , 14. ,  9.2,  9.8,\n",
       "        6. ,  9.8,  9.2, 11.8, 10.3,  7.5,  7.7, 15.8, 14.6, 10.5, 11.3,\n",
       "       10.9,  6.4, 10.9,  9. , 10.9, 12.4, 11.6, 13.3, 14.4, 18.4, 13.6,\n",
       "       14.9, 14.8, 15.4, 11.8, 13. , 11.1, 12.5, 18.3, 19.2, 15.4, 13.1,\n",
       "       11.5,  8.6, 12.6, 13.8, 14.6], dtype=float32)"
      ]
     },
     "execution_count": 136,
     "metadata": {},
     "output_type": "execute_result"
    }
   ],
   "source": [
    "y[-1]"
   ]
  },
  {
   "cell_type": "code",
   "execution_count": 137,
   "metadata": {},
   "outputs": [
    {
     "data": {
      "text/plain": [
       "array([[[18.4, 21.2, 22.1, ..., 14.6, 18.8, 17.9],\n",
       "        [16.6, 18.4, 21.2, ..., 15.8, 14.6, 18.8],\n",
       "        [16.1, 16.6, 18.4, ..., 15.8, 15.8, 14.6],\n",
       "        ...,\n",
       "        [17.1, 17.5, 16.8, ..., 16.1, 16.6, 18.4],\n",
       "        [18.1, 17.1, 17.5, ..., 15.7, 16.1, 16.6],\n",
       "        [16.6, 18.1, 17.1, ..., 16.6, 15.7, 16.1]],\n",
       "\n",
       "       [[16.6, 18.4, 21.2, ..., 15.8, 14.6, 18.8],\n",
       "        [16.1, 16.6, 18.4, ..., 15.8, 15.8, 14.6],\n",
       "        [15.7, 16.1, 16.6, ..., 15.8, 15.8, 15.8],\n",
       "        ...,\n",
       "        [18.1, 17.1, 17.5, ..., 15.7, 16.1, 16.6],\n",
       "        [16.6, 18.1, 17.1, ..., 16.6, 15.7, 16.1],\n",
       "        [10. , 16.6, 18.1, ..., 16.5, 16.6, 15.7]],\n",
       "\n",
       "       [[16.1, 16.6, 18.4, ..., 15.8, 15.8, 14.6],\n",
       "        [15.7, 16.1, 16.6, ..., 15.8, 15.8, 15.8],\n",
       "        [16.6, 15.7, 16.1, ..., 17.4, 15.8, 15.8],\n",
       "        ...,\n",
       "        [16.6, 18.1, 17.1, ..., 16.6, 15.7, 16.1],\n",
       "        [10. , 16.6, 18.1, ..., 16.5, 16.6, 15.7],\n",
       "        [14.9, 10. , 16.6, ..., 14.4, 16.5, 16.6]],\n",
       "\n",
       "       ...,\n",
       "\n",
       "       [[10.6,  5.2,  6.8, ...,  6.4,  6.9,  6.5],\n",
       "        [16.3, 10.6,  5.2, ...,  8.5,  6.4,  6.9],\n",
       "        [ 9.8, 16.3, 10.6, ...,  7.8,  8.5,  6.4],\n",
       "        ...,\n",
       "        [13.1, 15.4, 19.2, ...,  9.8, 16.3, 10.6],\n",
       "        [11.5, 13.1, 15.4, ...,  4.6,  9.8, 16.3],\n",
       "        [ 8.6, 11.5, 13.1, ..., 11.1,  4.6,  9.8]],\n",
       "\n",
       "       [[16.3, 10.6,  5.2, ...,  8.5,  6.4,  6.9],\n",
       "        [ 9.8, 16.3, 10.6, ...,  7.8,  8.5,  6.4],\n",
       "        [ 4.6,  9.8, 16.3, ...,  9.3,  7.8,  8.5],\n",
       "        ...,\n",
       "        [11.5, 13.1, 15.4, ...,  4.6,  9.8, 16.3],\n",
       "        [ 8.6, 11.5, 13.1, ..., 11.1,  4.6,  9.8],\n",
       "        [12.6,  8.6, 11.5, ...,  8.7, 11.1,  4.6]],\n",
       "\n",
       "       [[ 9.8, 16.3, 10.6, ...,  7.8,  8.5,  6.4],\n",
       "        [ 4.6,  9.8, 16.3, ...,  9.3,  7.8,  8.5],\n",
       "        [11.1,  4.6,  9.8, ...,  8.4,  9.3,  7.8],\n",
       "        ...,\n",
       "        [ 8.6, 11.5, 13.1, ..., 11.1,  4.6,  9.8],\n",
       "        [12.6,  8.6, 11.5, ...,  8.7, 11.1,  4.6],\n",
       "        [13.8, 12.6,  8.6, ..., 10. ,  8.7, 11.1]]], dtype=float32)"
      ]
     },
     "execution_count": 137,
     "metadata": {},
     "output_type": "execute_result"
    }
   ],
   "source": [
    "x"
   ]
  },
  {
   "cell_type": "code",
   "execution_count": 142,
   "metadata": {},
   "outputs": [
    {
     "ename": "ImportError",
     "evalue": "cannot import name 'sliding_widow_view' from 'numpy.lib.stride_tricks' (C:\\Users\\DEJOKUR\\AppData\\Local\\Continuum\\anaconda3\\lib\\site-packages\\numpy\\lib\\stride_tricks.py)",
     "output_type": "error",
     "traceback": [
      "\u001b[1;31m---------------------------------------------------------------------------\u001b[0m",
      "\u001b[1;31mImportError\u001b[0m                               Traceback (most recent call last)",
      "\u001b[1;32m<ipython-input-142-25afe54f1d38>\u001b[0m in \u001b[0;36m<module>\u001b[1;34m\u001b[0m\n\u001b[1;32m----> 1\u001b[1;33m \u001b[1;32mfrom\u001b[0m \u001b[0mnumpy\u001b[0m\u001b[1;33m.\u001b[0m\u001b[0mlib\u001b[0m\u001b[1;33m.\u001b[0m\u001b[0mstride_tricks\u001b[0m \u001b[1;32mimport\u001b[0m \u001b[0msliding_widow_view\u001b[0m\u001b[1;33m\u001b[0m\u001b[1;33m\u001b[0m\u001b[0m\n\u001b[0m\u001b[0;32m      2\u001b[0m \u001b[1;33m\u001b[0m\u001b[0m\n\u001b[0;32m      3\u001b[0m \u001b[0msliding_window_view\u001b[0m\u001b[1;33m(\u001b[0m\u001b[0mnp\u001b[0m\u001b[1;33m.\u001b[0m\u001b[0marray\u001b[0m\u001b[1;33m(\u001b[0m\u001b[1;33m[\u001b[0m\u001b[1;36m1\u001b[0m\u001b[1;33m,\u001b[0m \u001b[1;36m2\u001b[0m\u001b[1;33m,\u001b[0m \u001b[1;36m3\u001b[0m\u001b[1;33m,\u001b[0m \u001b[1;36m4\u001b[0m\u001b[1;33m,\u001b[0m \u001b[1;36m5\u001b[0m\u001b[1;33m,\u001b[0m \u001b[1;36m6\u001b[0m\u001b[1;33m]\u001b[0m\u001b[1;33m)\u001b[0m\u001b[1;33m,\u001b[0m \u001b[0mwindow_shape\u001b[0m \u001b[1;33m=\u001b[0m \u001b[1;36m3\u001b[0m\u001b[1;33m)\u001b[0m\u001b[1;33m\u001b[0m\u001b[1;33m\u001b[0m\u001b[0m\n",
      "\u001b[1;31mImportError\u001b[0m: cannot import name 'sliding_widow_view' from 'numpy.lib.stride_tricks' (C:\\Users\\DEJOKUR\\AppData\\Local\\Continuum\\anaconda3\\lib\\site-packages\\numpy\\lib\\stride_tricks.py)"
     ]
    }
   ],
   "source": [
    "from np.lib.stride_tricks import sliding \n",
    "\n",
    "sliding_window_view(np.array([1, 2, 3, 4, 5, 6]), window_shape = 3)"
   ]
  },
  {
   "cell_type": "code",
   "execution_count": 141,
   "metadata": {},
   "outputs": [
    {
     "data": {
      "text/plain": [
       "array([1, 2, 3, 4, 5, 6])"
      ]
     },
     "execution_count": 141,
     "metadata": {},
     "output_type": "execute_result"
    }
   ],
   "source": [
    "as_strided(np.array([1, 2, 3, 4, 5, 6]))"
   ]
  },
  {
   "cell_type": "code",
   "execution_count": 213,
   "metadata": {},
   "outputs": [],
   "source": [
    "df = pd.read_csv(dataset_location)"
   ]
  },
  {
   "cell_type": "code",
   "execution_count": 214,
   "metadata": {},
   "outputs": [
    {
     "data": {
      "text/plain": [
       "3650"
      ]
     },
     "execution_count": 214,
     "metadata": {},
     "output_type": "execute_result"
    }
   ],
   "source": [
    "len(df)"
   ]
  },
  {
   "cell_type": "code",
   "execution_count": 28,
   "metadata": {},
   "outputs": [],
   "source": [
    "from numpy.lib.stride_tricks import as_strided\n",
    "\n",
    "\n",
    "def rolling_window(a, window_size):\n",
    "    shape = (a.shape[0] - window_size + 1, window_size) + a.shape[1:]\n",
    "    strides = (a.strides[0],) + a.strides\n",
    "    return np.lib.stride_tricks.as_strided(a, shape=shape, strides=strides)\n",
    "\n",
    "\n",
    "dataset_location, predictor, forecasting_horizon, cfg = '../datasets/daily-min-temperatures-australia.csv', 'Temp', 49, {'lag_days': 47}\n",
    "\n",
    "df = pd.read_csv(dataset_location)\n",
    "raw_seq = list(df[predictor].values)\n",
    "\n",
    "min_raw_seq, ptp_raw_seq = np.min(raw_seq), np.ptp(raw_seq)\n",
    "raw_seq = (raw_seq - np.min(raw_seq)) / np.ptp(raw_seq)"
   ]
  },
  {
   "cell_type": "code",
   "execution_count": 29,
   "metadata": {},
   "outputs": [],
   "source": [
    "lag_1 = 500 \n",
    "lag_2 = 500\n",
    "forecasting_horizon = 49\n",
    "\n",
    "x = rolling_window(raw_seq, lag_1)[:-forecasting_horizon]\n",
    "y = rolling_window(raw_seq, forecasting_horizon)[lag_1:]"
   ]
  },
  {
   "cell_type": "code",
   "execution_count": 30,
   "metadata": {},
   "outputs": [
    {
     "data": {
      "text/plain": [
       "(3102, 500)"
      ]
     },
     "execution_count": 30,
     "metadata": {},
     "output_type": "execute_result"
    }
   ],
   "source": [
    "x.shape"
   ]
  },
  {
   "cell_type": "code",
   "execution_count": 31,
   "metadata": {
    "scrolled": true
   },
   "outputs": [],
   "source": [
    "xi = []\n",
    "for i in range(x.shape[0]):\n",
    "    xi.append(rolling_window(x[i], lag_2))"
   ]
  },
  {
   "cell_type": "code",
   "execution_count": 32,
   "metadata": {},
   "outputs": [],
   "source": [
    "x = np.array(xi)"
   ]
  },
  {
   "cell_type": "code",
   "execution_count": 33,
   "metadata": {},
   "outputs": [
    {
     "data": {
      "text/plain": [
       "(3102, 1, 500)"
      ]
     },
     "execution_count": 33,
     "metadata": {},
     "output_type": "execute_result"
    }
   ],
   "source": [
    "x.shape"
   ]
  },
  {
   "cell_type": "code",
   "execution_count": 34,
   "metadata": {},
   "outputs": [
    {
     "data": {
      "text/plain": [
       "((3102, 1, 500), (3102, 49))"
      ]
     },
     "execution_count": 34,
     "metadata": {},
     "output_type": "execute_result"
    }
   ],
   "source": [
    "x.shape, y.shape"
   ]
  },
  {
   "cell_type": "code",
   "execution_count": null,
   "metadata": {
    "scrolled": true
   },
   "outputs": [],
   "source": []
  },
  {
   "cell_type": "code",
   "execution_count": 35,
   "metadata": {},
   "outputs": [
    {
     "name": "stdout",
     "output_type": "stream",
     "text": [
      "Model: \"functional_9\"\n",
      "_________________________________________________________________\n",
      "Layer (type)                 Output Shape              Param #   \n",
      "=================================================================\n",
      "input_5 (InputLayer)         [(None, 1, 500)]          0         \n",
      "_________________________________________________________________\n",
      "residual_block_0 (ResidualBl [(None, 1, 64), (None, 1, 104384    \n",
      "_________________________________________________________________\n",
      "residual_block_1 (ResidualBl [(None, 1, 64), (None, 1, 16512     \n",
      "_________________________________________________________________\n",
      "residual_block_2 (ResidualBl [(None, 1, 64), (None, 1, 16512     \n",
      "_________________________________________________________________\n",
      "residual_block_3 (ResidualBl [(None, 1, 64), (None, 1, 16512     \n",
      "_________________________________________________________________\n",
      "residual_block_4 (ResidualBl [(None, 1, 64), (None, 1, 16512     \n",
      "_________________________________________________________________\n",
      "residual_block_5 (ResidualBl [(None, 1, 64), (None, 1, 16512     \n",
      "_________________________________________________________________\n",
      "lambda_4 (Lambda)            (None, 64)                0         \n",
      "_________________________________________________________________\n",
      "dense_4 (Dense)              (None, 49)                3185      \n",
      "=================================================================\n",
      "Total params: 190,129\n",
      "Trainable params: 190,129\n",
      "Non-trainable params: 0\n",
      "_________________________________________________________________\n",
      "Epoch 1/100\n",
      "78/78 [==============================] - 1s 14ms/step - loss: 0.2115 - val_loss: 0.0135\n",
      "Epoch 2/100\n",
      "78/78 [==============================] - 0s 6ms/step - loss: 0.0186 - val_loss: 0.0123\n",
      "Epoch 3/100\n",
      "78/78 [==============================] - 0s 6ms/step - loss: 0.0159 - val_loss: 0.0119\n",
      "Epoch 4/100\n",
      "78/78 [==============================] - 0s 6ms/step - loss: 0.0154 - val_loss: 0.0119\n",
      "Epoch 5/100\n",
      "78/78 [==============================] - 0s 6ms/step - loss: 0.0152 - val_loss: 0.0114\n",
      "Epoch 6/100\n",
      "78/78 [==============================] - 0s 6ms/step - loss: 0.0151 - val_loss: 0.0115\n",
      "Epoch 7/100\n",
      "78/78 [==============================] - 0s 6ms/step - loss: 0.0149 - val_loss: 0.0111\n",
      "Epoch 8/100\n",
      "78/78 [==============================] - 0s 6ms/step - loss: 0.0148 - val_loss: 0.0110\n",
      "Epoch 9/100\n",
      "78/78 [==============================] - 0s 6ms/step - loss: 0.0146 - val_loss: 0.0110\n",
      "Epoch 10/100\n",
      "78/78 [==============================] - 0s 6ms/step - loss: 0.0144 - val_loss: 0.0110\n",
      "Epoch 11/100\n",
      "78/78 [==============================] - 0s 6ms/step - loss: 0.0142 - val_loss: 0.0110\n",
      "Epoch 12/100\n",
      "78/78 [==============================] - 0s 6ms/step - loss: 0.0144 - val_loss: 0.0107\n",
      "Epoch 13/100\n",
      "78/78 [==============================] - 0s 6ms/step - loss: 0.0141 - val_loss: 0.0110\n",
      "Epoch 14/100\n",
      "78/78 [==============================] - 0s 6ms/step - loss: 0.0140 - val_loss: 0.0109\n",
      "Epoch 15/100\n",
      "78/78 [==============================] - 0s 6ms/step - loss: 0.0139 - val_loss: 0.0110\n",
      "Epoch 16/100\n",
      "78/78 [==============================] - 0s 6ms/step - loss: 0.0137 - val_loss: 0.0112\n",
      "Epoch 17/100\n",
      "78/78 [==============================] - 0s 6ms/step - loss: 0.0135 - val_loss: 0.0112\n",
      "Epoch 18/100\n",
      "78/78 [==============================] - 0s 6ms/step - loss: 0.0134 - val_loss: 0.0112\n",
      "Epoch 19/100\n",
      "78/78 [==============================] - 0s 6ms/step - loss: 0.0133 - val_loss: 0.0114\n",
      "Epoch 20/100\n",
      "78/78 [==============================] - 0s 6ms/step - loss: 0.0132 - val_loss: 0.0115\n",
      "Epoch 21/100\n",
      "78/78 [==============================] - 0s 6ms/step - loss: 0.0131 - val_loss: 0.0115\n",
      "Epoch 22/100\n",
      "78/78 [==============================] - 0s 6ms/step - loss: 0.0130 - val_loss: 0.0117\n",
      "Epoch 23/100\n",
      "78/78 [==============================] - 0s 6ms/step - loss: 0.0129 - val_loss: 0.0117\n",
      "Epoch 24/100\n",
      "78/78 [==============================] - 0s 6ms/step - loss: 0.0128 - val_loss: 0.0118\n",
      "Epoch 25/100\n",
      "78/78 [==============================] - 0s 6ms/step - loss: 0.0130 - val_loss: 0.0118\n",
      "Epoch 26/100\n",
      "78/78 [==============================] - 1s 6ms/step - loss: 0.0130 - val_loss: 0.0119\n",
      "Epoch 27/100\n",
      "78/78 [==============================] - 0s 6ms/step - loss: 0.0126 - val_loss: 0.0119\n",
      "Epoch 28/100\n",
      "78/78 [==============================] - 0s 6ms/step - loss: 0.0124 - val_loss: 0.0120\n",
      "Epoch 29/100\n",
      "78/78 [==============================] - 0s 6ms/step - loss: 0.0124 - val_loss: 0.0120\n",
      "Epoch 30/100\n",
      "78/78 [==============================] - 0s 6ms/step - loss: 0.0124 - val_loss: 0.0120\n",
      "Epoch 31/100\n",
      "78/78 [==============================] - 0s 6ms/step - loss: 0.0123 - val_loss: 0.0120\n",
      "Epoch 32/100\n",
      "78/78 [==============================] - 0s 6ms/step - loss: 0.0123 - val_loss: 0.0120\n",
      "Epoch 33/100\n",
      "78/78 [==============================] - 0s 6ms/step - loss: 0.0123 - val_loss: 0.0120\n",
      "Epoch 34/100\n",
      "78/78 [==============================] - 0s 6ms/step - loss: 0.0123 - val_loss: 0.0120\n",
      "Epoch 35/100\n",
      "78/78 [==============================] - 0s 6ms/step - loss: 0.0123 - val_loss: 0.0118\n",
      "Epoch 36/100\n",
      "78/78 [==============================] - 0s 6ms/step - loss: 0.0124 - val_loss: 0.0106\n",
      "Epoch 37/100\n",
      "78/78 [==============================] - 0s 6ms/step - loss: 0.0127 - val_loss: 0.0120\n",
      "Epoch 38/100\n",
      "78/78 [==============================] - 0s 6ms/step - loss: 0.0123 - val_loss: 0.0123\n",
      "Epoch 39/100\n",
      "78/78 [==============================] - 0s 6ms/step - loss: 0.0124 - val_loss: 0.0122\n",
      "Epoch 40/100\n",
      "78/78 [==============================] - 0s 6ms/step - loss: 0.0123 - val_loss: 0.0124\n",
      "Epoch 41/100\n",
      "78/78 [==============================] - 0s 6ms/step - loss: 0.0124 - val_loss: 0.0123\n",
      "Epoch 42/100\n",
      "78/78 [==============================] - 0s 6ms/step - loss: 0.0122 - val_loss: 0.0124\n",
      "Epoch 43/100\n",
      "78/78 [==============================] - 0s 6ms/step - loss: 0.0123 - val_loss: 0.0124\n",
      "Epoch 44/100\n",
      "78/78 [==============================] - 0s 6ms/step - loss: 0.0122 - val_loss: 0.0124\n",
      "Epoch 45/100\n",
      "78/78 [==============================] - 0s 6ms/step - loss: 0.0122 - val_loss: 0.0124\n",
      "Epoch 46/100\n",
      "78/78 [==============================] - 0s 6ms/step - loss: 0.0122 - val_loss: 0.0126\n",
      "Epoch 47/100\n",
      "78/78 [==============================] - 0s 6ms/step - loss: 0.0122 - val_loss: 0.0127\n",
      "Epoch 48/100\n",
      "78/78 [==============================] - 0s 6ms/step - loss: 0.0122 - val_loss: 0.0127\n",
      "Epoch 49/100\n",
      "78/78 [==============================] - 0s 6ms/step - loss: 0.0123 - val_loss: 0.0130\n",
      "Epoch 50/100\n",
      "78/78 [==============================] - 0s 6ms/step - loss: 0.0121 - val_loss: 0.0128\n",
      "Epoch 51/100\n",
      "78/78 [==============================] - 0s 6ms/step - loss: 0.0122 - val_loss: 0.0132\n",
      "Epoch 52/100\n",
      "78/78 [==============================] - 0s 6ms/step - loss: 0.0121 - val_loss: 0.0131\n",
      "Epoch 53/100\n",
      "78/78 [==============================] - 0s 6ms/step - loss: 0.0121 - val_loss: 0.0132\n",
      "Epoch 54/100\n",
      "78/78 [==============================] - 0s 6ms/step - loss: 0.0122 - val_loss: 0.0133\n",
      "Epoch 55/100\n",
      "78/78 [==============================] - 0s 6ms/step - loss: 0.0121 - val_loss: 0.0123\n",
      "Epoch 56/100\n",
      "78/78 [==============================] - 0s 6ms/step - loss: 0.0121 - val_loss: 0.0134\n",
      "Epoch 57/100\n",
      "78/78 [==============================] - 0s 6ms/step - loss: 0.0121 - val_loss: 0.0134\n",
      "Epoch 58/100\n",
      "78/78 [==============================] - 1s 7ms/step - loss: 0.0121 - val_loss: 0.0133\n",
      "Epoch 59/100\n",
      "78/78 [==============================] - 0s 6ms/step - loss: 0.0121 - val_loss: 0.0125\n",
      "Epoch 60/100\n",
      "78/78 [==============================] - 0s 6ms/step - loss: 0.0121 - val_loss: 0.0131\n",
      "Epoch 61/100\n",
      "78/78 [==============================] - 0s 6ms/step - loss: 0.0119 - val_loss: 0.0132\n",
      "Epoch 62/100\n",
      "78/78 [==============================] - 0s 6ms/step - loss: 0.0119 - val_loss: 0.0132\n",
      "Epoch 63/100\n",
      "78/78 [==============================] - 0s 6ms/step - loss: 0.0119 - val_loss: 0.0132\n",
      "Epoch 64/100\n",
      "78/78 [==============================] - 0s 6ms/step - loss: 0.0119 - val_loss: 0.0136\n",
      "Epoch 65/100\n",
      "78/78 [==============================] - 0s 6ms/step - loss: 0.0120 - val_loss: 0.0140\n",
      "Epoch 66/100\n",
      "78/78 [==============================] - 0s 6ms/step - loss: 0.0120 - val_loss: 0.0135\n",
      "Epoch 67/100\n",
      "78/78 [==============================] - 0s 6ms/step - loss: 0.0119 - val_loss: 0.0136\n",
      "Epoch 68/100\n",
      "78/78 [==============================] - 0s 6ms/step - loss: 0.0120 - val_loss: 0.0138\n",
      "Epoch 69/100\n",
      "78/78 [==============================] - 0s 6ms/step - loss: 0.0120 - val_loss: 0.0131\n",
      "Epoch 70/100\n",
      "78/78 [==============================] - 0s 6ms/step - loss: 0.0122 - val_loss: 0.0138\n",
      "Epoch 71/100\n",
      "78/78 [==============================] - 0s 6ms/step - loss: 0.0120 - val_loss: 0.0131\n",
      "Epoch 72/100\n",
      "78/78 [==============================] - 0s 6ms/step - loss: 0.0119 - val_loss: 0.0134\n",
      "Epoch 73/100\n",
      "78/78 [==============================] - 0s 6ms/step - loss: 0.0118 - val_loss: 0.0133\n",
      "Epoch 74/100\n",
      "78/78 [==============================] - 0s 6ms/step - loss: 0.0118 - val_loss: 0.0136\n",
      "Epoch 75/100\n",
      "78/78 [==============================] - 0s 6ms/step - loss: 0.0117 - val_loss: 0.0138\n",
      "Epoch 76/100\n",
      "78/78 [==============================] - 0s 6ms/step - loss: 0.0118 - val_loss: 0.0138\n",
      "Epoch 77/100\n",
      "78/78 [==============================] - 0s 6ms/step - loss: 0.0118 - val_loss: 0.0138\n",
      "Epoch 78/100\n",
      "78/78 [==============================] - 0s 6ms/step - loss: 0.0118 - val_loss: 0.0136\n",
      "Epoch 79/100\n",
      "78/78 [==============================] - 0s 6ms/step - loss: 0.0118 - val_loss: 0.0135\n",
      "Epoch 80/100\n",
      "78/78 [==============================] - 0s 6ms/step - loss: 0.0118 - val_loss: 0.0134\n",
      "Epoch 81/100\n",
      "78/78 [==============================] - 0s 6ms/step - loss: 0.0118 - val_loss: 0.0134\n",
      "Epoch 82/100\n",
      "78/78 [==============================] - 0s 6ms/step - loss: 0.0117 - val_loss: 0.0135\n",
      "Epoch 83/100\n",
      "78/78 [==============================] - 0s 6ms/step - loss: 0.0118 - val_loss: 0.0138\n",
      "Epoch 84/100\n",
      "78/78 [==============================] - 0s 6ms/step - loss: 0.0118 - val_loss: 0.0119\n",
      "Epoch 85/100\n",
      "78/78 [==============================] - 0s 6ms/step - loss: 0.0120 - val_loss: 0.0136\n",
      "Epoch 86/100\n",
      "78/78 [==============================] - 0s 6ms/step - loss: 0.0119 - val_loss: 0.0135\n",
      "Epoch 87/100\n",
      "78/78 [==============================] - 0s 6ms/step - loss: 0.0119 - val_loss: 0.0144\n",
      "Epoch 88/100\n",
      "78/78 [==============================] - 0s 6ms/step - loss: 0.0118 - val_loss: 0.0133\n",
      "Epoch 89/100\n",
      "78/78 [==============================] - 0s 6ms/step - loss: 0.0118 - val_loss: 0.0138\n",
      "Epoch 90/100\n",
      "78/78 [==============================] - 0s 6ms/step - loss: 0.0118 - val_loss: 0.0135\n",
      "Epoch 91/100\n",
      "78/78 [==============================] - 0s 6ms/step - loss: 0.0117 - val_loss: 0.0131\n",
      "Epoch 92/100\n",
      "78/78 [==============================] - 0s 6ms/step - loss: 0.0117 - val_loss: 0.0133\n",
      "Epoch 93/100\n",
      "78/78 [==============================] - 0s 6ms/step - loss: 0.0116 - val_loss: 0.0139\n",
      "Epoch 94/100\n",
      "78/78 [==============================] - 0s 6ms/step - loss: 0.0117 - val_loss: 0.0140\n",
      "Epoch 95/100\n",
      "78/78 [==============================] - 0s 6ms/step - loss: 0.0117 - val_loss: 0.0141\n",
      "Epoch 96/100\n",
      "78/78 [==============================] - 0s 6ms/step - loss: 0.0117 - val_loss: 0.0140\n",
      "Epoch 97/100\n",
      "78/78 [==============================] - 0s 6ms/step - loss: 0.0117 - val_loss: 0.0142\n",
      "Epoch 98/100\n",
      "78/78 [==============================] - 0s 6ms/step - loss: 0.0117 - val_loss: 0.0138\n",
      "Epoch 99/100\n",
      "78/78 [==============================] - 0s 6ms/step - loss: 0.0118 - val_loss: 0.0138\n",
      "Epoch 100/100\n",
      "78/78 [==============================] - 0s 6ms/step - loss: 0.0116 - val_loss: 0.0141\n"
     ]
    },
    {
     "data": {
      "text/plain": [
       "<tensorflow.python.keras.callbacks.History at 0x1ef10f2bdd8>"
      ]
     },
     "execution_count": 35,
     "metadata": {},
     "output_type": "execute_result"
    }
   ],
   "source": [
    "batch_size = None\n",
    "i = Input(batch_shape=(batch_size, x.shape[1], x.shape[2]))\n",
    "\n",
    "o = TCN(return_sequences=False)(i)  # The TCN layers are here.\n",
    "o = Dense(forecasting_horizon)(o)\n",
    "\n",
    "m = Model(inputs=[i], outputs=[o])\n",
    "m.compile(optimizer='adam', loss='mse')\n",
    "\n",
    "tcn_full_summary(m, expand_residual_blocks=False)\n",
    "\n",
    "m.fit(x, y, epochs=100, validation_split=0.2, shuffle=False, verbose=1)"
   ]
  },
  {
   "cell_type": "code",
   "execution_count": 37,
   "metadata": {},
   "outputs": [],
   "source": [
    "# demonstrate prediction\n",
    "x_input = x[-1]\n",
    "x_input = x_input.reshape((1, x.shape[1], x.shape[2]))\n",
    "yhat = m.predict(x_input, verbose=0)"
   ]
  },
  {
   "cell_type": "code",
   "execution_count": 39,
   "metadata": {},
   "outputs": [
    {
     "data": {
      "text/plain": [
       "(1, 1, 500)"
      ]
     },
     "execution_count": 39,
     "metadata": {},
     "output_type": "execute_result"
    }
   ],
   "source": [
    "x_input.shape"
   ]
  },
  {
   "cell_type": "code",
   "execution_count": 36,
   "metadata": {},
   "outputs": [
    {
     "ename": "NameError",
     "evalue": "name 'calculate_metrics' is not defined",
     "output_type": "error",
     "traceback": [
      "\u001b[1;31m---------------------------------------------------------------------------\u001b[0m",
      "\u001b[1;31mNameError\u001b[0m                                 Traceback (most recent call last)",
      "\u001b[1;32m<ipython-input-36-17afb59d36b4>\u001b[0m in \u001b[0;36m<module>\u001b[1;34m\u001b[0m\n\u001b[0;32m      4\u001b[0m \u001b[0myhat\u001b[0m \u001b[1;33m=\u001b[0m \u001b[0mm\u001b[0m\u001b[1;33m.\u001b[0m\u001b[0mpredict\u001b[0m\u001b[1;33m(\u001b[0m\u001b[0mx_input\u001b[0m\u001b[1;33m,\u001b[0m \u001b[0mverbose\u001b[0m\u001b[1;33m=\u001b[0m\u001b[1;36m0\u001b[0m\u001b[1;33m)\u001b[0m\u001b[1;33m\u001b[0m\u001b[1;33m\u001b[0m\u001b[0m\n\u001b[0;32m      5\u001b[0m \u001b[1;33m\u001b[0m\u001b[0m\n\u001b[1;32m----> 6\u001b[1;33m \u001b[0mrmse\u001b[0m\u001b[1;33m,\u001b[0m \u001b[0mr2\u001b[0m \u001b[1;33m=\u001b[0m \u001b[0mcalculate_metrics\u001b[0m\u001b[1;33m(\u001b[0m\u001b[0myhat\u001b[0m\u001b[1;33m[\u001b[0m\u001b[1;36m0\u001b[0m\u001b[1;33m]\u001b[0m\u001b[1;33m,\u001b[0m \u001b[0my\u001b[0m\u001b[1;33m[\u001b[0m\u001b[1;33m-\u001b[0m\u001b[1;36m1\u001b[0m\u001b[1;33m]\u001b[0m\u001b[1;33m,\u001b[0m \u001b[0mforecasting_horizon\u001b[0m\u001b[1;33m)\u001b[0m\u001b[1;33m\u001b[0m\u001b[1;33m\u001b[0m\u001b[0m\n\u001b[0m\u001b[0;32m      7\u001b[0m \u001b[0mprint\u001b[0m\u001b[1;33m(\u001b[0m\u001b[0mrmse\u001b[0m\u001b[1;33m,\u001b[0m \u001b[0mr2\u001b[0m\u001b[1;33m)\u001b[0m\u001b[1;33m\u001b[0m\u001b[1;33m\u001b[0m\u001b[0m\n",
      "\u001b[1;31mNameError\u001b[0m: name 'calculate_metrics' is not defined"
     ]
    }
   ],
   "source": [
    "\n",
    "\n",
    "rmse, r2 = calculate_metrics(yhat[0], y[-1], forecasting_horizon)\n",
    "print(rmse, r2)"
   ]
  },
  {
   "cell_type": "code",
   "execution_count": 331,
   "metadata": {},
   "outputs": [
    {
     "data": {
      "text/plain": [
       "array([[0.53544265, 0.53490907, 0.5574221 , 0.5317352 , 0.54233104,\n",
       "        0.52954817, 0.5520925 , 0.53929114, 0.55763316, 0.55379486,\n",
       "        0.56352633, 0.5500461 , 0.5506035 , 0.55427796, 0.5636853 ,\n",
       "        0.5697621 , 0.5728016 , 0.567135  , 0.56377697, 0.5665606 ,\n",
       "        0.57338977, 0.57711613, 0.5594833 , 0.5771289 , 0.5722681 ,\n",
       "        0.56195897, 0.56746984, 0.5844873 , 0.5618268 , 0.5862116 ,\n",
       "        0.5717583 , 0.56768167, 0.5857583 , 0.57638526, 0.5683934 ,\n",
       "        0.57479876, 0.5738537 , 0.5870762 , 0.5880126 , 0.58709574,\n",
       "        0.585824  , 0.57265794, 0.5908673 , 0.5860283 , 0.5874331 ,\n",
       "        0.58623075, 0.5871896 , 0.5943332 , 0.5793346 ]], dtype=float32)"
      ]
     },
     "execution_count": 331,
     "metadata": {},
     "output_type": "execute_result"
    }
   ],
   "source": [
    "yhat"
   ]
  },
  {
   "cell_type": "code",
   "execution_count": 332,
   "metadata": {},
   "outputs": [
    {
     "data": {
      "image/png": "[encoded data removed]",
      "text/plain": [
       "<Figure size 432x288 with 1 Axes>"
      ]
     },
     "metadata": {
      "needs_background": "light"
     },
     "output_type": "display_data"
    }
   ],
   "source": [
    "import matplotlib.pyplot as plt\n",
    "plt.plot(y[-1])\n",
    "plt.plot(yhat[0])\n",
    "plt.show()"
   ]
  },
  {
   "cell_type": "code",
   "execution_count": 311,
   "metadata": {},
   "outputs": [
    {
     "data": {
      "text/plain": [
       "array([[0.78707224, 0.68060837, 0.7148289 , 0.55513308, 0.60076046,\n",
       "        0.60076046, 0.60076046, 0.66159696, 0.82889734, 0.76045627,\n",
       "        0.61596958, 0.50570342, 0.63498099, 0.81749049, 0.95057034,\n",
       "        0.78707224, 0.78326996, 0.94296578, 0.6730038 , 0.58935361,\n",
       "        0.69201521, 0.46007605, 0.54752852, 0.60836502, 0.62737643,\n",
       "        0.71102662, 0.73764259, 0.6539924 , 0.58935361, 0.57414449,\n",
       "        0.58555133, 0.58174905, 0.7148289 , 0.83269962, 0.75665399,\n",
       "        0.63117871, 0.63878327, 0.55513308, 0.65019011, 0.95057034,\n",
       "        0.57034221, 0.52091255, 0.52851711, 0.69581749, 0.8365019 ,\n",
       "        0.84030418, 0.80608365, 0.69961977, 0.63117871, 0.6121673 ,\n",
       "        0.59695817, 0.63117871, 0.62737643, 0.54752852, 0.54752852,\n",
       "        0.70342205, 0.64258555, 0.66539924, 0.80608365, 0.67680608,\n",
       "        0.70722433, 0.64638783, 0.60836502, 0.50570342, 0.54372624,\n",
       "        0.43346008, 0.61977186, 0.6121673 , 0.4486692 , 0.46387833,\n",
       "        0.55893536, 0.4486692 , 0.42965779, 0.40304183, 0.44486692,\n",
       "        0.53992395, 0.42585551, 0.64258555, 0.63498099, 0.30798479,\n",
       "        0.30418251, 0.33460076, 0.5095057 , 0.41444867, 0.5095057 ,\n",
       "        0.41825095, 0.57034221, 0.59695817, 0.5513308 , 0.60076046,\n",
       "        0.63498099, 0.63878327, 0.66539924, 0.65019011, 0.68821293,\n",
       "        0.63117871, 0.38022814, 0.56653992, 0.60456274, 0.49429658,\n",
       "        0.28897338, 0.43726236, 0.51330798, 0.49429658, 0.50570342,\n",
       "        0.46007605, 0.47148289, 0.50190114, 0.52471483, 0.40304183,\n",
       "        0.34220532, 0.38022814, 0.37262357, 0.43726236, 0.33840304,\n",
       "        0.28136882, 0.37642586, 0.35361217, 0.37642586, 0.28136882,\n",
       "        0.3269962 , 0.45247148, 0.53231939, 0.3269962 , 0.38022814,\n",
       "        0.51330798, 0.45627376, 0.39923954, 0.40684411, 0.30798479,\n",
       "        0.38403042, 0.40304183, 0.20152091, 0.25095057, 0.32319392,\n",
       "        0.42585551, 0.37262357, 0.2243346 , 0.121673  , 0.07984791,\n",
       "        0.12927757, 0.20532319, 0.36501901, 0.43726236, 0.46768061,\n",
       "        0.47908745, 0.41825095, 0.42585551, 0.43346008, 0.4486692 ,\n",
       "        0.48669202, 0.44106464, 0.40304183, 0.37262357, 0.42585551,\n",
       "        0.21673004, 0.26996198, 0.09505703, 0.13307985, 0.17490494,\n",
       "        0.41825095, 0.21673004, 0.29277567, 0.39543726, 0.43346008,\n",
       "        0.34980989, 0.23193916, 0.1026616 , 0.1634981 , 0.23954373,\n",
       "        0.14448669, 0.16730038, 0.26996198, 0.18250951, 0.22053232,\n",
       "        0.23574144, 0.27756654, 0.34980989, 0.3878327 , 0.36121673,\n",
       "        0.36121673, 0.40684411, 0.38022814, 0.24714829, 0.2661597 ,\n",
       "        0.28136882, 0.30798479, 0.25095057, 0.31558935, 0.33840304,\n",
       "        0.17490494, 0.25855513, 0.21673004, 0.23193916, 0.2661597 ,\n",
       "        0.27376426, 0.23954373, 0.33460076, 0.19011407, 0.28136882]])"
      ]
     },
     "execution_count": 311,
     "metadata": {},
     "output_type": "execute_result"
    }
   ],
   "source": [
    "x[0]"
   ]
  },
  {
   "cell_type": "code",
   "execution_count": 275,
   "metadata": {},
   "outputs": [
    {
     "data": {
      "text/plain": [
       "array([[0.68060837, 0.7148289 , 0.55513308, ..., 0.58935361, 0.57414449,\n",
       "        0.58555133],\n",
       "       [0.7148289 , 0.55513308, 0.60076046, ..., 0.57414449, 0.58555133,\n",
       "        0.58174905],\n",
       "       [0.55513308, 0.60076046, 0.60076046, ..., 0.58555133, 0.58174905,\n",
       "        0.7148289 ],\n",
       "       ...,\n",
       "       [0.46387833, 0.55893536, 0.4486692 , ..., 0.38022814, 0.56653992,\n",
       "        0.60456274],\n",
       "       [0.55893536, 0.4486692 , 0.42965779, ..., 0.56653992, 0.60456274,\n",
       "        0.49429658],\n",
       "       [0.4486692 , 0.42965779, 0.40304183, ..., 0.60456274, 0.49429658,\n",
       "        0.28897338]])"
      ]
     },
     "execution_count": 275,
     "metadata": {},
     "output_type": "execute_result"
    }
   ],
   "source": [
    "\n"
   ]
  },
  {
   "cell_type": "code",
   "execution_count": 274,
   "metadata": {},
   "outputs": [
    {
     "data": {
      "text/plain": [
       "array([0.28897338, 0.43726236, 0.51330798, 0.49429658, 0.50570342,\n",
       "       0.46007605, 0.47148289, 0.50190114, 0.52471483, 0.40304183,\n",
       "       0.34220532, 0.38022814, 0.37262357, 0.43726236, 0.33840304,\n",
       "       0.28136882, 0.37642586, 0.35361217, 0.37642586, 0.28136882,\n",
       "       0.3269962 , 0.45247148, 0.53231939, 0.3269962 , 0.38022814,\n",
       "       0.51330798, 0.45627376, 0.39923954, 0.40684411, 0.30798479,\n",
       "       0.38403042, 0.40304183, 0.20152091, 0.25095057, 0.32319392,\n",
       "       0.42585551, 0.37262357, 0.2243346 , 0.121673  , 0.07984791,\n",
       "       0.12927757, 0.20532319, 0.36501901, 0.43726236, 0.46768061,\n",
       "       0.47908745, 0.41825095, 0.42585551, 0.43346008])"
      ]
     },
     "execution_count": 274,
     "metadata": {},
     "output_type": "execute_result"
    }
   ],
   "source": [
    "y[0]"
   ]
  },
  {
   "cell_type": "code",
   "execution_count": null,
   "metadata": {},
   "outputs": [],
   "source": []
  },
  {
   "cell_type": "code",
   "execution_count": null,
   "metadata": {},
   "outputs": [],
   "source": []
  },
  {
   "cell_type": "code",
   "execution_count": null,
   "metadata": {},
   "outputs": [],
   "source": []
  },
  {
   "cell_type": "code",
   "execution_count": 1,
   "metadata": {},
   "outputs": [
    {
     "data": {
      "text/plain": [
       "{'algo': 'tcn',\n",
       " 'lag_days': 22,\n",
       " 'forecasting_horizon': 49,\n",
       " 'min_raw_seq': 0.0,\n",
       " 'ptp_raw_seq': 26.3}"
      ]
     },
     "execution_count": 1,
     "metadata": {},
     "output_type": "execute_result"
    }
   ],
   "source": [
    "import json\n",
    "cfg = []\n",
    "with open('../models/tcn_model/config.json') as f:\n",
    "    cfg = json.load(f)\n",
    "\n",
    "cfg"
   ]
  },
  {
   "cell_type": "code",
   "execution_count": 29,
   "metadata": {},
   "outputs": [
    {
     "name": "stdout",
     "output_type": "stream",
     "text": [
      "22\n",
      "[[0.4513087  0.34151334 0.49708158 0.5738388  0.56712914 0.5615907\n",
      "  0.51926154 0.49889866 0.57239866 0.4269156  0.47094274 0.49990848\n",
      "  0.4616685  0.566709   0.4998831  0.56598127 0.48101762 0.58951074\n",
      "  0.609065   0.58357847 0.49606597 0.64756453 0.58663875 0.6769288\n",
      "  0.5580581  0.595637   0.5562046  0.6108148  0.54799503 0.48129505\n",
      "  0.6366001  0.56001526 0.5415855  0.6542248  0.5127403  0.51224005\n",
      "  0.54558754 0.4747848  0.48723406 0.5499362  0.5926806  0.4044075\n",
      "  0.38366842 0.58833236 0.6282302  0.4254393  0.45623684 0.5446974\n",
      "  0.6737304 ]]\n"
     ]
    }
   ],
   "source": [
    "from tensorflow.keras import Input, Model\n",
    "\n",
    "from tcn import TCN, tcn_full_summary\n",
    "import pandas as pd\n",
    "\n",
    "from numpy import array\n",
    "from tensorflow.keras.layers import Dense\n",
    "import numpy as np\n",
    "\n",
    "\n",
    "import json\n",
    "cfg = []\n",
    "with open('../models/tcn_model/config.json') as f:\n",
    "    cfg = json.load(f)\n",
    "\n",
    "\n",
    "\n",
    "def rolling_window(a, window_size):\n",
    "    shape = (a.shape[0] - window_size + 1, window_size) + a.shape[1:]\n",
    "    strides = (a.strides[0],) + a.strides\n",
    "    return np.lib.stride_tricks.as_strided(a, shape=shape, strides=strides)\n",
    "\n",
    "\n",
    "raw_seq = np.array([i for i in range(cfg['lag_days'])])\n",
    "\n",
    "min_raw_seq, ptp_raw_seq = cfg['min_raw_seq'], cfg['ptp_raw_seq'] \n",
    "\n",
    "raw_seq = (raw_seq - min_raw_seq) / ptp_raw_seq\n",
    "\n",
    "lag_1 = cfg['lag_days']\n",
    "lag_2 = cfg['lag_days']\n",
    "\n",
    "forecasting_horizon = cfg['forecasting_horizon']\n",
    "\n",
    "n_steps_out = forecasting_horizon\n",
    "\n",
    "\n",
    "batch_size = None\n",
    "print(cfg['lag_days'])\n",
    "i = Input(batch_shape=(batch_size, 1,  cfg['lag_days']))\n",
    "\n",
    "o = TCN(return_sequences=False)(i)  # The TCN layers are here.\n",
    "o = Dense(n_steps_out)(o)\n",
    "\n",
    "m = Model(inputs=[i], outputs=[o])\n",
    "m.compile(optimizer='adam', loss='mse')\n",
    "m.load_weights('../models/tcn_model/model_weights.h5')\n",
    "\n",
    "\n",
    "raw_seq = raw_seq.reshape((1, 1, cfg['lag_days']))\n",
    "yhat = m.predict(raw_seq, verbose=0)\n",
    "print(yhat)\n"
   ]
  },
  {
   "cell_type": "code",
   "execution_count": 21,
   "metadata": {},
   "outputs": [
    {
     "name": "stdout",
     "output_type": "stream",
     "text": [
      "Model: \"functional_31\"\n",
      "_________________________________________________________________\n",
      "Layer (type)                 Output Shape              Param #   \n",
      "=================================================================\n",
      "input_16 (InputLayer)        [(None, 1, 22)]           0         \n",
      "_________________________________________________________________\n",
      "residual_block_0 (ResidualBl [(None, 1, 64), (None, 1, 12608     \n",
      "_________________________________________________________________\n",
      "residual_block_1 (ResidualBl [(None, 1, 64), (None, 1, 16512     \n",
      "_________________________________________________________________\n",
      "residual_block_2 (ResidualBl [(None, 1, 64), (None, 1, 16512     \n",
      "_________________________________________________________________\n",
      "residual_block_3 (ResidualBl [(None, 1, 64), (None, 1, 16512     \n",
      "_________________________________________________________________\n",
      "residual_block_4 (ResidualBl [(None, 1, 64), (None, 1, 16512     \n",
      "_________________________________________________________________\n",
      "residual_block_5 (ResidualBl [(None, 1, 64), (None, 1, 16512     \n",
      "_________________________________________________________________\n",
      "lambda_15 (Lambda)           (None, 64)                0         \n",
      "_________________________________________________________________\n",
      "dense_15 (Dense)             (None, 49)                3185      \n",
      "=================================================================\n",
      "Total params: 98,353\n",
      "Trainable params: 98,353\n",
      "Non-trainable params: 0\n",
      "_________________________________________________________________\n"
     ]
    }
   ],
   "source": [
    "i = Input(batch_shape=(batch_size, 1,  cfg['lag_days']))\n",
    "\n",
    "o = TCN(return_sequences=False)(i)  # The TCN layers are here.\n",
    "o = Dense(n_steps_out)(o)\n",
    "\n",
    "m = Model(inputs=[i], outputs=[o])\n",
    "m.compile(optimizer='adam', loss='mse')\n",
    "tcn_full_summary(m, expand_residual_blocks=False)\n",
    "m.load_weights('../models/tcn_model/model_weights.h5')"
   ]
  },
  {
   "cell_type": "code",
   "execution_count": 6,
   "metadata": {},
   "outputs": [],
   "source": [
    "min_raw_seq, ptp_raw_seq = cfg['min_raw_seq'], cfg['ptp_raw_seq'] "
   ]
  },
  {
   "cell_type": "code",
   "execution_count": 10,
   "metadata": {},
   "outputs": [],
   "source": [
    "raw_seq = np.array([10, 11, 12, 11, 12, 10, 14, 15, 16])\n",
    "\n",
    "min_raw_seq, ptp_raw_seq = cfg['min_raw_seq'], cfg['ptp_raw_seq'] \n",
    "\n",
    "raw_seq = (raw_seq - min_raw_seq) / ptp_raw_seq\n"
   ]
  },
  {
   "cell_type": "code",
   "execution_count": 11,
   "metadata": {},
   "outputs": [
    {
     "data": {
      "text/plain": [
       "array([0.38022814, 0.41825095, 0.45627376, 0.41825095, 0.45627376,\n",
       "       0.38022814, 0.53231939, 0.57034221, 0.60836502])"
      ]
     },
     "execution_count": 11,
     "metadata": {},
     "output_type": "execute_result"
    }
   ],
   "source": [
    "raw_seq"
   ]
  },
  {
   "cell_type": "code",
   "execution_count": 15,
   "metadata": {},
   "outputs": [
    {
     "data": {
      "text/plain": [
       "array([[[0.38022814],\n",
       "        [0.41825095],\n",
       "        [0.45627376],\n",
       "        [0.41825095],\n",
       "        [0.45627376],\n",
       "        [0.38022814],\n",
       "        [0.53231939],\n",
       "        [0.57034221]]])"
      ]
     },
     "execution_count": 15,
     "metadata": {},
     "output_type": "execute_result"
    }
   ],
   "source": [
    " raw_seq.reshape(1,, 1, 8)"
   ]
  },
  {
   "cell_type": "code",
   "execution_count": 26,
   "metadata": {},
   "outputs": [],
   "source": []
  },
  {
   "cell_type": "code",
   "execution_count": 27,
   "metadata": {},
   "outputs": [
    {
     "data": {
      "text/plain": [
       "(1, 1, 22)"
      ]
     },
     "execution_count": 27,
     "metadata": {},
     "output_type": "execute_result"
    }
   ],
   "source": [
    "raw_seq.shape"
   ]
  },
  {
   "cell_type": "code",
   "execution_count": 28,
   "metadata": {},
   "outputs": [
    {
     "data": {
      "text/plain": [
       "array([[0.4513087 , 0.34151334, 0.49708158, 0.5738388 , 0.56712914,\n",
       "        0.5615907 , 0.51926154, 0.49889866, 0.57239866, 0.4269156 ,\n",
       "        0.47094274, 0.49990848, 0.4616685 , 0.566709  , 0.4998831 ,\n",
       "        0.56598127, 0.48101762, 0.58951074, 0.609065  , 0.58357847,\n",
       "        0.49606597, 0.64756453, 0.58663875, 0.6769288 , 0.5580581 ,\n",
       "        0.595637  , 0.5562046 , 0.6108148 , 0.54799503, 0.48129505,\n",
       "        0.6366001 , 0.56001526, 0.5415855 , 0.6542248 , 0.5127403 ,\n",
       "        0.51224005, 0.54558754, 0.4747848 , 0.48723406, 0.5499362 ,\n",
       "        0.5926806 , 0.4044075 , 0.38366842, 0.58833236, 0.6282302 ,\n",
       "        0.4254393 , 0.45623684, 0.5446974 , 0.6737304 ]], dtype=float32)"
      ]
     },
     "execution_count": 28,
     "metadata": {},
     "output_type": "execute_result"
    }
   ],
   "source": [
    "m.predict(raw_seq)"
   ]
  },
  {
   "cell_type": "code",
   "execution_count": null,
   "metadata": {},
   "outputs": [],
   "source": []
  }
 ],
 "metadata": {
  "kernelspec": {
   "display_name": "Python 3",
   "language": "python",
   "name": "python3"
  },
  "language_info": {
   "codemirror_mode": {
    "name": "ipython",
    "version": 3
   },
   "file_extension": ".py",
   "mimetype": "text/x-python",
   "name": "python",
   "nbconvert_exporter": "python",
   "pygments_lexer": "ipython3",
   "version": "3.7.3"
  }
 },
 "nbformat": 4,
 "nbformat_minor": 1
}
