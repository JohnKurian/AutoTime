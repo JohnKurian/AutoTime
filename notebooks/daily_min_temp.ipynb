{
 "cells": [
  {
   "cell_type": "markdown",
   "metadata": {
    "colab_type": "text",
    "id": "view-in-github"
   },
   "source": [
    "<a href=\"https://colab.research.google.com/github/thekaranacharya/DeepLearning-Temperature-Prediction/blob/master/daily_min_temp.ipynb\" target=\"_parent\"><img src=\"https://colab.research.google.com/assets/colab-badge.svg\" alt=\"Open In Colab\"/></a>"
   ]
  },
  {
   "cell_type": "markdown",
   "metadata": {
    "colab_type": "text",
    "id": "r0MbteGqCvCR"
   },
   "source": [
    "# Predicting Daily Min. Temperatures in Melbourne, Australia using Convolutional and Recurrent Neural Networks"
   ]
  },
  {
   "cell_type": "markdown",
   "metadata": {
    "colab_type": "text",
    "id": "n4LPe36lDCvL"
   },
   "source": [
    "Imports"
   ]
  },
  {
   "cell_type": "code",
   "execution_count": 1,
   "metadata": {
    "colab": {
     "base_uri": "https://localhost:8080/",
     "height": 35
    },
    "colab_type": "code",
    "id": "cu6iIGOb84sV",
    "outputId": "84642c74-96e5-451a-be1e-0ad6dd4546d0"
   },
   "outputs": [
    {
     "data": {
      "text/plain": [
       "'2.3.1'"
      ]
     },
     "execution_count": 1,
     "metadata": {},
     "output_type": "execute_result"
    }
   ],
   "source": [
    "import tensorflow as tf\n",
    "from tensorflow.keras.callbacks import LearningRateScheduler\n",
    "from tensorflow.keras.layers import Conv1D, Lambda, LSTM, Bidirectional, SimpleRNN, Dense\n",
    "from tensorflow.keras.losses import Huber\n",
    "from tensorflow.keras.optimizers import SGD\n",
    "from tensorflow.keras.metrics import mean_absolute_error\n",
    "\n",
    "import numpy as np\n",
    "%matplotlib inline\n",
    "import matplotlib.pyplot as plt\n",
    "import os\n",
    "import csv\n",
    "\n",
    "tf.__version__"
   ]
  },
  {
   "cell_type": "markdown",
   "metadata": {
    "colab_type": "text",
    "id": "M2TsADOBDezz"
   },
   "source": [
    "Downloading the data"
   ]
  },
  {
   "cell_type": "code",
   "execution_count": 2,
   "metadata": {
    "colab": {
     "base_uri": "https://localhost:8080/",
     "height": 70
    },
    "colab_type": "code",
    "id": "mTp6deFT89tQ",
    "outputId": "493989a8-aaa9-41c4-d679-7eedaa9f1214"
   },
   "outputs": [
    {
     "data": {
      "text/plain": [
       "'C:\\\\Users\\\\DEJOKUR\\\\Desktop\\\\frontend\\\\notebooks\\\\daily-min-temps.csv'"
      ]
     },
     "execution_count": 2,
     "metadata": {},
     "output_type": "execute_result"
    }
   ],
   "source": [
    "dataset_url = \"https://github.com/jbrownlee/Datasets/raw/master/daily-min-temperatures.csv\"\n",
    "dataset = os.path.join(os.getcwd(), \"daily-min-temps.csv\")\n",
    "tf.keras.utils.get_file(dataset, origin=dataset_url)"
   ]
  },
  {
   "cell_type": "markdown",
   "metadata": {
    "colab_type": "text",
    "id": "3PM9413zDhR7"
   },
   "source": [
    "Reading it into the desired format"
   ]
  },
  {
   "cell_type": "code",
   "execution_count": 3,
   "metadata": {
    "colab": {
     "base_uri": "https://localhost:8080/",
     "height": 89
    },
    "colab_type": "code",
    "id": "LrEZ96WU9EMi",
    "outputId": "b44c9397-44bc-4827-dd8e-d974ef51fa44"
   },
   "outputs": [
    {
     "name": "stdout",
     "output_type": "stream",
     "text": [
      "3650\n",
      "\n",
      " [20.7, 17.9, 18.8, 14.6, 15.8, 15.8, 15.8, 17.4, 21.8, 20.0, 16.2, 13.3, 16.7, 21.5, 25.0, 20.7, 20.6, 24.8, 17.7, 15.5, 18.2, 12.1, 14.4, 16.0, 16.5, 18.7, 19.4, 17.2, 15.5, 15.1, 15.4, 15.3, 18.8, 21.9, 19.9, 16.6, 16.8, 14.6, 17.1, 25.0, 15.0, 13.7, 13.9, 18.3, 22.0, 22.1, 21.2, 18.4, 16.6, 16.1, 15.7, 16.6, 16.5, 14.4, 14.4, 18.5, 16.9, 17.5, 21.2, 17.8, 18.6, 17.0, 16.0, 13.3, 14.3, 11.4, 16.3, 16.1, 11.8, 12.2, 14.7, 11.8, 11.3, 10.6, 11.7, 14.2, 11.2, 16.9, 16.7, 8.1, 8.0, 8.8, 13.4, 10.9, 13.4, 11.0, 15.0, 15.7, 14.5, 15.8, 16.7, 16.8, 17.5, 17.1, 18.1, 16.6, 10.0, 14.9, 15.9, 13.0, 7.6, 11.5, 13.5, 13.0, 13.3, 12.1, 12.4, 13.2, 13.8, 10.6, 9.0, 10.0, 9.8, 11.5, 8.9, 7.4, 9.9, 9.3, 9.9, 7.4, 8.6, 11.9, 14.0, 8.6, 10.0, 13.5, 12.0, 10.5, 10.7, 8.1, 10.1, 10.6, 5.3, 6.6, 8.5, 11.2, 9.8, 5.9, 3.2, 2.1, 3.4, 5.4, 9.6, 11.5, 12.3, 12.6, 11.0, 11.2, 11.4, 11.8, 12.8, 11.6, 10.6, 9.8, 11.2, 5.7, 7.1, 2.5, 3.5, 4.6, 11.0, 5.7, 7.7, 10.4, 11.4, 9.2, 6.1, 2.7, 4.3, 6.3, 3.8, 4.4, 7.1, 4.8, 5.8, 6.2, 7.3, 9.2, 10.2, 9.5, 9.5, 10.7, 10.0, 6.5, 7.0, 7.4, 8.1, 6.6, 8.3, 8.9, 4.6, 6.8, 5.7, 6.1, 7.0, 7.2, 6.3, 8.8, 5.0, 7.4, 10.1, 12.0, 9.0, 8.9, 9.8, 9.0, 9.2, 7.7, 8.0, 6.1, 3.5, 3.2, 5.7, 7.7, 9.0, 10.0, 6.2, 6.9, 6.5, 6.8, 7.0, 5.2, 3.0, 5.6, 7.9, 9.0, 8.6, 10.3, 10.5, 7.6, 9.7, 12.5, 7.4, 7.9, 3.9, 6.6, 4.6, 7.0, 6.0, 5.5, 8.1, 5.5, 6.2, 8.0, 10.3, 9.8, 9.6, 8.5, 7.5, 11.2, 14.6, 11.7, 7.8, 12.3, 10.1, 11.5, 7.3, 10.9, 14.1, 10.7, 16.9, 10.5, 6.5, 11.0, 6.3, 10.5, 7.2, 7.6, 10.7, 7.8, 9.6, 11.4, 12.4, 8.9, 13.2, 8.6, 6.2, 11.4, 13.2, 14.3, 7.3, 12.9, 7.8, 6.2, 5.6, 10.0, 13.3, 8.3, 10.2, 8.6, 7.3, 10.4, 11.2, 13.2, 11.4, 9.1, 6.6, 8.4, 9.7, 13.2, 12.5, 11.0, 11.0, 11.7, 9.2, 11.5, 13.6, 13.7, 10.4, 11.5, 7.6, 9.6, 14.2, 15.7, 10.5, 10.5, 9.7, 9.5, 11.3, 8.9, 9.4, 11.9, 11.7, 13.4, 12.6, 10.1, 15.8, 13.6, 11.9, 9.9, 12.6, 17.8, 15.0, 13.6, 13.4, 10.5, 14.2, 11.5, 13.0, 15.0, 14.7, 12.6, 12.5, 13.5, 14.8, 17.2, 9.7, 12.1, 12.8, 11.2, 16.4, 15.6, 13.3, 11.0, 11.1, 15.0, 12.8, 15.0, 14.2, 14.0, 15.5, 13.3, 15.6, 15.2, 17.4, 17.0, 15.0, 13.5, 15.2, 13.0, 12.5, 14.1, 14.8, 16.2, 15.8, 19.1, 22.2, 15.9, 13.0, 14.1, 15.8, 24.0, 18.0, 19.7, 25.2, 20.5, 19.3, 15.8, 17.0, 18.4, 13.3, 14.6, 12.5, 17.0, 17.1, 14.0, 14.6, 13.3, 14.8, 15.1, 13.1, 13.6, 19.5, 22.7, 17.2, 13.5, 15.4, 17.0, 19.2, 22.8, 26.3, 18.2, 17.0, 14.8, 12.8, 15.5, 15.6, 13.1, 15.2, 14.1, 12.5, 14.6, 10.4, 13.9, 11.9, 13.5, 9.8, 14.0, 21.5, 19.5, 16.7, 19.1, 11.0, 9.0, 10.0, 14.6, 12.5, 17.2, 19.2, 22.2, 15.7, 14.2, 9.8, 14.0, 17.5, 20.7, 15.6, 13.2, 14.5, 16.8, 17.2, 13.4, 14.2, 14.3, 10.2, 10.4, 12.3, 11.9, 11.2, 8.5, 12.0, 12.4, 12.9, 10.1, 15.0, 13.6, 12.4, 13.6, 16.1, 19.5, 14.2, 9.3, 10.1, 7.4, 8.6, 7.8, 9.1, 13.0, 16.5, 12.9, 6.9, 6.9, 8.7, 10.0, 10.8, 7.5, 6.3, 11.9, 13.8, 11.8, 11.0, 10.1, 8.5, 5.5, 7.6, 8.7, 10.8, 11.2, 9.1, 3.7, 4.6, 6.6, 13.2, 15.2, 7.6, 8.4, 6.0, 8.3, 8.6, 11.1, 12.1, 12.9, 14.0, 12.5, 11.5, 7.0, 7.1, 9.0, 3.1, 2.5, 0.0, 1.6, 2.6, 5.7, 2.3, 4.5, 8.2, 6.9, 7.3, 6.0, 7.3, 7.6, 8.0, 8.0, 6.8, 7.3, 6.2, 6.9, 8.9, 4.0, 1.3, 0.8, 4.3, 7.3, 7.7, 9.0, 4.2, 1.6, 2.6, 3.4, 3.9, 7.0, 7.8, 5.3, 2.4, 2.8, 4.0, 7.5, 7.8, 5.6, 3.3, 5.0, 3.7, 3.9, 5.2, 0.2, 0.8, 0.9, 3.5, 6.6, 9.5, 9.0, 3.5, 4.5, 5.7, 5.6, 7.1, 9.7, 8.3, 9.1, 2.8, 2.2, 4.5, 3.8, 3.8, 6.2, 11.5, 10.2, 7.9, 9.0, 9.5, 6.0, 8.2, 9.2, 4.3, 6.6, 9.4, 13.2, 6.6, 5.1, 12.1, 11.2, 8.5, 4.6, 7.0, 14.2, 12.7, 7.6, 4.0, 10.0, 10.5, 5.0, 4.5, 8.2, 4.3, 9.8, 5.8, 5.0, 8.5, 9.0, 3.6, 6.7, 6.7, 10.1, 15.0, 8.9, 5.7, 4.2, 4.0, 5.3, 6.3, 8.5, 11.5, 7.7, 9.2, 7.8, 6.3, 6.3, 8.6, 6.1, 13.2, 9.9, 4.7, 5.8, 14.9, 10.7, 8.6, 9.4, 5.7, 10.9, 13.1, 10.4, 8.2, 9.8, 7.5, 5.8, 9.8, 7.9, 8.7, 10.0, 10.6, 8.0, 10.2, 15.1, 13.9, 9.2, 9.0, 13.2, 7.0, 10.6, 6.9, 9.5, 12.5, 13.6, 17.7, 16.0, 11.3, 10.5, 14.4, 10.3, 9.0, 11.1, 14.5, 18.0, 12.8, 10.7, 9.1, 8.7, 12.4, 12.6, 10.3, 13.7, 16.0, 15.8, 12.1, 12.5, 12.2, 13.7, 16.1, 15.5, 10.3, 10.5, 11.0, 11.9, 13.0, 12.2, 10.6, 13.0, 13.0, 12.2, 12.6, 18.7, 15.2, 15.3, 13.9, 15.8, 13.0, 13.0, 13.7, 12.0, 10.8, 15.6, 15.3, 13.9, 13.0, 15.3, 16.3, 15.8, 17.7, 16.3, 18.4, 15.0, 10.9, 11.4, 14.8, 12.1, 12.8, 16.2, 15.5, 13.0, 10.5, 9.1, 10.5, 11.8, 12.7, 12.7, 11.5, 13.8, 13.3, 11.6, 15.4, 12.4, 16.9, 14.7, 10.6, 15.6, 10.7, 12.6, 13.8, 14.3, 14.0, 18.1, 17.3, 13.0, 16.0, 14.9, 16.2, 20.3, 22.5, 17.2, 15.9, 16.8, 13.8, 12.8, 14.0, 17.5, 21.5, 16.8, 13.6, 14.5, 14.2, 15.7, 19.7, 17.4, 14.4, 16.9, 19.1, 20.4, 20.1, 19.9, 22.0, 20.5, 22.1, 20.6, 15.0, 20.6, 21.5, 16.2, 14.1, 14.5, 21.1, 15.9, 15.2, 13.1, 13.2, 12.5, 15.2, 17.6, 15.5, 16.7, 16.3, 15.1, 12.7, 10.0, 11.4, 12.6, 10.7, 10.0, 13.9, 13.4, 12.5, 12.8, 7.8, 11.1, 10.7, 7.1, 6.7, 5.7, 9.1, 15.2, 15.5, 11.1, 11.7, 11.5, 9.8, 6.2, 6.7, 7.5, 8.8, 8.0, 10.4, 14.5, 16.5, 14.1, 10.5, 12.6, 13.0, 8.7, 10.1, 12.0, 12.5, 13.5, 13.7, 13.5, 10.7, 13.0, 11.6, 13.0, 11.2, 13.5, 12.9, 6.8, 10.0, 14.5, 11.7, 6.7, 4.6, 4.9, 7.4, 8.3, 7.5, 6.2, 7.8, 13.2, 11.9, 6.5, 8.3, 12.1, 9.3, 7.5, 9.3, 11.0, 10.8, 5.3, 7.6, 5.6, 7.2, 9.6, 7.0, 8.3, 7.8, 4.7, 6.8, 7.2, 8.3, 9.5, 4.7, 3.0, 1.5, 2.5, 6.2, 11.6, 6.6, 6.6, 8.0, 7.9, 3.3, 3.9, 6.0, 4.0, 5.5, 8.5, 9.8, 9.5, 7.2, 8.1, 8.0, 8.5, 8.8, 8.3, 2.4, 4.9, 5.9, 6.7, 8.4, 6.5, 7.9, 4.1, 5.4, 7.5, 3.9, 2.5, 5.3, 6.6, 0.0, 0.7, 7.6, 12.3, 9.2, 9.6, 9.5, 10.0, 7.7, 8.0, 8.3, 8.3, 4.5, 6.5, 9.4, 9.4, 10.5, 10.7, 9.9, 7.6, 5.8, 8.5, 13.8, 14.3, 8.3, 5.3, 3.0, 5.2, 10.3, 11.1, 10.5, 9.0, 13.0, 6.4, 8.4, 6.7, 8.3, 11.2, 10.0, 10.1, 10.6, 10.9, 5.7, 9.5, 10.4, 11.1, 12.2, 10.6, 8.8, 9.2, 5.5, 7.1, 6.5, 4.3, 5.0, 11.2, 7.5, 12.0, 13.6, 8.3, 8.5, 12.9, 7.7, 7.6, 3.5, 10.4, 15.4, 10.6, 9.6, 9.3, 13.9, 7.7, 9.5, 7.6, 6.9, 6.8, 5.8, 6.0, 8.3, 9.1, 12.5, 13.2, 16.2, 12.5, 11.8, 10.6, 10.0, 12.2, 8.9, 10.3, 7.5, 11.6, 12.6, 12.9, 11.7, 14.0, 12.3, 9.0, 9.2, 9.8, 11.8, 10.6, 12.6, 11.0, 8.2, 7.5, 13.6, 14.8, 10.9, 7.7, 10.2, 10.8, 10.8, 12.5, 13.2, 8.7, 5.7, 9.8, 7.3, 10.8, 10.0, 16.2, 15.0, 14.5, 15.9, 14.9, 14.2, 15.8, 17.2, 17.6, 12.1, 11.4, 13.0, 13.2, 12.0, 15.3, 12.7, 12.1, 13.8, 10.9, 12.0, 16.5, 15.0, 11.2, 13.9, 15.0, 14.8, 15.0, 13.3, 20.4, 18.0, 12.2, 16.7, 13.8, 17.5, 15.0, 13.9, 11.1, 16.1, 20.4, 18.0, 19.5, 17.1, 17.1, 12.0, 11.0, 16.3, 16.1, 13.0, 13.4, 15.2, 12.5, 14.3, 16.5, 18.6, 18.0, 18.2, 11.4, 11.9, 12.2, 14.8, 13.1, 12.7, 10.5, 13.8, 18.8, 13.9, 11.2, 10.6, 14.7, 13.1, 12.1, 14.7, 11.1, 13.0, 15.6, 14.2, 15.5, 18.0, 15.0, 15.9, 15.5, 15.8, 16.6, 13.6, 13.8, 14.6, 15.6, 16.6, 14.3, 16.3, 18.9, 18.7, 14.5, 16.5, 14.1, 13.5, 11.7, 15.1, 11.2, 13.5, 12.6, 8.8, 10.5, 12.1, 14.5, 19.5, 14.0, 13.8, 10.5, 13.8, 11.4, 15.6, 11.1, 12.1, 14.2, 10.9, 14.2, 13.8, 15.1, 14.0, 12.1, 13.8, 16.6, 17.8, 9.4, 10.2, 7.4, 8.7, 14.0, 15.3, 11.1, 9.7, 10.3, 9.2, 8.2, 9.7, 12.4, 12.5, 9.0, 9.7, 10.1, 11.2, 12.0, 11.1, 10.8, 12.8, 9.8, 13.7, 11.0, 13.2, 13.0, 10.2, 13.2, 9.3, 11.1, 10.3, 8.7, 11.7, 12.5, 6.5, 9.6, 13.8, 14.7, 9.1, 4.8, 3.3, 3.5, 5.7, 5.5, 7.0, 9.5, 9.9, 4.9, 6.3, 4.8, 6.2, 7.1, 7.5, 9.4, 8.7, 9.5, 12.1, 9.5, 9.3, 8.5, 8.0, 9.8, 6.2, 7.3, 10.9, 10.0, 8.7, 9.0, 10.8, 12.4, 7.2, 7.2, 11.1, 9.3, 10.1, 3.9, 5.0, 8.2, 2.8, 4.3, 8.1, 11.1, 4.7, 5.3, 10.0, 5.6, 2.2, 7.1, 8.3, 8.6, 10.1, 8.3, 7.2, 7.7, 7.8, 9.1, 9.4, 7.8, 2.6, 2.4, 3.9, 1.3, 2.1, 7.4, 7.2, 8.8, 8.9, 8.8, 8.0, 0.7, 0.1, 0.9, 7.8, 7.2, 8.0, 4.6, 5.2, 5.8, 6.8, 8.1, 7.5, 5.4, 4.6, 6.4, 9.7, 7.0, 10.0, 10.6, 11.5, 10.2, 11.1, 11.0, 8.9, 9.9, 11.7, 11.6, 9.0, 6.3, 8.7, 8.5, 8.5, 8.0, 6.0, 8.0, 8.5, 7.7, 8.4, 9.0, 8.3, 6.8, 9.3, 6.7, 9.0, 7.3, 6.3, 7.9, 5.2, 9.0, 11.3, 9.2, 11.3, 7.0, 8.0, 4.6, 8.5, 9.5, 9.4, 10.5, 9.7, 4.9, 8.0, 5.8, 5.5, 10.9, 11.7, 9.2, 8.9, 11.3, 8.6, 6.2, 6.6, 9.1, 6.1, 7.5, 10.7, 6.3, 5.5, 6.7, 4.2, 11.3, 16.3, 10.5, 10.3, 7.9, 7.7, 16.0, 14.6, 12.5, 8.1, 12.2, 17.2, 9.4, 8.7, 5.9, 4.8, 7.4, 9.4, 9.7, 9.9, 6.5, 9.8, 18.2, 11.3, 9.1, 9.6, 13.5, 10.7, 10.0, 8.5, 12.6, 16.6, 11.6, 12.2, 11.2, 9.2, 9.9, 11.9, 15.6, 19.0, 12.8, 12.2, 12.0, 11.1, 11.8, 7.6, 13.0, 12.7, 16.0, 14.8, 14.2, 10.0, 8.8, 11.6, 8.6, 14.6, 24.3, 11.6, 10.8, 12.0, 11.0, 12.6, 10.8, 9.1, 11.0, 13.0, 12.8, 9.9, 11.6, 10.5, 15.9, 12.2, 13.0, 12.5, 12.5, 11.4, 12.1, 16.8, 12.1, 11.3, 10.4, 14.2, 11.4, 13.7, 16.5, 12.8, 12.2, 12.0, 12.6, 16.0, 16.4, 13.3, 15.2, 13.1, 12.7, 14.6, 11.0, 13.2, 12.2, 14.4, 13.7, 14.5, 14.1, 14.4, 19.7, 16.5, 15.9, 11.8, 12.0, 11.4, 14.4, 12.4, 15.1, 15.6, 15.2, 12.8, 13.3, 17.5, 15.4, 13.5, 16.7, 15.2, 14.9, 10.2, 13.6, 19.0, 15.7, 18.0, 14.8, 13.9, 13.0, 15.3, 14.3, 15.6, 16.0, 14.9, 11.1, 14.8, 13.0, 12.2, 10.9, 14.6, 16.6, 18.1, 13.4, 10.3, 13.6, 13.8, 10.3, 11.0, 14.3, 15.5, 14.7, 12.7, 10.7, 12.6, 9.8, 13.2, 15.2, 16.6, 21.0, 22.4, 17.0, 21.7, 21.4, 18.6, 16.2, 16.8, 17.0, 18.4, 17.2, 18.4, 18.8, 16.5, 13.3, 12.2, 11.3, 13.8, 16.6, 14.0, 14.3, 16.4, 11.9, 15.7, 17.6, 17.5, 15.9, 16.2, 16.0, 15.9, 16.2, 16.2, 19.5, 18.2, 21.8, 15.1, 11.0, 8.1, 9.5, 9.3, 10.6, 6.3, 8.6, 6.8, 8.7, 8.4, 9.3, 10.0, 10.5, 12.0, 10.1, 9.4, 10.1, 8.0, 10.6, 13.6, 15.4, 9.0, 10.4, 11.0, 12.1, 13.4, 11.3, 6.7, 9.8, 10.8, 7.8, 4.5, 7.6, 6.9, 7.5, 8.5, 5.5, 9.5, 7.3, 5.4, 5.5, 8.1, 11.2, 13.4, 11.6, 10.1, 4.3, 5.5, 4.4, 5.9, 5.7, 8.2, 8.2, 4.2, 6.5, 10.0, 8.8, 6.6, 7.8, 10.1, 7.1, 7.7, 8.5, 7.3, 6.9, 8.4, 7.1, 6.3, 0.6, 1.6, 7.0, 8.3, 8.0, 10.2, 10.6, 10.4, 11.6, 11.0, 10.7, 7.3, 4.2, 4.7, 5.6, 7.7, 7.5, 4.9, 5.9, 7.8, 5.8, 7.0, 8.4, 6.2, 7.5, 4.8, 3.3, 3.2, 7.0, 8.4, 0.3, 0.3, 2.1, 8.5, 1.4, 4.1, 10.3, 6.6, 6.1, 7.0, 5.1, 6.3, 6.9, 11.4, 10.4, 10.3, 9.2, 7.2, 7.5, 4.0, 5.6, 6.7, 8.4, 11.0, 8.4, 8.8, 8.6, 8.3, 4.0, 3.6, 5.7, 10.6, 6.9, 10.0, 9.8, 7.2, 10.5, 3.6, 5.3, 8.4, 10.3, 7.9, 8.5, 7.9, 8.0, 9.8, 6.7, 4.8, 9.9, 12.8, 10.9, 11.7, 11.7, 11.0, 8.2, 7.5, 5.4, 7.2, 9.7, 8.4, 9.0, 8.7, 6.6, 11.6, 13.1, 6.7, 6.5, 7.7, 8.7, 7.2, 10.5, 8.6, 7.2, 11.4, 16.2, 6.1, 9.6, 11.1, 13.6, 10.7, 14.7, 11.6, 7.3, 8.0, 9.6, 16.0, 15.1, 12.8, 6.2, 7.1, 8.4, 10.0, 12.7, 10.0, 10.2, 6.5, 9.2, 11.9, 14.7, 11.4, 6.8, 7.4, 11.2, 9.2, 12.6, 16.0, 17.1, 15.3, 13.3, 15.4, 13.2, 14.4, 14.0, 15.5, 21.0, 10.0, 9.6, 12.0, 12.2, 11.3, 13.2, 10.5, 10.1, 8.8, 13.7, 16.2, 16.0, 14.0, 13.7, 12.5, 12.8, 12.3, 15.2, 15.0, 16.4, 16.1, 14.6, 18.2, 16.4, 16.6, 14.7, 15.8, 14.1, 13.5, 13.6, 13.7, 13.6, 12.1, 12.7, 13.3, 14.2, 15.0, 13.7, 12.0, 13.1, 13.2, 13.3, 11.5, 10.8, 12.0, 16.3, 14.4, 12.9, 13.8, 10.6, 12.6, 13.7, 12.6, 13.1, 15.4, 11.9, 13.8, 14.4, 15.2, 12.5, 12.2, 16.1, 14.6, 11.6, 13.1, 12.8, 15.2, 13.8, 15.0, 13.5, 11.8, 15.3, 13.5, 15.3, 13.8, 15.8, 17.4, 15.3, 14.6, 14.8, 10.7, 11.6, 13.6, 14.4, 11.8, 15.8, 16.0, 11.8, 14.5, 10.7, 14.2, 19.5, 21.4, 17.9, 17.4, 12.7, 13.8, 14.0, 15.0, 14.5, 13.1, 11.4, 12.5, 12.0, 13.4, 14.4, 17.7, 13.9, 13.3, 14.6, 16.4, 16.8, 20.0, 12.5, 12.7, 11.7, 12.7, 8.6, 11.9, 16.0, 15.2, 13.4, 11.6, 11.1, 15.6, 17.0, 18.5, 17.4, 16.5, 16.2, 16.1, 13.2, 18.0, 12.8, 11.7, 16.7, 15.6, 10.2, 10.3, 15.0, 18.0, 13.8, 10.5, 11.8, 7.2, 11.6, 7.4, 14.2, 12.2, 9.0, 12.3, 19.7, 12.8, 12.4, 12.0, 12.0, 11.1, 12.7, 14.2, 11.6, 12.0, 11.5, 8.3, 10.5, 9.0, 6.9, 9.4, 11.1, 9.1, 7.7, 10.0, 10.4, 8.0, 9.8, 12.4, 12.9, 12.3, 6.9, 10.5, 11.0, 9.7, 11.1, 11.5, 13.4, 10.9, 12.0, 12.1, 10.4, 10.0, 9.6, 11.3, 8.5, 6.3, 8.2, 10.7, 10.3, 9.5, 10.9, 10.9, 4.3, 5.2, 11.0, 11.6, 10.6, 9.4, 10.0, 9.6, 9.5, 9.7, 9.6, 7.0, 7.0, 6.8, 6.9, 8.0, 7.6, 8.6, 5.7, 5.5, 5.7, 5.7, 6.6, 6.0, 6.9, 7.7, 8.0, 3.9, 0.8, 2.8, 8.0, 9.8, 11.4, 8.6, 5.2, 6.6, 5.7, 4.6, 5.8, 7.0, 4.8, 4.4, 4.4, 7.9, 10.6, 5.0, 7.6, 9.2, 9.7, 8.8, 6.8, 9.4, 11.0, 2.5, 2.1, 5.4, 6.2, 7.8, 7.4, 9.3, 9.3, 9.5, 8.5, 10.0, 7.7, 9.3, 9.1, 3.5, 3.6, 2.5, 1.7, 2.7, 2.9, 5.3, 7.7, 9.1, 9.4, 7.3, 8.4, 9.2, 6.6, 9.7, 12.4, 10.2, 5.9, 7.1, 7.5, 9.7, 12.2, 5.6, 5.4, 8.3, 10.6, 9.1, 11.3, 10.9, 8.9, 6.3, 9.0, 6.1, 9.1, 9.6, 6.0, 10.0, 11.0, 6.2, 8.3, 11.3, 11.3, 6.7, 6.6, 11.4, 6.9, 10.6, 8.6, 11.3, 12.5, 9.9, 6.9, 5.5, 7.8, 11.0, 16.2, 9.9, 8.7, 10.5, 12.2, 10.6, 8.3, 5.5, 9.0, 6.4, 7.2, 12.9, 12.0, 7.3, 9.7, 8.4, 14.7, 9.5, 7.9, 6.8, 12.6, 5.2, 7.5, 8.7, 7.6, 9.0, 7.2, 10.7, 13.1, 13.9, 10.8, 10.4, 9.1, 16.0, 21.0, 16.2, 8.6, 9.2, 12.5, 9.7, 12.5, 10.3, 12.0, 11.0, 14.8, 15.0, 15.3, 10.3, 10.7, 10.5, 8.9, 8.1, 11.5, 12.8, 9.1, 14.6, 11.6, 11.2, 12.6, 7.5, 11.0, 14.5, 18.5, 15.4, 13.1, 16.3, 20.2, 11.5, 12.4, 10.9, 12.7, 12.2, 12.4, 9.8, 8.5, 14.7, 12.0, 10.3, 11.0, 10.2, 12.6, 11.6, 9.7, 13.4, 10.5, 14.7, 14.6, 14.2, 13.2, 11.7, 17.2, 12.3, 13.8, 15.3, 15.6, 16.2, 16.3, 16.8, 11.0, 8.5, 13.2, 13.0, 12.4, 13.0, 16.6, 12.0, 12.4, 15.0, 11.8, 11.6, 12.2, 13.7, 11.2, 12.4, 11.5, 13.8, 15.7, 12.9, 11.5, 11.0, 12.7, 14.9, 16.5, 12.8, 12.7, 12.7, 11.6, 13.3, 15.2, 16.4, 11.9, 15.1, 10.6, 13.6, 12.1, 16.0, 16.8, 16.6, 15.6, 15.2, 17.7, 21.0, 13.4, 10.5, 9.5, 12.0, 10.4, 11.5, 13.2, 15.0, 14.1, 12.4, 13.4, 12.5, 14.3, 17.6, 10.4, 9.9, 10.2, 11.3, 9.5, 11.8, 11.5, 10.5, 10.8, 13.0, 18.5, 18.7, 15.0, 13.0, 11.3, 13.0, 13.3, 11.0, 10.3, 13.0, 12.3, 15.6, 10.2, 10.8, 12.0, 13.3, 11.7, 12.5, 13.7, 14.9, 20.2, 16.3, 13.9, 10.1, 7.3, 14.0, 17.7, 16.3, 10.6, 9.7, 7.8, 10.4, 10.4, 14.1, 7.1, 8.1, 7.8, 10.6, 9.1, 9.0, 11.9, 17.1, 16.8, 13.5, 11.6, 7.0, 9.7, 9.9, 11.2, 11.3, 11.8, 9.9, 7.1, 9.6, 9.8, 10.6, 12.8, 16.5, 11.7, 12.3, 12.2, 11.8, 10.7, 10.2, 10.0, 8.3, 6.6, 9.5, 12.3, 7.6, 9.3, 5.0, 4.3, 6.4, 10.8, 7.8, 8.5, 9.7, 10.0, 11.0, 10.2, 6.6, 6.1, 5.9, 8.9, 13.0, 12.6, 5.4, 6.0, 7.8, 9.0, 4.2, 3.0, 4.5, 6.2, 11.9, 11.8, 9.4, 9.6, 9.4, 7.0, 8.9, 9.3, 6.8, 7.5, 8.0, 8.3, 2.7, 3.9, 4.1, 5.0, 5.8, 4.4, 4.1, 5.8, 9.1, 7.9, 5.0, 2.8, 4.7, 8.9, 5.4, 7.1, 9.0, 9.4, 6.3, 7.0, 6.4, 6.7, 1.5, 2.9, 4.8, 6.3, 5.7, 7.0, 8.8, 8.7, 9.0, 9.6, 8.0, 8.4, 8.1, 9.0, 5.3, 8.9, 8.7, 4.9, 7.0, 7.5, 7.0, 9.1, 11.8, 9.9, 5.6, 4.2, 4.3, 8.0, 5.1, 9.4, 9.1, 9.7, 10.6, 8.6, 10.1, 11.0, 9.7, 5.0, 6.1, 5.4, 5.8, 7.3, 6.3, 4.8, 7.6, 8.1, 9.5, 10.3, 7.0, 9.0, 10.2, 6.8, 9.3, 9.8, 10.7, 7.8, 9.2, 15.0, 7.8, 5.3, 9.5, 7.6, 14.0, 14.9, 14.9, 19.2, 17.0, 13.0, 11.2, 9.5, 10.3, 9.3, 11.3, 6.5, 12.0, 8.3, 8.7, 8.7, 10.2, 6.9, 4.9, 10.0, 7.6, 14.5, 13.2, 9.9, 10.1, 11.3, 10.4, 10.9, 9.2, 10.5, 11.4, 13.5, 9.8, 13.1, 9.7, 11.4, 9.9, 14.4, 19.0, 23.0, 15.4, 9.6, 10.8, 12.1, 11.0, 12.6, 14.7, 11.1, 10.1, 11.4, 13.0, 11.9, 9.5, 13.5, 15.2, 18.4, 24.1, 14.1, 10.7, 8.7, 13.3, 11.6, 9.9, 10.8, 11.5, 10.0, 13.9, 13.6, 11.9, 11.1, 8.2, 9.4, 12.7, 11.6, 11.0, 11.3, 13.4, 14.9, 15.2, 13.9, 15.0, 16.2, 17.7, 20.5, 14.7, 12.5, 10.9, 12.8, 12.7, 11.2, 11.4, 11.2, 12.1, 12.7, 16.2, 14.2, 14.3, 13.3, 16.7, 15.3, 14.3, 13.5, 15.0, 13.6, 15.2, 17.0, 18.7, 16.5, 17.4, 18.3, 18.3, 22.4, 21.4, 20.9, 17.6, 15.5, 16.6, 16.2, 15.6, 14.5, 14.0, 15.6, 12.3, 11.6, 12.6, 14.9, 17.3, 21.4, 23.4, 14.4, 14.1, 15.0, 14.5, 15.1, 13.9, 13.4, 9.2, 12.5, 15.1, 12.1, 14.5, 16.3, 16.5, 14.9, 13.2, 11.8, 13.6, 16.2, 14.1, 13.5, 15.0, 14.8, 16.2, 16.2, 13.3, 15.3, 18.4, 16.2, 16.3, 12.4, 15.6, 14.9, 14.8, 12.7, 14.2, 16.8, 16.7, 16.2, 14.5, 10.0, 12.6, 11.9, 11.8, 13.4, 14.5, 15.7, 15.3, 13.9, 13.7, 15.1, 15.6, 14.4, 13.9, 16.2, 16.7, 15.5, 16.4, 17.5, 18.2, 16.1, 16.5, 14.6, 16.4, 13.6, 15.9, 11.9, 14.7, 9.4, 6.6, 7.9, 11.0, 15.7, 15.2, 15.9, 10.6, 8.3, 8.6, 12.7, 10.5, 12.0, 11.1, 13.0, 12.4, 13.3, 15.9, 12.0, 13.7, 17.6, 14.3, 13.7, 15.2, 14.5, 14.9, 15.5, 16.4, 14.5, 12.6, 13.6, 11.2, 11.0, 12.0, 6.8, 10.6, 13.1, 13.5, 11.7, 13.2, 12.0, 10.4, 10.0, 8.2, 9.4, 10.3, 8.1, 8.7, 12.6, 10.9, 8.7, 9.3, 6.3, 7.8, 10.0, 11.0, 11.1, 12.6, 10.2, 11.1, 8.7, 9.5, 9.7, 8.2, 5.0, 6.5, 12.1, 8.9, 6.1, 2.8, 3.7, 6.8, 6.6, 7.0, 7.3, 7.9, 10.6, 8.1, 6.7, 8.0, 10.0, 6.7, 9.4, 9.3, 6.0, 5.8, 4.9, 5.0, 8.4, 12.3, 13.0, 11.4, 6.8, 7.6, 12.4, 7.1, 7.5, 10.0, 5.3, 6.3, 8.0, 8.3, 9.3, 9.5, 5.6, 7.0, 8.5, 8.5, 8.2, 8.5, 9.6, 9.7, 7.1, 8.4, 9.2, 9.8, 8.1, 9.4, 10.0, 5.1, 6.7, 6.9, 6.8, 8.6, 9.1, 3.9, 4.8, 8.4, 11.6, 12.1, 12.4, 10.0, 10.1, 9.7, 11.7, 7.9, 8.6, 7.7, 5.8, 8.7, 10.6, 6.7, 8.8, 9.7, 9.0, 11.8, 15.2, 10.0, 10.5, 5.5, 9.4, 8.8, 5.3, 13.0, 15.2, 13.2, 11.5, 6.8, 4.7, 5.2, 6.8, 10.7, 10.1, 10.0, 9.8, 5.5, 13.5, 16.6, 8.4, 8.2, 11.1, 10.8, 8.8, 10.8, 8.7, 12.4, 9.0, 13.5, 14.7, 10.9, 8.5, 6.0, 12.7, 11.1, 8.7, 12.3, 13.3, 5.6, 13.7, 8.5, 11.2, 8.7, 11.7, 12.5, 8.2, 15.6, 10.3, 11.4, 9.7, 6.3, 14.3, 11.3, 7.3, 12.8, 11.9, 14.3, 11.6, 13.2, 15.5, 14.1, 9.5, 7.2, 11.8, 16.8, 12.5, 9.4, 11.9, 10.3, 16.9, 17.5, 7.5, 8.6, 11.1, 11.5, 10.7, 15.7, 12.8, 13.0, 12.9, 14.3, 13.7, 12.1, 11.9, 11.8, 11.4, 10.3, 11.7, 12.0, 17.4, 16.8, 16.2, 13.0, 12.5, 12.4, 16.1, 20.2, 14.3, 11.0, 14.4, 15.7, 19.7, 20.7, 23.9, 16.6, 17.5, 14.9, 13.6, 11.9, 15.2, 17.3, 19.8, 15.8, 9.5, 12.9, 12.9, 14.8, 14.1, 14.3, 17.4, 18.5, 16.8, 11.5, 9.5, 12.2, 15.7, 16.3, 13.6, 12.6, 13.8, 12.1, 13.4, 17.3, 19.4, 16.6, 13.9, 13.1, 16.0, 14.5, 15.0, 12.6, 12.5, 15.2, 16.2, 16.5, 20.1, 20.6, 16.9, 16.5, 16.1, 14.4, 16.3, 15.7, 14.2, 13.2, 16.8, 18.5, 16.7, 15.3, 15.9, 15.2, 17.5, 18.3, 19.4, 19.4, 19.5, 20.5, 15.7, 15.0, 16.1, 14.3, 13.0, 16.2, 17.7, 13.2, 15.8, 18.5, 20.4, 22.0, 19.7, 19.6, 20.3, 18.3, 18.9, 20.3, 21.4, 18.3, 17.8, 17.7, 12.8, 15.1, 15.0, 14.8, 12.0, 12.5, 15.0, 17.1, 17.3, 16.9, 16.5, 13.6, 13.2, 9.4, 9.5, 11.8, 10.4, 9.7, 12.6, 13.3, 15.1, 14.2, 14.2, 19.2, 12.6, 14.2, 11.9, 13.9, 13.5, 15.3, 13.9, 14.0, 12.9, 8.5, 11.4, 10.9, 12.0, 8.6, 9.0, 9.6, 10.2, 9.8, 8.3, 11.0, 11.9, 14.0, 15.8, 14.5, 13.2, 14.2, 14.6, 11.8, 14.4, 10.4, 10.3, 10.8, 10.5, 9.5, 12.5, 13.7, 12.7, 11.9, 11.4, 9.7, 8.3, 8.1, 11.7, 11.6, 7.4, 5.2, 11.0, 9.5, 9.2, 10.7, 9.0, 10.2, 10.3, 12.1, 13.2, 6.6, 2.3, 1.4, 2.1, 6.6, 8.9, 7.8, 9.0, 10.3, 7.9, 7.2, 8.6, 8.8, 6.2, 9.5, 10.2, 9.7, 11.2, 10.2, 10.1, 8.1, 6.6, 5.0, 4.7, 5.3, 4.5, 2.3, 1.4, 0.5, 2.4, 8.0, 6.0, 7.1, 9.7, 6.9, 5.3, 7.0, 6.2, 7.0, 9.7, 8.0, 8.5, 7.1, 7.5, 3.3, 1.8, 2.6, 5.3, 5.8, 5.8, 7.2, 5.3, 1.6, 3.1, 5.3, 7.7, 4.2, 5.5, 9.0, 11.2, 8.0, 7.6, 3.7, 7.5, 8.1, 8.4, 7.1, 7.6, 7.6, 5.6, 7.0, 10.5, 7.3, 7.8, 5.8, 3.8, 5.8, 6.7, 6.6, 6.6, 9.0, 8.1, 5.1, 8.6, 7.0, 5.5, 7.4, 6.2, 4.2, 6.3, 7.0, 4.0, 8.0, 8.8, 8.8, 6.1, 8.6, 8.9, 7.8, 5.0, 7.0, 13.3, 7.9, 7.5, 8.3, 7.2, 6.5, 8.9, 7.4, 9.9, 9.3, 10.6, 8.6, 7.2, 12.6, 7.8, 6.3, 9.2, 5.8, 9.0, 5.0, 11.9, 13.4, 10.5, 6.2, 5.1, 9.5, 11.7, 9.2, 7.3, 9.7, 9.4, 10.0, 10.9, 11.0, 10.9, 8.0, 11.2, 7.5, 7.2, 13.2, 12.9, 9.4, 10.2, 9.5, 12.4, 10.2, 13.4, 11.6, 8.0, 9.0, 9.3, 13.5, 8.0, 8.1, 10.0, 8.5, 12.5, 15.0, 13.3, 11.0, 11.9, 8.3, 9.7, 11.3, 12.5, 9.4, 11.4, 13.2, 13.8, 16.0, 10.9, 11.9, 12.4, 13.2, 15.5, 21.6, 14.9, 14.4, 12.9, 13.1, 14.0, 17.9, 17.7, 16.3, 18.3, 13.7, 13.3, 10.6, 14.1, 16.0, 16.5, 14.1, 18.7, 16.2, 14.8, 12.6, 10.4, 12.2, 12.6, 12.1, 17.3, 16.4, 12.6, 12.3, 11.8, 12.0, 12.7, 16.4, 16.0, 13.3, 11.7, 10.4, 14.4, 12.7, 14.8, 13.3, 15.6, 14.5, 14.3, 15.3, 16.4, 14.8, 17.4, 18.8, 22.1, 19.0, 15.5, 15.8, 14.7, 10.7, 11.5, 15.0, 14.5, 14.5, 13.3, 14.3, 14.3, 20.5, 15.0, 17.1, 16.9, 16.9, 13.6, 16.4, 16.1, 12.0, 12.2, 14.8, 14.8, 14.4, 12.9, 13.4, 15.9, 16.1, 17.6, 15.6, 15.0, 13.0, 14.1, 17.3, 15.7, 18.6, 12.7, 14.0, 13.7, 16.3, 20.0, 17.0, 15.2, 16.5, 16.5, 17.3, 19.1, 19.3, 17.3, 19.0, 19.8, 19.3, 17.2, 14.2, 10.3, 13.0, 15.3, 15.0, 12.1, 9.2, 11.0, 15.0, 11.6, 11.6, 15.1, 15.0, 13.6, 12.5, 14.3, 16.0, 17.4, 16.9, 18.0, 20.6, 14.2, 10.9, 11.9, 13.3, 15.3, 14.7, 11.0, 12.2, 14.2, 17.0, 15.8, 15.2, 15.1, 14.7, 18.5, 16.4, 18.4, 15.1, 9.9, 10.2, 12.6, 13.2, 11.5, 13.8, 14.5, 14.7, 11.2, 12.7, 13.7, 11.5, 10.4, 8.9, 11.1, 9.5, 13.0, 13.9, 12.6, 14.3, 16.0, 13.3, 7.0, 4.9, 6.9, 13.7, 10.6, 12.3, 11.1, 10.2, 9.5, 8.9, 13.4, 9.1, 9.4, 8.7, 5.8, 4.5, 7.2, 10.0, 10.5, 10.7, 8.2, 6.1, 4.5, 6.1, 9.8, 9.7, 8.2, 8.4, 8.5, 10.4, 6.8, 6.0, 6.6, 7.8, 10.3, 7.2, 7.4, 11.4, 5.4, 4.4, 6.4, 9.3, 7.7, 8.1, 8.3, 9.1, 7.7, 10.6, 8.2, 7.9, 5.2, 5.9, 3.7, 5.6, 9.4, 7.4, 7.3, 7.7, 7.7, 9.3, 4.4, 5.7, 10.2, 10.2, 9.3, 5.4, 5.0, 7.6, 9.6, 10.4, 11.2, 9.1, 11.2, 6.8, 8.3, 9.7, 9.6, 9.8, 10.8, 9.2, 6.5, 8.1, 7.3, 7.9, 6.0, 5.0, 6.8, 9.8, 5.7, 8.6, 10.6, 7.8, 7.7, 8.6, 6.5, 6.9, 6.4, 8.5, 7.8, 9.3, 8.4, 7.8, 7.4, 7.7, 8.9, 9.7, 9.9, 6.1, 6.6, 7.6, 7.4, 8.0, 2.1, 5.9, 11.6, 8.6, 7.9, 6.0, 9.5, 8.6, 7.6, 10.4, 10.3, 7.5, 3.0, 5.3, 10.5, 14.6, 12.6, 9.8, 7.2, 10.1, 10.4, 3.7, 7.3, 11.6, 16.3, 9.6, 6.8, 5.2, 10.6, 16.3, 9.8, 4.6, 11.1, 8.7, 10.0, 11.3, 10.5, 9.9, 11.0, 14.0, 9.2, 9.8, 6.0, 9.8, 9.2, 11.8, 10.3, 7.5, 7.7, 15.8, 14.6, 10.5, 11.3, 10.9, 6.4, 10.9, 9.0, 10.9, 12.4, 11.6, 13.3, 14.4, 18.4, 13.6, 14.9, 14.8, 15.4, 11.8, 13.0, 11.1, 12.5, 18.3, 19.2, 15.4, 13.1, 11.5, 8.6, 12.6, 13.8, 14.6, 13.2, 12.3, 8.8, 10.7, 9.9, 8.3, 15.0, 12.2, 10.5, 11.1, 13.0, 12.9, 8.8, 14.7, 14.7, 12.7, 13.3, 13.2, 16.2, 17.3, 20.5, 20.2, 19.4, 15.5, 14.1, 11.0, 11.1, 14.0, 11.4, 12.5, 13.4, 13.6, 13.9, 17.2, 14.7, 15.4, 13.1, 13.2, 13.9, 10.0, 12.9, 14.6, 14.0, 13.6, 13.5, 15.7, 13.0]\n"
     ]
    }
   ],
   "source": [
    "indices =  []\n",
    "temps = []\n",
    "with open(dataset, 'r') as f:\n",
    "    reader = csv.reader(f)\n",
    "    next(reader)  # skip the column headers\n",
    "    id = 0\n",
    "    for row in reader:\n",
    "        id += 1\n",
    "        indices.append(id)\n",
    "        temps.append(float(row[1]))\n",
    "\n",
    "print(id)\n",
    "print(\"\\n\", temps)"
   ]
  },
  {
   "cell_type": "markdown",
   "metadata": {
    "colab_type": "text",
    "id": "7BZYwtWYDkZQ"
   },
   "source": [
    "Conversion to NumPy arrays and defining the helper function to plot graphs"
   ]
  },
  {
   "cell_type": "code",
   "execution_count": 13,
   "metadata": {},
   "outputs": [
    {
     "data": {
      "text/plain": [
       "(3650,)"
      ]
     },
     "execution_count": 13,
     "metadata": {},
     "output_type": "execute_result"
    }
   ],
   "source": [
    "steps.shape"
   ]
  },
  {
   "cell_type": "code",
   "execution_count": 14,
   "metadata": {},
   "outputs": [
    {
     "data": {
      "text/plain": [
       "(3650,)"
      ]
     },
     "execution_count": 14,
     "metadata": {},
     "output_type": "execute_result"
    }
   ],
   "source": [
    "temps.shape"
   ]
  },
  {
   "cell_type": "code",
   "execution_count": 4,
   "metadata": {
    "colab": {},
    "colab_type": "code",
    "id": "Jwq578M29H-T"
   },
   "outputs": [],
   "source": [
    "# Convert to numpy arrays\n",
    "steps = np.array(indices)\n",
    "temps = np.array(temps)\n",
    "\n",
    "def plot_series(x, y, name, color=None):\n",
    "    if not color:\n",
    "        plt.plot(x, y)\n",
    "    else:\n",
    "        plt.plot(x, y, color)\n",
    "    plt.title(name)\n",
    "    plt.xlabel(\"Time Steps\")\n",
    "    plt.ylabel(\"Melbourne Daily Min. Temperature\")\n"
   ]
  },
  {
   "cell_type": "markdown",
   "metadata": {
    "colab_type": "text",
    "id": "7_RaHdugDr8L"
   },
   "source": [
    "Plot of the whole dataset"
   ]
  },
  {
   "cell_type": "code",
   "execution_count": 5,
   "metadata": {
    "colab": {
     "base_uri": "https://localhost:8080/",
     "height": 295
    },
    "colab_type": "code",
    "id": "hSwBhimQ9LHh",
    "outputId": "f14577f7-f79f-49b5-e7fc-3a8a257804be"
   },
   "outputs": [
    {
     "data": {
      "image/png": "[encoded data removed]",
      "text/plain": [
       "<Figure size 432x288 with 1 Axes>"
      ]
     },
     "metadata": {
      "needs_background": "light"
     },
     "output_type": "display_data"
    }
   ],
   "source": [
    "plot_series(steps, temps, \"All\")\n",
    "\n",
    "split_time = 2500\n",
    "train_steps = steps[: split_time]\n",
    "train_temps = temps[: split_time]\n",
    "\n",
    "val_steps = steps[split_time:]\n",
    "val_temps = temps[split_time:]\n"
   ]
  },
  {
   "cell_type": "markdown",
   "metadata": {
    "colab_type": "text",
    "id": "rhjcZrzVDueu"
   },
   "source": [
    "Training set (Upto 2500 steps out of total 3500)"
   ]
  },
  {
   "cell_type": "code",
   "execution_count": 6,
   "metadata": {
    "colab": {
     "base_uri": "https://localhost:8080/",
     "height": 295
    },
    "colab_type": "code",
    "id": "V5RauHe_9NN8",
    "outputId": "bfb54d7d-9c3d-4253-cf48-5c2d1a94957d"
   },
   "outputs": [
    {
     "data": {
      "image/png": "[encoded data removed]",
      "text/plain": [
       "<Figure size 432x288 with 1 Axes>"
      ]
     },
     "metadata": {
      "needs_background": "light"
     },
     "output_type": "display_data"
    }
   ],
   "source": [
    "plot_series(train_steps, train_temps, \"Training set\")\n"
   ]
  },
  {
   "cell_type": "markdown",
   "metadata": {
    "colab_type": "text",
    "id": "LLoHiG65D24f"
   },
   "source": [
    "Validation Set"
   ]
  },
  {
   "cell_type": "code",
   "execution_count": 7,
   "metadata": {
    "colab": {
     "base_uri": "https://localhost:8080/",
     "height": 295
    },
    "colab_type": "code",
    "id": "XvYTTVqa9P_3",
    "outputId": "90f4a1c5-7116-4a98-a23e-806d46b18f66"
   },
   "outputs": [
    {
     "data": {
      "image/png": "[encoded data removed]",
      "text/plain": [
       "<Figure size 432x288 with 1 Axes>"
      ]
     },
     "metadata": {
      "needs_background": "light"
     },
     "output_type": "display_data"
    }
   ],
   "source": [
    "\n",
    "plot_series(val_steps, val_temps, \"Val set\")"
   ]
  },
  {
   "cell_type": "markdown",
   "metadata": {
    "colab_type": "text",
    "id": "9cYbprKRD4_n"
   },
   "source": [
    "Helper functions to window the datasets & get forecasts"
   ]
  },
  {
   "cell_type": "code",
   "execution_count": 8,
   "metadata": {
    "colab": {},
    "colab_type": "code",
    "id": "lyW78xex9R3S"
   },
   "outputs": [],
   "source": [
    "\n",
    "def get_windowed_dataset(series, window_size, batch_size, shuffle_buffer_size):\n",
    "    series = tf.expand_dims(series, axis=-1)\n",
    "    ds = tf.data.Dataset.from_tensor_slices(series)\n",
    "    ds = ds.window(size=window_size + 1, shift=1, drop_remainder=True)\n",
    "    ds = ds.flat_map(lambda win: win.batch(window_size + 1))\n",
    "    ds = ds.shuffle(shuffle_buffer_size)\\\n",
    "        .map(lambda win: (win[: -1], win[-1]))\n",
    "    ds = ds.batch(batch_size).prefetch(1)\n",
    "    return ds\n",
    "\n",
    "def get_forecast(model, series, window_size, batch_size, shuffle_buffer_size):\n",
    "    ds = tf.data.Dataset.from_tensor_slices(series)\n",
    "    ds = ds.window(size=window_size, shift=1, drop_remainder=True)\n",
    "    ds = ds.flat_map(lambda win: win.batch(window_size))\n",
    "    ds = ds.batch(batch_size).prefetch(1)\n",
    "    forecast = model.predict(ds)\n",
    "    return forecast"
   ]
  },
  {
   "cell_type": "markdown",
   "metadata": {
    "colab_type": "text",
    "id": "WZ7Xsa-OD9ov"
   },
   "source": [
    "Defining the model and the LearningRateScheduler to dynamically adjust learning rate"
   ]
  },
  {
   "cell_type": "code",
   "execution_count": 15,
   "metadata": {
    "colab": {
     "base_uri": "https://localhost:8080/",
     "height": 1000
    },
    "colab_type": "code",
    "id": "cj_Q7dAd9VHr",
    "outputId": "33ad19f1-4f77-497f-ab39-2444c4cf5d0d"
   },
   "outputs": [
    {
     "name": "stdout",
     "output_type": "stream",
     "text": [
      "WARNING:tensorflow:AutoGraph could not transform <function get_windowed_dataset.<locals>.<lambda> at 0x000002623081E510> and will run it as-is.\n",
      "Cause: could not parse the source code:\n",
      "\n",
      "        .map(lambda win: (win[: -1], win[-1]))\n",
      "\n",
      "This error may be avoided by creating the lambda in a standalone statement.\n",
      "\n",
      "To silence this warning, decorate the function with @tf.autograph.experimental.do_not_convert\n",
      "WARNING: AutoGraph could not transform <function get_windowed_dataset.<locals>.<lambda> at 0x000002623081E510> and will run it as-is.\n",
      "Cause: could not parse the source code:\n",
      "\n",
      "        .map(lambda win: (win[: -1], win[-1]))\n",
      "\n",
      "This error may be avoided by creating the lambda in a standalone statement.\n",
      "\n",
      "To silence this warning, decorate the function with @tf.autograph.experimental.do_not_convert\n",
      "Epoch 1/100\n",
      "20/20 - 0s - loss: 9.7606 - mae: 10.2592\n",
      "Epoch 2/100\n",
      "20/20 - 0s - loss: 9.7196 - mae: 10.2183\n",
      "Epoch 3/100\n",
      "20/20 - 0s - loss: 9.6661 - mae: 10.1647\n",
      "Epoch 4/100\n",
      "20/20 - 0s - loss: 9.6051 - mae: 10.1038\n",
      "Epoch 5/100\n",
      "20/20 - 0s - loss: 9.5367 - mae: 10.0354\n",
      "Epoch 6/100\n",
      "20/20 - 0s - loss: 9.4599 - mae: 9.9586\n",
      "Epoch 7/100\n",
      "20/20 - 0s - loss: 9.3744 - mae: 9.8729\n",
      "Epoch 8/100\n",
      "20/20 - 0s - loss: 9.2785 - mae: 9.7770\n",
      "Epoch 9/100\n",
      "20/20 - 0s - loss: 9.1709 - mae: 9.6694\n",
      "Epoch 10/100\n",
      "20/20 - 0s - loss: 9.0506 - mae: 9.5491\n",
      "Epoch 11/100\n",
      "20/20 - 0s - loss: 8.9165 - mae: 9.4150\n",
      "Epoch 12/100\n",
      "20/20 - 0s - loss: 8.7667 - mae: 9.2651\n",
      "Epoch 13/100\n",
      "20/20 - 0s - loss: 8.6004 - mae: 9.0987\n",
      "Epoch 14/100\n",
      "20/20 - 0s - loss: 8.4164 - mae: 8.9145\n",
      "Epoch 15/100\n",
      "20/20 - 0s - loss: 8.2138 - mae: 8.7117\n",
      "Epoch 16/100\n",
      "20/20 - 0s - loss: 7.9936 - mae: 8.4914\n",
      "Epoch 17/100\n",
      "20/20 - 0s - loss: 7.7613 - mae: 8.2587\n",
      "Epoch 18/100\n",
      "20/20 - 0s - loss: 7.5242 - mae: 8.0210\n",
      "Epoch 19/100\n",
      "20/20 - 0s - loss: 7.2869 - mae: 7.7828\n",
      "Epoch 20/100\n",
      "20/20 - 0s - loss: 7.0477 - mae: 7.5434\n",
      "Epoch 21/100\n",
      "20/20 - 0s - loss: 6.8039 - mae: 7.2996\n",
      "Epoch 22/100\n",
      "20/20 - 0s - loss: 6.5549 - mae: 7.0500\n",
      "Epoch 23/100\n",
      "20/20 - 0s - loss: 6.2986 - mae: 6.7932\n",
      "Epoch 24/100\n",
      "20/20 - 0s - loss: 6.0305 - mae: 6.5243\n",
      "Epoch 25/100\n",
      "20/20 - 0s - loss: 5.7453 - mae: 6.2371\n",
      "Epoch 26/100\n",
      "20/20 - 0s - loss: 5.4395 - mae: 5.9295\n",
      "Epoch 27/100\n",
      "20/20 - 0s - loss: 5.1137 - mae: 5.6013\n",
      "Epoch 28/100\n",
      "20/20 - 0s - loss: 4.7672 - mae: 5.2529\n",
      "Epoch 29/100\n",
      "20/20 - 0s - loss: 4.4048 - mae: 4.8874\n",
      "Epoch 30/100\n",
      "20/20 - 0s - loss: 4.0213 - mae: 4.5025\n",
      "Epoch 31/100\n",
      "20/20 - 0s - loss: 3.6266 - mae: 4.1051\n",
      "Epoch 32/100\n",
      "20/20 - 0s - loss: 3.2461 - mae: 3.7221\n",
      "Epoch 33/100\n",
      "20/20 - 0s - loss: 2.9223 - mae: 3.3955\n",
      "Epoch 34/100\n",
      "20/20 - 0s - loss: 2.6523 - mae: 3.1202\n",
      "Epoch 35/100\n",
      "20/20 - 0s - loss: 2.4408 - mae: 2.9040\n",
      "Epoch 36/100\n",
      "20/20 - 0s - loss: 2.2895 - mae: 2.7479\n",
      "Epoch 37/100\n",
      "20/20 - 0s - loss: 2.1882 - mae: 2.6454\n",
      "Epoch 38/100\n",
      "20/20 - 0s - loss: 2.1339 - mae: 2.5904\n",
      "Epoch 39/100\n",
      "20/20 - 0s - loss: 2.1034 - mae: 2.5593\n",
      "Epoch 40/100\n",
      "20/20 - 0s - loss: 2.0830 - mae: 2.5384\n",
      "Epoch 41/100\n",
      "20/20 - 0s - loss: 2.0673 - mae: 2.5227\n",
      "Epoch 42/100\n",
      "20/20 - 0s - loss: 2.0545 - mae: 2.5103\n",
      "Epoch 43/100\n",
      "20/20 - 0s - loss: 2.0436 - mae: 2.4991\n",
      "Epoch 44/100\n",
      "20/20 - 0s - loss: 2.0326 - mae: 2.4875\n",
      "Epoch 45/100\n",
      "20/20 - 0s - loss: 2.0219 - mae: 2.4768\n",
      "Epoch 46/100\n",
      "20/20 - 0s - loss: 2.0111 - mae: 2.4654\n",
      "Epoch 47/100\n",
      "20/20 - 0s - loss: 1.9975 - mae: 2.4521\n",
      "Epoch 48/100\n",
      "20/20 - 0s - loss: 1.9823 - mae: 2.4366\n",
      "Epoch 49/100\n",
      "20/20 - 0s - loss: 1.9657 - mae: 2.4198\n",
      "Epoch 50/100\n",
      "20/20 - 0s - loss: 1.9497 - mae: 2.4037\n",
      "Epoch 51/100\n",
      "20/20 - 0s - loss: 1.9330 - mae: 2.3868\n",
      "Epoch 52/100\n",
      "20/20 - 0s - loss: 1.9203 - mae: 2.3740\n",
      "Epoch 53/100\n",
      "20/20 - 0s - loss: 1.9036 - mae: 2.3565\n",
      "Epoch 54/100\n",
      "20/20 - 0s - loss: 1.8895 - mae: 2.3421\n",
      "Epoch 55/100\n",
      "20/20 - 0s - loss: 1.8777 - mae: 2.3294\n",
      "Epoch 56/100\n",
      "20/20 - 0s - loss: 1.8643 - mae: 2.3156\n",
      "Epoch 57/100\n",
      "20/20 - 0s - loss: 1.8538 - mae: 2.3042\n",
      "Epoch 58/100\n",
      "20/20 - 0s - loss: 1.8443 - mae: 2.2947\n",
      "Epoch 59/100\n",
      "20/20 - 0s - loss: 1.8388 - mae: 2.2888\n",
      "Epoch 60/100\n",
      "20/20 - 0s - loss: 1.8323 - mae: 2.2820\n",
      "Epoch 61/100\n",
      "20/20 - 0s - loss: 1.8227 - mae: 2.2734\n",
      "Epoch 62/100\n",
      "20/20 - 0s - loss: 1.8148 - mae: 2.2644\n",
      "Epoch 63/100\n",
      "20/20 - 0s - loss: 1.8147 - mae: 2.2655\n",
      "Epoch 64/100\n",
      "20/20 - 0s - loss: 1.8057 - mae: 2.2567\n",
      "Epoch 65/100\n",
      "20/20 - 0s - loss: 1.7998 - mae: 2.2507\n",
      "Epoch 66/100\n",
      "20/20 - 0s - loss: 1.7916 - mae: 2.2424\n",
      "Epoch 67/100\n",
      "20/20 - 0s - loss: 1.7909 - mae: 2.2418\n",
      "Epoch 68/100\n",
      "20/20 - 0s - loss: 1.7929 - mae: 2.2431\n",
      "Epoch 69/100\n",
      "20/20 - 0s - loss: 1.7905 - mae: 2.2423\n",
      "Epoch 70/100\n",
      "20/20 - 0s - loss: 1.7741 - mae: 2.2238\n",
      "Epoch 71/100\n",
      "20/20 - 0s - loss: 1.7742 - mae: 2.2229\n",
      "Epoch 72/100\n",
      "20/20 - 0s - loss: 1.7712 - mae: 2.2192\n",
      "Epoch 73/100\n",
      "20/20 - 0s - loss: 1.7622 - mae: 2.2132\n",
      "Epoch 74/100\n",
      "20/20 - 0s - loss: 1.7591 - mae: 2.2103\n",
      "Epoch 75/100\n",
      "20/20 - 0s - loss: 1.7627 - mae: 2.2115\n",
      "Epoch 76/100\n",
      "20/20 - 0s - loss: 1.7500 - mae: 2.1997\n",
      "Epoch 77/100\n",
      "20/20 - 0s - loss: 1.8287 - mae: 2.2798\n",
      "Epoch 78/100\n",
      "20/20 - 0s - loss: 1.7478 - mae: 2.2012\n",
      "Epoch 79/100\n",
      "20/20 - 0s - loss: 1.7424 - mae: 2.1928\n",
      "Epoch 80/100\n",
      "20/20 - 0s - loss: 1.7648 - mae: 2.2190\n",
      "Epoch 81/100\n",
      "20/20 - 0s - loss: 1.7782 - mae: 2.2298\n",
      "Epoch 82/100\n",
      "20/20 - 0s - loss: 1.7048 - mae: 2.1550\n",
      "Epoch 83/100\n",
      "20/20 - 0s - loss: 1.7181 - mae: 2.1679\n",
      "Epoch 84/100\n",
      "20/20 - 0s - loss: 1.7041 - mae: 2.1543\n",
      "Epoch 85/100\n",
      "20/20 - 0s - loss: 1.6708 - mae: 2.1180\n",
      "Epoch 86/100\n",
      "20/20 - 0s - loss: 1.7258 - mae: 2.1749\n",
      "Epoch 87/100\n",
      "20/20 - 0s - loss: 1.6659 - mae: 2.1156\n",
      "Epoch 88/100\n",
      "20/20 - 0s - loss: 1.7372 - mae: 2.1891\n",
      "Epoch 89/100\n",
      "20/20 - 0s - loss: 2.0447 - mae: 2.5003\n",
      "Epoch 90/100\n",
      "20/20 - 0s - loss: 1.9868 - mae: 2.4441\n",
      "Epoch 91/100\n",
      "20/20 - 0s - loss: 1.7130 - mae: 2.1609\n",
      "Epoch 92/100\n",
      "20/20 - 0s - loss: 1.7301 - mae: 2.1794\n",
      "Epoch 93/100\n",
      "20/20 - 0s - loss: 1.7191 - mae: 2.1722\n",
      "Epoch 94/100\n",
      "20/20 - 0s - loss: 1.7862 - mae: 2.2360\n",
      "Epoch 95/100\n",
      "20/20 - 0s - loss: 1.6921 - mae: 2.1379\n",
      "Epoch 96/100\n",
      "20/20 - 0s - loss: 1.7401 - mae: 2.1906\n",
      "Epoch 97/100\n",
      "20/20 - 0s - loss: 1.7281 - mae: 2.1798\n",
      "Epoch 98/100\n",
      "20/20 - 0s - loss: 1.6934 - mae: 2.1446\n",
      "Epoch 99/100\n",
      "20/20 - 0s - loss: 1.7135 - mae: 2.1665\n",
      "Epoch 100/100\n",
      "20/20 - 0s - loss: 1.6818 - mae: 2.1307\n"
     ]
    }
   ],
   "source": [
    "WINDOW_SIZE = 60\n",
    "BATCH_SIZE = 128\n",
    "BUFFER_SIZE = 1000\n",
    "\n",
    "ds = get_windowed_dataset(train_temps, WINDOW_SIZE, BATCH_SIZE, BUFFER_SIZE)\n",
    "\n",
    "model = tf.keras.Sequential([\n",
    "    Conv1D(filters=128, kernel_size=5, padding='causal', activation='relu', input_shape=[None, 1]),\n",
    "    LSTM(128, return_sequences=True),\n",
    "    LSTM(128),\n",
    "    Dense(64, activation='relu'),\n",
    "    Dense(64, activation='relu'),\n",
    "    Dense(1),\n",
    "    Lambda(lambda x: x * 25.0)\n",
    "])\n",
    "\n",
    "lr_scheduler = LearningRateScheduler(lambda epoch: 1e-8 * 10 ** (epoch / 20))\n",
    "\n",
    "model.compile(loss=Huber(), optimizer=SGD(lr=1e-8, momentum=0.9), metrics=['mae'])\n",
    "hist = model.fit(ds, epochs=100, callbacks=[lr_scheduler], verbose=2)"
   ]
  },
  {
   "cell_type": "markdown",
   "metadata": {
    "colab_type": "text",
    "id": "kYW1WywJEOrt"
   },
   "source": [
    "Plot of the Learning Rate with the epochs"
   ]
  },
  {
   "cell_type": "code",
   "execution_count": 16,
   "metadata": {
    "colab": {
     "base_uri": "https://localhost:8080/",
     "height": 286
    },
    "colab_type": "code",
    "id": "x3iayJ0P9bw3",
    "outputId": "3fd2d90e-595b-44b3-970f-28a3f224cc96"
   },
   "outputs": [
    {
     "data": {
      "text/plain": [
       "[<matplotlib.lines.Line2D at 0x2625fd33e10>]"
      ]
     },
     "execution_count": 16,
     "metadata": {},
     "output_type": "execute_result"
    },
    {
     "data": {
      "image/png": "[encoded data removed]",
      "text/plain": [
       "<Figure size 432x288 with 1 Axes>"
      ]
     },
     "metadata": {
      "needs_background": "light"
     },
     "output_type": "display_data"
    }
   ],
   "source": [
    "plt.semilogx(hist.history['lr'], hist.history['loss'])"
   ]
  },
  {
   "cell_type": "markdown",
   "metadata": {
    "colab_type": "text",
    "id": "xM5z75BQEc5A"
   },
   "source": [
    "Selecting the best learning rate ~ 3e-5 and fitting again"
   ]
  },
  {
   "cell_type": "code",
   "execution_count": 17,
   "metadata": {
    "colab": {
     "base_uri": "https://localhost:8080/",
     "height": 1000
    },
    "colab_type": "code",
    "id": "ReDnuHfi-00U",
    "outputId": "3e59ea11-f4b3-48d6-9311-a9fd768d68b4"
   },
   "outputs": [
    {
     "name": "stdout",
     "output_type": "stream",
     "text": [
      "Epoch 1/300\n",
      "20/20 - 0s - loss: 1.6601 - mae: 2.1070\n",
      "Epoch 2/300\n",
      "20/20 - 0s - loss: 1.5849 - mae: 2.0293\n",
      "Epoch 3/300\n",
      "20/20 - 0s - loss: 1.5595 - mae: 2.0035\n",
      "Epoch 4/300\n",
      "20/20 - 0s - loss: 1.5614 - mae: 2.0063\n",
      "Epoch 5/300\n",
      "20/20 - 0s - loss: 1.5798 - mae: 2.0266\n",
      "Epoch 6/300\n",
      "20/20 - 0s - loss: 1.5506 - mae: 1.9933\n",
      "Epoch 7/300\n",
      "20/20 - 0s - loss: 1.5468 - mae: 1.9892\n",
      "Epoch 8/300\n",
      "20/20 - 0s - loss: 1.5472 - mae: 1.9897\n",
      "Epoch 9/300\n",
      "20/20 - 0s - loss: 1.5419 - mae: 1.9831\n",
      "Epoch 10/300\n",
      "20/20 - 0s - loss: 1.5413 - mae: 1.9841\n",
      "Epoch 11/300\n",
      "20/20 - 0s - loss: 1.5417 - mae: 1.9856\n",
      "Epoch 12/300\n",
      "20/20 - 0s - loss: 1.5363 - mae: 1.9783\n",
      "Epoch 13/300\n",
      "20/20 - 0s - loss: 1.5408 - mae: 1.9833\n",
      "Epoch 14/300\n",
      "20/20 - 0s - loss: 1.5383 - mae: 1.9799\n",
      "Epoch 15/300\n",
      "20/20 - 0s - loss: 1.5433 - mae: 1.9862\n",
      "Epoch 16/300\n",
      "20/20 - 0s - loss: 1.5351 - mae: 1.9768\n",
      "Epoch 17/300\n",
      "20/20 - 0s - loss: 1.5405 - mae: 1.9826\n",
      "Epoch 18/300\n",
      "20/20 - 0s - loss: 1.5328 - mae: 1.9743\n",
      "Epoch 19/300\n",
      "20/20 - 0s - loss: 1.5394 - mae: 1.9813\n",
      "Epoch 20/300\n",
      "20/20 - 0s - loss: 1.5330 - mae: 1.9743\n",
      "Epoch 21/300\n",
      "20/20 - 0s - loss: 1.5316 - mae: 1.9726\n",
      "Epoch 22/300\n",
      "20/20 - 0s - loss: 1.5316 - mae: 1.9733\n",
      "Epoch 23/300\n",
      "20/20 - 0s - loss: 1.5325 - mae: 1.9746\n",
      "Epoch 24/300\n",
      "20/20 - 0s - loss: 1.5308 - mae: 1.9723\n",
      "Epoch 25/300\n",
      "20/20 - 0s - loss: 1.5338 - mae: 1.9767\n",
      "Epoch 26/300\n",
      "20/20 - 0s - loss: 1.5421 - mae: 1.9865\n",
      "Epoch 27/300\n",
      "20/20 - 0s - loss: 1.5293 - mae: 1.9714\n",
      "Epoch 28/300\n",
      "20/20 - 0s - loss: 1.5398 - mae: 1.9801\n",
      "Epoch 29/300\n",
      "20/20 - 0s - loss: 1.5298 - mae: 1.9709\n",
      "Epoch 30/300\n",
      "20/20 - 0s - loss: 1.5405 - mae: 1.9855\n",
      "Epoch 31/300\n",
      "20/20 - 0s - loss: 1.5412 - mae: 1.9865\n",
      "Epoch 32/300\n",
      "20/20 - 0s - loss: 1.5629 - mae: 2.0081\n",
      "Epoch 33/300\n",
      "20/20 - 0s - loss: 1.5495 - mae: 1.9938\n",
      "Epoch 34/300\n",
      "20/20 - 0s - loss: 1.5231 - mae: 1.9639\n",
      "Epoch 35/300\n",
      "20/20 - 0s - loss: 1.5258 - mae: 1.9679\n",
      "Epoch 36/300\n",
      "20/20 - 0s - loss: 1.5285 - mae: 1.9707\n",
      "Epoch 37/300\n",
      "20/20 - 0s - loss: 1.5283 - mae: 1.9734\n",
      "Epoch 38/300\n",
      "20/20 - 0s - loss: 1.5241 - mae: 1.9666\n",
      "Epoch 39/300\n",
      "20/20 - 0s - loss: 1.5245 - mae: 1.9664\n",
      "Epoch 40/300\n",
      "20/20 - 0s - loss: 1.5251 - mae: 1.9661\n",
      "Epoch 41/300\n",
      "20/20 - 0s - loss: 1.5202 - mae: 1.9606\n",
      "Epoch 42/300\n",
      "20/20 - 0s - loss: 1.5206 - mae: 1.9625\n",
      "Epoch 43/300\n",
      "20/20 - 0s - loss: 1.5483 - mae: 1.9922\n",
      "Epoch 44/300\n",
      "20/20 - 0s - loss: 1.5324 - mae: 1.9734\n",
      "Epoch 45/300\n",
      "20/20 - 0s - loss: 1.5308 - mae: 1.9734\n",
      "Epoch 46/300\n",
      "20/20 - 0s - loss: 1.5234 - mae: 1.9654\n",
      "Epoch 47/300\n",
      "20/20 - 0s - loss: 1.5171 - mae: 1.9583\n",
      "Epoch 48/300\n",
      "20/20 - 0s - loss: 1.5156 - mae: 1.9561\n",
      "Epoch 49/300\n",
      "20/20 - 0s - loss: 1.5235 - mae: 1.9652\n",
      "Epoch 50/300\n",
      "20/20 - 0s - loss: 1.5147 - mae: 1.9549\n",
      "Epoch 51/300\n",
      "20/20 - 0s - loss: 1.5279 - mae: 1.9728\n",
      "Epoch 52/300\n",
      "20/20 - 0s - loss: 1.5189 - mae: 1.9586\n",
      "Epoch 53/300\n",
      "20/20 - 0s - loss: 1.5190 - mae: 1.9604\n",
      "Epoch 54/300\n",
      "20/20 - 0s - loss: 1.5289 - mae: 1.9722\n",
      "Epoch 55/300\n",
      "20/20 - 0s - loss: 1.5218 - mae: 1.9620\n",
      "Epoch 56/300\n",
      "20/20 - 0s - loss: 1.5253 - mae: 1.9684\n",
      "Epoch 57/300\n",
      "20/20 - 0s - loss: 1.5103 - mae: 1.9499\n",
      "Epoch 58/300\n",
      "20/20 - 0s - loss: 1.5111 - mae: 1.9511\n",
      "Epoch 59/300\n",
      "20/20 - 0s - loss: 1.5088 - mae: 1.9494\n",
      "Epoch 60/300\n",
      "20/20 - 0s - loss: 1.5149 - mae: 1.9562\n",
      "Epoch 61/300\n",
      "20/20 - 0s - loss: 1.5096 - mae: 1.9499\n",
      "Epoch 62/300\n",
      "20/20 - 0s - loss: 1.5114 - mae: 1.9528\n",
      "Epoch 63/300\n",
      "20/20 - 0s - loss: 1.5177 - mae: 1.9573\n",
      "Epoch 64/300\n",
      "20/20 - 0s - loss: 1.5126 - mae: 1.9536\n",
      "Epoch 65/300\n",
      "20/20 - 0s - loss: 1.5095 - mae: 1.9499\n",
      "Epoch 66/300\n",
      "20/20 - 0s - loss: 1.5105 - mae: 1.9521\n",
      "Epoch 67/300\n",
      "20/20 - 0s - loss: 1.5051 - mae: 1.9437\n",
      "Epoch 68/300\n",
      "20/20 - 0s - loss: 1.5163 - mae: 1.9584\n",
      "Epoch 69/300\n",
      "20/20 - 0s - loss: 1.5090 - mae: 1.9498\n",
      "Epoch 70/300\n",
      "20/20 - 0s - loss: 1.5095 - mae: 1.9495\n",
      "Epoch 71/300\n",
      "20/20 - 0s - loss: 1.5125 - mae: 1.9536\n",
      "Epoch 72/300\n",
      "20/20 - 0s - loss: 1.5082 - mae: 1.9504\n",
      "Epoch 73/300\n",
      "20/20 - 0s - loss: 1.5041 - mae: 1.9441\n",
      "Epoch 74/300\n",
      "20/20 - 0s - loss: 1.5131 - mae: 1.9574\n",
      "Epoch 75/300\n",
      "20/20 - 0s - loss: 1.5070 - mae: 1.9483\n",
      "Epoch 76/300\n",
      "20/20 - 0s - loss: 1.5038 - mae: 1.9444\n",
      "Epoch 77/300\n",
      "20/20 - 0s - loss: 1.5063 - mae: 1.9472\n",
      "Epoch 78/300\n",
      "20/20 - 0s - loss: 1.5023 - mae: 1.9407\n",
      "Epoch 79/300\n",
      "20/20 - 0s - loss: 1.5018 - mae: 1.9411\n",
      "Epoch 80/300\n",
      "20/20 - 0s - loss: 1.5004 - mae: 1.9404\n",
      "Epoch 81/300\n",
      "20/20 - 0s - loss: 1.5031 - mae: 1.9411\n",
      "Epoch 82/300\n",
      "20/20 - 0s - loss: 1.5049 - mae: 1.9446\n",
      "Epoch 83/300\n",
      "20/20 - 0s - loss: 1.5024 - mae: 1.9419\n",
      "Epoch 84/300\n",
      "20/20 - 0s - loss: 1.5063 - mae: 1.9477\n",
      "Epoch 85/300\n",
      "20/20 - 0s - loss: 1.5039 - mae: 1.9446\n",
      "Epoch 86/300\n",
      "20/20 - 0s - loss: 1.5053 - mae: 1.9476\n",
      "Epoch 87/300\n",
      "20/20 - 0s - loss: 1.5071 - mae: 1.9460\n",
      "Epoch 88/300\n",
      "20/20 - 0s - loss: 1.5007 - mae: 1.9391\n",
      "Epoch 89/300\n",
      "20/20 - 0s - loss: 1.4979 - mae: 1.9387\n",
      "Epoch 90/300\n",
      "20/20 - 0s - loss: 1.5012 - mae: 1.9428\n",
      "Epoch 91/300\n",
      "20/20 - 0s - loss: 1.5016 - mae: 1.9410\n",
      "Epoch 92/300\n",
      "20/20 - 0s - loss: 1.5029 - mae: 1.9433\n",
      "Epoch 93/300\n",
      "20/20 - 0s - loss: 1.4995 - mae: 1.9383\n",
      "Epoch 94/300\n",
      "20/20 - 0s - loss: 1.5072 - mae: 1.9492\n",
      "Epoch 95/300\n",
      "20/20 - 0s - loss: 1.4988 - mae: 1.9375\n",
      "Epoch 96/300\n",
      "20/20 - 0s - loss: 1.5027 - mae: 1.9427\n",
      "Epoch 97/300\n",
      "20/20 - 0s - loss: 1.4935 - mae: 1.9332\n",
      "Epoch 98/300\n",
      "20/20 - 0s - loss: 1.5002 - mae: 1.9406\n",
      "Epoch 99/300\n",
      "20/20 - 0s - loss: 1.5011 - mae: 1.9398\n",
      "Epoch 100/300\n",
      "20/20 - 0s - loss: 1.4947 - mae: 1.9356\n",
      "Epoch 101/300\n",
      "20/20 - 0s - loss: 1.4962 - mae: 1.9354\n",
      "Epoch 102/300\n",
      "20/20 - 0s - loss: 1.5097 - mae: 1.9503\n",
      "Epoch 103/300\n",
      "20/20 - 0s - loss: 1.4971 - mae: 1.9377\n",
      "Epoch 104/300\n",
      "20/20 - 0s - loss: 1.4942 - mae: 1.9339\n",
      "Epoch 105/300\n",
      "20/20 - 0s - loss: 1.4963 - mae: 1.9357\n",
      "Epoch 106/300\n",
      "20/20 - 0s - loss: 1.5003 - mae: 1.9412\n",
      "Epoch 107/300\n",
      "20/20 - 0s - loss: 1.5027 - mae: 1.9415\n",
      "Epoch 108/300\n",
      "20/20 - 0s - loss: 1.4953 - mae: 1.9343\n",
      "Epoch 109/300\n",
      "20/20 - 0s - loss: 1.4957 - mae: 1.9373\n",
      "Epoch 110/300\n",
      "20/20 - 0s - loss: 1.4957 - mae: 1.9354\n",
      "Epoch 111/300\n",
      "20/20 - 0s - loss: 1.5043 - mae: 1.9453\n",
      "Epoch 112/300\n",
      "20/20 - 0s - loss: 1.4888 - mae: 1.9284\n",
      "Epoch 113/300\n",
      "20/20 - 0s - loss: 1.4898 - mae: 1.9277\n",
      "Epoch 114/300\n",
      "20/20 - 0s - loss: 1.4951 - mae: 1.9370\n",
      "Epoch 115/300\n",
      "20/20 - 0s - loss: 1.4917 - mae: 1.9308\n",
      "Epoch 116/300\n",
      "20/20 - 0s - loss: 1.4909 - mae: 1.9298\n",
      "Epoch 117/300\n",
      "20/20 - 0s - loss: 1.4933 - mae: 1.9338\n",
      "Epoch 118/300\n",
      "20/20 - 0s - loss: 1.4983 - mae: 1.9381\n",
      "Epoch 119/300\n",
      "20/20 - 0s - loss: 1.4857 - mae: 1.9239\n",
      "Epoch 120/300\n",
      "20/20 - 0s - loss: 1.4979 - mae: 1.9407\n",
      "Epoch 121/300\n",
      "20/20 - 0s - loss: 1.4931 - mae: 1.9341\n",
      "Epoch 122/300\n",
      "20/20 - 0s - loss: 1.4895 - mae: 1.9294\n",
      "Epoch 123/300\n",
      "20/20 - 0s - loss: 1.4890 - mae: 1.9293\n",
      "Epoch 124/300\n",
      "20/20 - 0s - loss: 1.5034 - mae: 1.9413\n",
      "Epoch 125/300\n",
      "20/20 - 0s - loss: 1.4961 - mae: 1.9376\n",
      "Epoch 126/300\n",
      "20/20 - 0s - loss: 1.4880 - mae: 1.9284\n",
      "Epoch 127/300\n",
      "20/20 - 0s - loss: 1.4960 - mae: 1.9376\n",
      "Epoch 128/300\n",
      "20/20 - 0s - loss: 1.4865 - mae: 1.9255\n",
      "Epoch 129/300\n",
      "20/20 - 0s - loss: 1.4854 - mae: 1.9252\n",
      "Epoch 130/300\n",
      "20/20 - 0s - loss: 1.4906 - mae: 1.9301\n",
      "Epoch 131/300\n",
      "20/20 - 0s - loss: 1.4842 - mae: 1.9228\n",
      "Epoch 132/300\n",
      "20/20 - 0s - loss: 1.4864 - mae: 1.9283\n",
      "Epoch 133/300\n",
      "20/20 - 0s - loss: 1.4969 - mae: 1.9391\n",
      "Epoch 134/300\n",
      "20/20 - 0s - loss: 1.4886 - mae: 1.9300\n",
      "Epoch 135/300\n",
      "20/20 - 0s - loss: 1.4979 - mae: 1.9355\n",
      "Epoch 136/300\n",
      "20/20 - 0s - loss: 1.5077 - mae: 1.9507\n",
      "Epoch 137/300\n",
      "20/20 - 0s - loss: 1.5004 - mae: 1.9435\n",
      "Epoch 138/300\n",
      "20/20 - 0s - loss: 1.4845 - mae: 1.9236\n",
      "Epoch 139/300\n",
      "20/20 - 0s - loss: 1.4877 - mae: 1.9266\n",
      "Epoch 140/300\n",
      "20/20 - 0s - loss: 1.4817 - mae: 1.9226\n",
      "Epoch 141/300\n",
      "20/20 - 0s - loss: 1.5170 - mae: 1.9585\n",
      "Epoch 142/300\n",
      "20/20 - 0s - loss: 1.4869 - mae: 1.9251\n",
      "Epoch 143/300\n",
      "20/20 - 0s - loss: 1.4822 - mae: 1.9206\n",
      "Epoch 144/300\n",
      "20/20 - 0s - loss: 1.4820 - mae: 1.9212\n",
      "Epoch 145/300\n",
      "20/20 - 0s - loss: 1.4903 - mae: 1.9326\n",
      "Epoch 146/300\n",
      "20/20 - 0s - loss: 1.4994 - mae: 1.9409\n",
      "Epoch 147/300\n",
      "20/20 - 0s - loss: 1.4918 - mae: 1.9325\n",
      "Epoch 148/300\n",
      "20/20 - 0s - loss: 1.4977 - mae: 1.9398\n",
      "Epoch 149/300\n",
      "20/20 - 0s - loss: 1.4892 - mae: 1.9278\n",
      "Epoch 150/300\n",
      "20/20 - 0s - loss: 1.4797 - mae: 1.9188\n",
      "Epoch 151/300\n",
      "20/20 - 0s - loss: 1.4925 - mae: 1.9346\n",
      "Epoch 152/300\n",
      "20/20 - 0s - loss: 1.4865 - mae: 1.9262\n",
      "Epoch 153/300\n",
      "20/20 - 0s - loss: 1.4974 - mae: 1.9410\n",
      "Epoch 154/300\n",
      "20/20 - 0s - loss: 1.4962 - mae: 1.9394\n"
     ]
    },
    {
     "name": "stdout",
     "output_type": "stream",
     "text": [
      "Epoch 155/300\n",
      "20/20 - 0s - loss: 1.4982 - mae: 1.9402\n",
      "Epoch 156/300\n",
      "20/20 - 0s - loss: 1.4970 - mae: 1.9376\n",
      "Epoch 157/300\n",
      "20/20 - 0s - loss: 1.4788 - mae: 1.9171\n",
      "Epoch 158/300\n",
      "20/20 - 0s - loss: 1.5021 - mae: 1.9453\n",
      "Epoch 159/300\n",
      "20/20 - 0s - loss: 1.4882 - mae: 1.9278\n",
      "Epoch 160/300\n",
      "20/20 - 0s - loss: 1.4815 - mae: 1.9228\n",
      "Epoch 161/300\n",
      "20/20 - 0s - loss: 1.4778 - mae: 1.9163\n",
      "Epoch 162/300\n",
      "20/20 - 0s - loss: 1.4826 - mae: 1.9223\n",
      "Epoch 163/300\n",
      "20/20 - 0s - loss: 1.4802 - mae: 1.9202\n",
      "Epoch 164/300\n",
      "20/20 - 0s - loss: 1.4797 - mae: 1.9190\n",
      "Epoch 165/300\n",
      "20/20 - 0s - loss: 1.4890 - mae: 1.9301\n",
      "Epoch 166/300\n",
      "20/20 - 0s - loss: 1.4881 - mae: 1.9288\n",
      "Epoch 167/300\n",
      "20/20 - 0s - loss: 1.4760 - mae: 1.9153\n",
      "Epoch 168/300\n",
      "20/20 - 0s - loss: 1.4819 - mae: 1.9219\n",
      "Epoch 169/300\n",
      "20/20 - 0s - loss: 1.4773 - mae: 1.9158\n",
      "Epoch 170/300\n",
      "20/20 - 0s - loss: 1.4786 - mae: 1.9178\n",
      "Epoch 171/300\n",
      "20/20 - 0s - loss: 1.4744 - mae: 1.9132\n",
      "Epoch 172/300\n",
      "20/20 - 0s - loss: 1.4844 - mae: 1.9234\n",
      "Epoch 173/300\n",
      "20/20 - 0s - loss: 1.4786 - mae: 1.9178\n",
      "Epoch 174/300\n",
      "20/20 - 0s - loss: 1.4760 - mae: 1.9146\n",
      "Epoch 175/300\n",
      "20/20 - 0s - loss: 1.4819 - mae: 1.9220\n",
      "Epoch 176/300\n",
      "20/20 - 0s - loss: 1.4747 - mae: 1.9130\n",
      "Epoch 177/300\n",
      "20/20 - 0s - loss: 1.4740 - mae: 1.9124\n",
      "Epoch 178/300\n",
      "20/20 - 0s - loss: 1.4753 - mae: 1.9154\n",
      "Epoch 179/300\n",
      "20/20 - 0s - loss: 1.4811 - mae: 1.9203\n",
      "Epoch 180/300\n",
      "20/20 - 0s - loss: 1.4824 - mae: 1.9215\n",
      "Epoch 181/300\n",
      "20/20 - 0s - loss: 1.4779 - mae: 1.9176\n",
      "Epoch 182/300\n",
      "20/20 - 0s - loss: 1.4739 - mae: 1.9125\n",
      "Epoch 183/300\n",
      "20/20 - 0s - loss: 1.4781 - mae: 1.9169\n",
      "Epoch 184/300\n",
      "20/20 - 0s - loss: 1.4736 - mae: 1.9146\n",
      "Epoch 185/300\n",
      "20/20 - 0s - loss: 1.4770 - mae: 1.9167\n",
      "Epoch 186/300\n",
      "20/20 - 0s - loss: 1.4907 - mae: 1.9321\n",
      "Epoch 187/300\n",
      "20/20 - 0s - loss: 1.4740 - mae: 1.9125\n",
      "Epoch 188/300\n",
      "20/20 - 0s - loss: 1.4729 - mae: 1.9123\n",
      "Epoch 189/300\n",
      "20/20 - 0s - loss: 1.4788 - mae: 1.9182\n",
      "Epoch 190/300\n",
      "20/20 - 0s - loss: 1.4730 - mae: 1.9131\n",
      "Epoch 191/300\n",
      "20/20 - 0s - loss: 1.4865 - mae: 1.9256\n",
      "Epoch 192/300\n",
      "20/20 - 0s - loss: 1.4711 - mae: 1.9094\n",
      "Epoch 193/300\n",
      "20/20 - 0s - loss: 1.4748 - mae: 1.9149\n",
      "Epoch 194/300\n",
      "20/20 - 0s - loss: 1.4971 - mae: 1.9368\n",
      "Epoch 195/300\n",
      "20/20 - 0s - loss: 1.4858 - mae: 1.9268\n",
      "Epoch 196/300\n",
      "20/20 - 0s - loss: 1.4812 - mae: 1.9205\n",
      "Epoch 197/300\n",
      "20/20 - 0s - loss: 1.4889 - mae: 1.9278\n",
      "Epoch 198/300\n",
      "20/20 - 0s - loss: 1.4690 - mae: 1.9084\n",
      "Epoch 199/300\n",
      "20/20 - 0s - loss: 1.4729 - mae: 1.9101\n",
      "Epoch 200/300\n",
      "20/20 - 0s - loss: 1.4722 - mae: 1.9117\n",
      "Epoch 201/300\n",
      "20/20 - 0s - loss: 1.4812 - mae: 1.9206\n",
      "Epoch 202/300\n",
      "20/20 - 0s - loss: 1.4700 - mae: 1.9082\n",
      "Epoch 203/300\n",
      "20/20 - 0s - loss: 1.4694 - mae: 1.9090\n",
      "Epoch 204/300\n",
      "20/20 - 0s - loss: 1.4678 - mae: 1.9068\n",
      "Epoch 205/300\n",
      "20/20 - 0s - loss: 1.4695 - mae: 1.9092\n",
      "Epoch 206/300\n",
      "20/20 - 0s - loss: 1.4729 - mae: 1.9108\n",
      "Epoch 207/300\n",
      "20/20 - 0s - loss: 1.4684 - mae: 1.9074\n",
      "Epoch 208/300\n",
      "20/20 - 0s - loss: 1.4702 - mae: 1.9097\n",
      "Epoch 209/300\n",
      "20/20 - 0s - loss: 1.4700 - mae: 1.9082\n",
      "Epoch 210/300\n",
      "20/20 - 0s - loss: 1.4701 - mae: 1.9102\n",
      "Epoch 211/300\n",
      "20/20 - 0s - loss: 1.4673 - mae: 1.9068\n",
      "Epoch 212/300\n",
      "20/20 - 0s - loss: 1.4727 - mae: 1.9127\n",
      "Epoch 213/300\n",
      "20/20 - 0s - loss: 1.4691 - mae: 1.9073\n",
      "Epoch 214/300\n",
      "20/20 - 0s - loss: 1.4736 - mae: 1.9118\n",
      "Epoch 215/300\n",
      "20/20 - 0s - loss: 1.4690 - mae: 1.9085\n",
      "Epoch 216/300\n",
      "20/20 - 0s - loss: 1.4694 - mae: 1.9092\n",
      "Epoch 217/300\n",
      "20/20 - 0s - loss: 1.4704 - mae: 1.9115\n",
      "Epoch 218/300\n",
      "20/20 - 0s - loss: 1.4684 - mae: 1.9072\n",
      "Epoch 219/300\n",
      "20/20 - 0s - loss: 1.4883 - mae: 1.9282\n",
      "Epoch 220/300\n",
      "20/20 - 0s - loss: 1.4747 - mae: 1.9138\n",
      "Epoch 221/300\n",
      "20/20 - 0s - loss: 1.4685 - mae: 1.9087\n",
      "Epoch 222/300\n",
      "20/20 - 0s - loss: 1.4752 - mae: 1.9146\n",
      "Epoch 223/300\n",
      "20/20 - 0s - loss: 1.5241 - mae: 1.9686\n",
      "Epoch 224/300\n",
      "20/20 - 0s - loss: 1.4791 - mae: 1.9176\n",
      "Epoch 225/300\n",
      "20/20 - 0s - loss: 1.4659 - mae: 1.9044\n",
      "Epoch 226/300\n",
      "20/20 - 0s - loss: 1.4722 - mae: 1.9133\n",
      "Epoch 227/300\n",
      "20/20 - 0s - loss: 1.4704 - mae: 1.9096\n",
      "Epoch 228/300\n",
      "20/20 - 0s - loss: 1.4770 - mae: 1.9172\n",
      "Epoch 229/300\n",
      "20/20 - 0s - loss: 1.4754 - mae: 1.9157\n",
      "Epoch 230/300\n",
      "20/20 - 0s - loss: 1.4757 - mae: 1.9135\n",
      "Epoch 231/300\n",
      "20/20 - 0s - loss: 1.4718 - mae: 1.9111\n",
      "Epoch 232/300\n",
      "20/20 - 0s - loss: 1.4646 - mae: 1.9029\n",
      "Epoch 233/300\n",
      "20/20 - 0s - loss: 1.4660 - mae: 1.9064\n",
      "Epoch 234/300\n",
      "20/20 - 0s - loss: 1.4954 - mae: 1.9358\n",
      "Epoch 235/300\n",
      "20/20 - 0s - loss: 1.4852 - mae: 1.9255\n",
      "Epoch 236/300\n",
      "20/20 - 0s - loss: 1.4742 - mae: 1.9149\n",
      "Epoch 237/300\n",
      "20/20 - 0s - loss: 1.4680 - mae: 1.9062\n",
      "Epoch 238/300\n",
      "20/20 - 0s - loss: 1.4774 - mae: 1.9170\n",
      "Epoch 239/300\n",
      "20/20 - 0s - loss: 1.4665 - mae: 1.9065\n",
      "Epoch 240/300\n",
      "20/20 - 0s - loss: 1.4962 - mae: 1.9406\n",
      "Epoch 241/300\n",
      "20/20 - 0s - loss: 1.4803 - mae: 1.9197\n",
      "Epoch 242/300\n",
      "20/20 - 0s - loss: 1.4849 - mae: 1.9244\n",
      "Epoch 243/300\n",
      "20/20 - 0s - loss: 1.4679 - mae: 1.9063\n",
      "Epoch 244/300\n",
      "20/20 - 0s - loss: 1.4753 - mae: 1.9161\n",
      "Epoch 245/300\n",
      "20/20 - 0s - loss: 1.4635 - mae: 1.9012\n",
      "Epoch 246/300\n",
      "20/20 - 0s - loss: 1.4640 - mae: 1.9030\n",
      "Epoch 247/300\n",
      "20/20 - 0s - loss: 1.4676 - mae: 1.9075\n",
      "Epoch 248/300\n",
      "20/20 - 0s - loss: 1.4653 - mae: 1.9041\n",
      "Epoch 249/300\n",
      "20/20 - 0s - loss: 1.4666 - mae: 1.9063\n",
      "Epoch 250/300\n",
      "20/20 - 0s - loss: 1.4680 - mae: 1.9066\n",
      "Epoch 251/300\n",
      "20/20 - 0s - loss: 1.4815 - mae: 1.9233\n",
      "Epoch 252/300\n",
      "20/20 - 0s - loss: 1.4643 - mae: 1.9008\n",
      "Epoch 253/300\n",
      "20/20 - 0s - loss: 1.4689 - mae: 1.9085\n",
      "Epoch 254/300\n",
      "20/20 - 0s - loss: 1.4644 - mae: 1.9036\n",
      "Epoch 255/300\n",
      "20/20 - 0s - loss: 1.4662 - mae: 1.9066\n",
      "Epoch 256/300\n",
      "20/20 - 0s - loss: 1.4689 - mae: 1.9081\n",
      "Epoch 257/300\n",
      "20/20 - 0s - loss: 1.4611 - mae: 1.8998\n",
      "Epoch 258/300\n",
      "20/20 - 0s - loss: 1.4636 - mae: 1.9012\n",
      "Epoch 259/300\n",
      "20/20 - 0s - loss: 1.4648 - mae: 1.9037\n",
      "Epoch 260/300\n",
      "20/20 - 0s - loss: 1.4612 - mae: 1.9010\n",
      "Epoch 261/300\n",
      "20/20 - 0s - loss: 1.4684 - mae: 1.9081\n",
      "Epoch 262/300\n",
      "20/20 - 0s - loss: 1.4714 - mae: 1.9115\n",
      "Epoch 263/300\n",
      "20/20 - 0s - loss: 1.4652 - mae: 1.9034\n",
      "Epoch 264/300\n",
      "20/20 - 0s - loss: 1.5062 - mae: 1.9488\n",
      "Epoch 265/300\n",
      "20/20 - 0s - loss: 1.4620 - mae: 1.9005\n",
      "Epoch 266/300\n",
      "20/20 - 0s - loss: 1.4650 - mae: 1.9057\n",
      "Epoch 267/300\n",
      "20/20 - 0s - loss: 1.4655 - mae: 1.9056\n",
      "Epoch 268/300\n",
      "20/20 - 0s - loss: 1.4629 - mae: 1.9017\n",
      "Epoch 269/300\n",
      "20/20 - 0s - loss: 1.4888 - mae: 1.9273\n",
      "Epoch 270/300\n",
      "20/20 - 0s - loss: 1.4682 - mae: 1.9086\n",
      "Epoch 271/300\n",
      "20/20 - 0s - loss: 1.4727 - mae: 1.9151\n",
      "Epoch 272/300\n",
      "20/20 - 0s - loss: 1.4640 - mae: 1.9021\n",
      "Epoch 273/300\n",
      "20/20 - 0s - loss: 1.4701 - mae: 1.9093\n",
      "Epoch 274/300\n",
      "20/20 - 0s - loss: 1.4748 - mae: 1.9163\n",
      "Epoch 275/300\n",
      "20/20 - 0s - loss: 1.4856 - mae: 1.9268\n",
      "Epoch 276/300\n",
      "20/20 - 0s - loss: 1.4759 - mae: 1.9189\n",
      "Epoch 277/300\n",
      "20/20 - 0s - loss: 1.4694 - mae: 1.9081\n",
      "Epoch 278/300\n",
      "20/20 - 0s - loss: 1.4824 - mae: 1.9241\n",
      "Epoch 279/300\n",
      "20/20 - 0s - loss: 1.4744 - mae: 1.9162\n",
      "Epoch 280/300\n",
      "20/20 - 0s - loss: 1.4783 - mae: 1.9198\n",
      "Epoch 281/300\n",
      "20/20 - 0s - loss: 1.4721 - mae: 1.9112\n",
      "Epoch 282/300\n",
      "20/20 - 0s - loss: 1.4752 - mae: 1.9147\n",
      "Epoch 283/300\n",
      "20/20 - 0s - loss: 1.4715 - mae: 1.9112\n",
      "Epoch 284/300\n",
      "20/20 - 0s - loss: 1.4877 - mae: 1.9304\n",
      "Epoch 285/300\n",
      "20/20 - 0s - loss: 1.4779 - mae: 1.9164\n",
      "Epoch 286/300\n",
      "20/20 - 0s - loss: 1.4582 - mae: 1.8973\n",
      "Epoch 287/300\n",
      "20/20 - 0s - loss: 1.4614 - mae: 1.8996\n",
      "Epoch 288/300\n",
      "20/20 - 0s - loss: 1.4710 - mae: 1.9121\n",
      "Epoch 289/300\n",
      "20/20 - 0s - loss: 1.4633 - mae: 1.9033\n",
      "Epoch 290/300\n",
      "20/20 - 0s - loss: 1.4641 - mae: 1.9011\n",
      "Epoch 291/300\n",
      "20/20 - 0s - loss: 1.4662 - mae: 1.9070\n",
      "Epoch 292/300\n",
      "20/20 - 0s - loss: 1.4602 - mae: 1.8984\n",
      "Epoch 293/300\n",
      "20/20 - 0s - loss: 1.4901 - mae: 1.9291\n",
      "Epoch 294/300\n",
      "20/20 - 0s - loss: 1.4573 - mae: 1.8952\n",
      "Epoch 295/300\n",
      "20/20 - 0s - loss: 1.4696 - mae: 1.9108\n",
      "Epoch 296/300\n",
      "20/20 - 0s - loss: 1.4693 - mae: 1.9088\n",
      "Epoch 297/300\n",
      "20/20 - 0s - loss: 1.4650 - mae: 1.9043\n",
      "Epoch 298/300\n",
      "20/20 - 0s - loss: 1.4622 - mae: 1.9021\n",
      "Epoch 299/300\n",
      "20/20 - 0s - loss: 1.4672 - mae: 1.9035\n",
      "Epoch 300/300\n",
      "20/20 - 0s - loss: 1.4639 - mae: 1.9018\n"
     ]
    }
   ],
   "source": [
    "model.compile(loss=Huber(), optimizer=SGD(lr=3e-5, momentum=0.9), metrics=['mae'])\n",
    "history = model.fit(ds, epochs=300, verbose=2)"
   ]
  },
  {
   "cell_type": "markdown",
   "metadata": {
    "colab_type": "text",
    "id": "e_-GERViEkt7"
   },
   "source": [
    "Getting the forecasts"
   ]
  },
  {
   "cell_type": "code",
   "execution_count": 23,
   "metadata": {},
   "outputs": [
    {
     "data": {
      "text/plain": [
       "(3650, 1)"
      ]
     },
     "execution_count": 23,
     "metadata": {},
     "output_type": "execute_result"
    }
   ],
   "source": [
    "temps[..., np.newaxis].shape"
   ]
  },
  {
   "cell_type": "code",
   "execution_count": 18,
   "metadata": {
    "colab": {
     "base_uri": "https://localhost:8080/",
     "height": 138
    },
    "colab_type": "code",
    "id": "UP56Fkak-99d",
    "outputId": "51516859-790c-4262-ac96-4d4e34097a49"
   },
   "outputs": [
    {
     "data": {
      "text/plain": [
       "array([[16.524393 ],\n",
       "       [17.214851 ],\n",
       "       [16.698637 ],\n",
       "       ...,\n",
       "       [13.8430805],\n",
       "       [14.942802 ],\n",
       "       [13.526173 ]], dtype=float32)"
      ]
     },
     "execution_count": 18,
     "metadata": {},
     "output_type": "execute_result"
    }
   ],
   "source": [
    "forecast = get_forecast(model, temps[..., np.newaxis], WINDOW_SIZE, BATCH_SIZE, BUFFER_SIZE)\n",
    "forecast"
   ]
  },
  {
   "cell_type": "code",
   "execution_count": 19,
   "metadata": {},
   "outputs": [
    {
     "data": {
      "text/plain": [
       "(3591, 1)"
      ]
     },
     "execution_count": 19,
     "metadata": {},
     "output_type": "execute_result"
    }
   ],
   "source": [
    "forecast.shape"
   ]
  },
  {
   "cell_type": "markdown",
   "metadata": {
    "colab_type": "text",
    "id": "J0_GoAH6Epg1"
   },
   "source": [
    "Getting the result (Forecasts only on the validation set)"
   ]
  },
  {
   "cell_type": "code",
   "execution_count": 20,
   "metadata": {
    "colab": {
     "base_uri": "https://localhost:8080/",
     "height": 52
    },
    "colab_type": "code",
    "id": "vukvHiF2Aqhh",
    "outputId": "25617d1d-8cea-4652-b1fe-43717294cf2f"
   },
   "outputs": [
    {
     "data": {
      "text/plain": [
       "array([12.4575   , 11.824324 , 12.695397 , ..., 13.750881 , 13.8430805,\n",
       "       14.942802 ], dtype=float32)"
      ]
     },
     "execution_count": 20,
     "metadata": {},
     "output_type": "execute_result"
    }
   ],
   "source": [
    "result = forecast[split_time - WINDOW_SIZE: -1, 0]\n",
    "result"
   ]
  },
  {
   "cell_type": "code",
   "execution_count": 24,
   "metadata": {},
   "outputs": [
    {
     "data": {
      "text/plain": [
       "(1150,)"
      ]
     },
     "execution_count": 24,
     "metadata": {},
     "output_type": "execute_result"
    }
   ],
   "source": [
    "result.shape"
   ]
  },
  {
   "cell_type": "markdown",
   "metadata": {
    "colab_type": "text",
    "id": "y__DhfK6ExRT"
   },
   "source": [
    "Plot of the actual validation set values alongwith the predicted"
   ]
  },
  {
   "cell_type": "code",
   "execution_count": 22,
   "metadata": {
    "colab": {
     "base_uri": "https://localhost:8080/",
     "height": 312
    },
    "colab_type": "code",
    "id": "ai0OtIiiAsK4",
    "outputId": "bfe11374-a869-4855-a86c-a16d0baa8663"
   },
   "outputs": [
    {
     "data": {
      "text/plain": [
       "<matplotlib.legend.Legend at 0x7f21423cc9b0>"
      ]
     },
     "execution_count": 22,
     "metadata": {
      "tags": []
     },
     "output_type": "execute_result"
    },
    {
     "data": {
      "image/png": "[encoded data removed]",
      "text/plain": [
       "<Figure size 432x288 with 1 Axes>"
      ]
     },
     "metadata": {
      "needs_background": "light",
      "tags": []
     },
     "output_type": "display_data"
    }
   ],
   "source": [
    "plot_series(val_steps, val_temps,\"val\")\n",
    "plot_series(val_steps, result, \"predicted\")\n",
    "plt.legend(['Actual', 'Predicted'])\n"
   ]
  },
  {
   "cell_type": "markdown",
   "metadata": {
    "colab_type": "text",
    "id": "AwK2KR3bE2Bg"
   },
   "source": [
    "Mean Absolute Error"
   ]
  },
  {
   "cell_type": "code",
   "execution_count": 23,
   "metadata": {
    "colab": {
     "base_uri": "https://localhost:8080/",
     "height": 35
    },
    "colab_type": "code",
    "id": "xqQ2NRbGAtlA",
    "outputId": "8d90493e-ba8d-43e6-81c1-239bf75eec49"
   },
   "outputs": [
    {
     "data": {
      "text/plain": [
       "1.7876"
      ]
     },
     "execution_count": 23,
     "metadata": {
      "tags": []
     },
     "output_type": "execute_result"
    }
   ],
   "source": [
    "mean_absolute_error(val_temps, result).numpy()\n"
   ]
  },
  {
   "cell_type": "markdown",
   "metadata": {
    "colab_type": "text",
    "id": "I0a78NfyE4Dy"
   },
   "source": [
    "Wow, this is an amazing MAE and the model's prediction is very close as evident from the plot!"
   ]
  },
  {
   "cell_type": "markdown",
   "metadata": {
    "colab_type": "text",
    "id": "Djx28NdNGLwh"
   },
   "source": [
    "Plotting the Huber Loss v MAE"
   ]
  },
  {
   "cell_type": "code",
   "execution_count": 25,
   "metadata": {
    "colab": {
     "base_uri": "https://localhost:8080/",
     "height": 298
    },
    "colab_type": "code",
    "id": "I8ziHOkHAxtm",
    "outputId": "2c012631-fd23-42fc-e727-19dd0942f03b"
   },
   "outputs": [
    {
     "data": {
      "text/plain": [
       "<matplotlib.legend.Legend at 0x7f214225b7f0>"
      ]
     },
     "execution_count": 25,
     "metadata": {
      "tags": []
     },
     "output_type": "execute_result"
    },
    {
     "data": {
      "image/png": "[encoded data removed]",
      "text/plain": [
       "<Figure size 432x288 with 1 Axes>"
      ]
     },
     "metadata": {
      "needs_background": "light",
      "tags": []
     },
     "output_type": "display_data"
    }
   ],
   "source": [
    "loss = history.history['loss']\n",
    "mae = history.history['mae']\n",
    "\n",
    "epochs = range(300)\n",
    "plt.plot(epochs, loss)\n",
    "plt.plot(epochs, mae)\n",
    "plt.title('Loss v MAE')\n",
    "plt.legend(['Loss', 'MAE'])\n"
   ]
  },
  {
   "cell_type": "markdown",
   "metadata": {
    "colab_type": "text",
    "id": "pSSfvIMFGQZe"
   },
   "source": [
    "As we can see some instablility in the late rpart, let's zoom in a bit to check whether it's not a big noise"
   ]
  },
  {
   "cell_type": "code",
   "execution_count": 26,
   "metadata": {
    "colab": {
     "base_uri": "https://localhost:8080/",
     "height": 298
    },
    "colab_type": "code",
    "id": "OFM65k-BGBhH",
    "outputId": "69c78fa3-7176-4668-bd12-7b1c0a7cae09"
   },
   "outputs": [
    {
     "data": {
      "text/plain": [
       "<matplotlib.legend.Legend at 0x7f21421af4e0>"
      ]
     },
     "execution_count": 26,
     "metadata": {
      "tags": []
     },
     "output_type": "execute_result"
    },
    {
     "data": {
      "image/png": "[encoded data removed]",
      "text/plain": [
       "<Figure size 432x288 with 1 Axes>"
      ]
     },
     "metadata": {
      "needs_background": "light",
      "tags": []
     },
     "output_type": "display_data"
    }
   ],
   "source": [
    "epochs_zoom = epochs[-100:]\n",
    "zoom_loss = loss[-100:]\n",
    "zoom_mae = mae[-100:]\n",
    "plt.plot(epochs_zoom, zoom_loss)\n",
    "plt.plot(epochs_zoom, zoom_mae)\n",
    "plt.title('Zoomed Loss v MAE')\n",
    "plt.legend(['Loss', 'MAE'])"
   ]
  },
  {
   "cell_type": "markdown",
   "metadata": {
    "colab_type": "text",
    "id": "UpjsPHFIGbsy"
   },
   "source": [
    "It's actually quite stable. This is a good sign.\n",
    "\n",
    "**In this way, using a combination of Keras Conv1D, LSTM, and Dense layers, a very good prediction of daily min. temperatures has been achieved!**"
   ]
  },
  {
   "cell_type": "code",
   "execution_count": null,
   "metadata": {
    "colab": {},
    "colab_type": "code",
    "id": "bnf6o_RyGKJT"
   },
   "outputs": [],
   "source": []
  }
 ],
 "metadata": {
  "accelerator": "GPU",
  "colab": {
   "authorship_tag": "ABX9TyPzUc4lkR2Hf/WLqjZR9Vkl",
   "include_colab_link": true,
   "name": "daily-min-temp.ipynb",
   "provenance": []
  },
  "kernelspec": {
   "display_name": "Python 3",
   "language": "python",
   "name": "python3"
  },
  "language_info": {
   "codemirror_mode": {
    "name": "ipython",
    "version": 3
   },
   "file_extension": ".py",
   "mimetype": "text/x-python",
   "name": "python",
   "nbconvert_exporter": "python",
   "pygments_lexer": "ipython3",
   "version": "3.7.3"
  }
 },
 "nbformat": 4,
 "nbformat_minor": 1
}
